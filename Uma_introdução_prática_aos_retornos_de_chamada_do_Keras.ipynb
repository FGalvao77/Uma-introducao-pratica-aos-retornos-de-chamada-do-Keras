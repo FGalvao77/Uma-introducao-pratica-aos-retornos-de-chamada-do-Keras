{
  "nbformat": 4,
  "nbformat_minor": 0,
  "metadata": {
    "colab": {
      "name": "Uma introdução prática aos retornos de chamada do Keras.ipynb",
      "provenance": [],
      "collapsed_sections": [],
      "authorship_tag": "ABX9TyMBFd0NdZaRTUESihxfQ2pQ",
      "include_colab_link": true
    },
    "kernelspec": {
      "name": "python3",
      "display_name": "Python 3"
    },
    "language_info": {
      "name": "python"
    }
  },
  "cells": [
    {
      "cell_type": "markdown",
      "metadata": {
        "id": "view-in-github",
        "colab_type": "text"
      },
      "source": [
        "<a href=\"https://colab.research.google.com/github/FGalvao77/Uma-introducao-pratica-aos-retornos-de-chamada-do-Keras/blob/main/Uma_introdu%C3%A7%C3%A3o_pr%C3%A1tica_aos_retornos_de_chamada_do_Keras.ipynb\" target=\"_parent\"><img src=\"https://colab.research.google.com/assets/colab-badge.svg\" alt=\"Open In Colab\"/></a>"
      ]
    },
    {
      "cell_type": "markdown",
      "metadata": {
        "id": "QN4XAHa8_7Wz"
      },
      "source": [
        "# **Uma introdução prática aos retornos de chamada do `Keras`**\n",
        "\n",
        "---\n",
        "\n"
      ]
    },
    {
      "cell_type": "markdown",
      "metadata": {
        "id": "KiQmNnXYA5mn"
      },
      "source": [
        "![image.png](data:image/png;base64,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)"
      ]
    },
    {
      "cell_type": "markdown",
      "metadata": {
        "id": "tkDt8gcsBDGW"
      },
      "source": [
        "- https://keras.io/api/callbacks/"
      ]
    },
    {
      "cell_type": "markdown",
      "metadata": {
        "id": "io4Z_dLeBQ4p"
      },
      "source": [
        "### **1. Introdução**"
      ]
    },
    {
      "cell_type": "markdown",
      "metadata": {
        "id": "g8tMq2o0BZyT"
      },
      "source": [
        "Iremos aprender com esse tutorial aplicação das **APIs de retorno de chamada** do `Keras` mais comumente usadas.\n",
        "\n",
        "Ao treinar um modelo de aprendizado de máquina, gostaríamos de ter a capacidade de monitorar o desempenho do modelo e executar certas ações dependendo dessas medidas de desempenho. É aí que entram os _retornos de chamada_ do Keras.\n",
        "\n",
        "_`Callbacks` são um tipo importante de objeto TensorFlow e Keras que são projetados para monitorar o desempenho das métricas em certos pontos da execução do treinamento e realizar alguma ação que pode depender desse desempenho nos valores das métricas._"
      ]
    },
    {
      "cell_type": "markdown",
      "metadata": {
        "id": "YTy7UGctCEoA"
      },
      "source": [
        "Exploraremos as seguintes APIs mais populares de retorno de chamada, são elas:\n",
        "\n",
        "1. `EarlyStopping`: um retorno de chamada projetado para parada precoce;\n",
        "2. `CSVLogger`: um retorno de chamada transmite resultados de época para um arquivo CSV;\n",
        "3. `ModelCheckpoint`: um retorno de chamada para salvar o modelo Keras ou o peso do modelo durante o treinamento;\n",
        "4. `ReduceLROnPlateau`: um retorno de chamada para reduzir a taxa de aprendizagem quando uma métrica para de melhorar;\n",
        "5. `LearningRateScheduler`: um retorno de chamada para programações de taxas de aprendizagem e,\n",
        "6. `LambdaCallback`: um retorno de chamada para criar retornos de chamada personalizados dinamicamente."
      ]
    },
    {
      "cell_type": "markdown",
      "metadata": {
        "id": "bG7ezysHC58l"
      },
      "source": [
        "Depois dessa breve introdução, vamos entender melhor com exemplos práticos!\n",
        "\n",
        "_Let's go baby!!!_"
      ]
    },
    {
      "cell_type": "markdown",
      "metadata": {
        "id": "r2d9Yc6EECFc"
      },
      "source": [
        "### **2. Preparando o ambiente**"
      ]
    },
    {
      "cell_type": "code",
      "metadata": {
        "id": "oyWk1hVn_2GX"
      },
      "source": [
        "# importando as bibliotecas e as funções\n",
        "import os\n",
        "os.environ['KMP_DUPLICATE_LIB_OK'] = 'True'\n",
        "\n",
        "import tensorflow as tf\n",
        "from tensorflow import keras\n",
        "import matplotlib.pyplot as plt\n",
        "\n",
        "%matplotlib inline\n",
        "%config InlineBackend.figure_format = 'svg'"
      ],
      "execution_count": null,
      "outputs": []
    },
    {
      "cell_type": "markdown",
      "metadata": {
        "id": "W9zYNNheFLRM"
      },
      "source": [
        "**Função auxiliar para as métricas**"
      ]
    },
    {
      "cell_type": "code",
      "metadata": {
        "id": "Di0TRPZqBGCe"
      },
      "source": [
        "# função para as métricas\n",
        "def plot_metric(history, metric):\n",
        "    train_metrics = history.history[metric]\n",
        "    val_metrics = history.history['val_' + metric]\n",
        "    epochs = range(1, len(train_metrics) + 1)\n",
        "\n",
        "    plt.plot(epochs, train_metrics)\n",
        "    plt.plot(epochs, val_metrics)\n",
        "    plt.title('Training & Validation - ' + metric)\n",
        "\n",
        "    plt.xlabel('Epochs')\n",
        "    plt.ylabel(metric)\n",
        "    plt.legend(['train_' + metric, \n",
        "                'val_' + metric])\n",
        "    \n",
        "    plt.show();"
      ],
      "execution_count": null,
      "outputs": []
    },
    {
      "cell_type": "code",
      "metadata": {
        "id": "mFrcZCPmBF_e"
      },
      "source": [
        "# função para taxa de aprendizagem\n",
        "def plot_learning_rate(history):\n",
        "    learning_rate = history.history['lr']\n",
        "    epochs = range(1, len(learning_rate) + 1)\n",
        "\n",
        "    plt.plot(epochs, learning_rate)\n",
        "    plt.title('Learning rate')\n",
        "    plt.xlabel('Epochs')\n",
        "    plt.ylabel('Learning rate')\n",
        "\n",
        "    plt.show();"
      ],
      "execution_count": null,
      "outputs": []
    },
    {
      "cell_type": "code",
      "metadata": {
        "id": "_R5nMj4kBF9N"
      },
      "source": [
        "# função para avaliação da acurácia e perda do teste\n",
        "def get_test_accuracy(model, x_test, y_test):\n",
        "    test_loss, test_acc = model.evaluate(x = x_test,\n",
        "                                         y = y_test, \n",
        "                                         verbose=0)\n",
        "    \n",
        "    print('accuracy: {acc:0.3f}'.format(acc = test_acc))\n",
        "    print('loss: {acc:0.3f}'.format(acc = test_loss))"
      ],
      "execution_count": null,
      "outputs": []
    },
    {
      "cell_type": "markdown",
      "metadata": {
        "id": "3GNNF2_OJiAg"
      },
      "source": [
        "### **3. Importando o conjunto de dados**"
      ]
    },
    {
      "cell_type": "markdown",
      "metadata": {
        "id": "DIICUWvxJoAv"
      },
      "source": [
        "Para atividade prática, utilizaremos o famoso **dataset** `Fashion MNIST` que, por sinal já vem embutido dentro do _Keras_.\n",
        "\n",
        "Podemos importá-lo utilizando o seguinte comando.\n",
        "\n",
        "```python\n",
        "keras.datasets.fashion_mnist\n",
        "```"
      ]
    },
    {
      "cell_type": "code",
      "metadata": {
        "id": "oASuY305BF65"
      },
      "source": [
        "# importando o conjunto de dados e instanciando na variável \"fashion_mnist\"\n",
        "fashion_mnist = keras.datasets.fashion_mnist"
      ],
      "execution_count": null,
      "outputs": []
    },
    {
      "cell_type": "code",
      "metadata": {
        "id": "_rWKzXOEBF4u"
      },
      "source": [
        "# realizando a separação entre dados de treino e teste\n",
        "(X_train_full, y_train_full), (X_test, y_test) = fashion_mnist.load_data()"
      ],
      "execution_count": null,
      "outputs": []
    },
    {
      "cell_type": "code",
      "metadata": {
        "colab": {
          "base_uri": "https://localhost:8080/"
        },
        "id": "UmnxgteIBF2u",
        "outputId": "c28fe382-2389-40a8-a852-4ba7a2d7482e"
      },
      "source": [
        "# visualizando a dimensão dos dados particionados\n",
        "X_train_full.shape, y_train_full.shape, X_test.shape, y_test.shape"
      ],
      "execution_count": null,
      "outputs": [
        {
          "output_type": "execute_result",
          "data": {
            "text/plain": [
              "((60000, 28, 28), (60000,), (10000, 28, 28), (10000,))"
            ]
          },
          "metadata": {},
          "execution_count": 7
        }
      ]
    },
    {
      "cell_type": "code",
      "metadata": {
        "colab": {
          "base_uri": "https://localhost:8080/"
        },
        "id": "19YXSLaKBF0Y",
        "outputId": "671eb903-9e68-4048-b8ca-7b452e7a3a5d"
      },
      "source": [
        "# visualizando o tipo do objeto\n",
        "X_train_full.dtype"
      ],
      "execution_count": null,
      "outputs": [
        {
          "output_type": "execute_result",
          "data": {
            "text/plain": [
              "dtype('uint8')"
            ]
          },
          "metadata": {},
          "execution_count": 8
        }
      ]
    },
    {
      "cell_type": "code",
      "metadata": {
        "id": "BbbOGQRjBFyI"
      },
      "source": [
        "# para um treinamento mais rápido, vamos usar um subconjunto de 10.000 imagens\n",
        "X_train, y_train = X_train_full[:10_000] / 255.0, y_train_full[:10_000]"
      ],
      "execution_count": null,
      "outputs": []
    },
    {
      "cell_type": "code",
      "metadata": {
        "colab": {
          "base_uri": "https://localhost:8080/"
        },
        "id": "tn_4xgY4BFwK",
        "outputId": "8a53ff92-c38c-4f47-96dc-c71262e3f7d8"
      },
      "source": [
        "# visualizando a dimensão dos dados de treino\n",
        "X_train.shape, y_train.shape"
      ],
      "execution_count": null,
      "outputs": [
        {
          "output_type": "execute_result",
          "data": {
            "text/plain": [
              "((10000, 28, 28), (10000,))"
            ]
          },
          "metadata": {},
          "execution_count": 10
        }
      ]
    },
    {
      "cell_type": "markdown",
      "metadata": {
        "id": "krTR22YVNtQ7"
      },
      "source": [
        "### **4. Construindo o modelo**"
      ]
    },
    {
      "cell_type": "code",
      "metadata": {
        "id": "2cUPkzbJM7iP"
      },
      "source": [
        "# importando as funções necessaŕias para construção do modelo e suas camadas\n",
        "from tensorflow.keras.models import Sequential\n",
        "from tensorflow.keras.layers import Dense, Flatten"
      ],
      "execution_count": null,
      "outputs": []
    },
    {
      "cell_type": "code",
      "metadata": {
        "id": "Zu6zzmyNM7RV"
      },
      "source": [
        "# criando uma função para aplicação do modelo \n",
        "def create_model():  \n",
        "    model = Sequential([\n",
        "        Flatten(input_shape=(28, 28)),\n",
        "        Dense(300, activation='relu'),\n",
        "        Dense(100, activation='relu'),\n",
        "        Dense(10, activation='softmax'),\n",
        "    ])\n",
        "\n",
        "    model.compile(\n",
        "        optimizer='sgd', \n",
        "        loss='sparse_categorical_crossentropy', \n",
        "        metrics=['accuracy']\n",
        "    )\n",
        "\n",
        "    return model"
      ],
      "execution_count": null,
      "outputs": []
    },
    {
      "cell_type": "code",
      "metadata": {
        "colab": {
          "base_uri": "https://localhost:8080/"
        },
        "id": "ff5LEjpIM7dH",
        "outputId": "a590cc0d-7618-467a-db4e-4cee891bb65f"
      },
      "source": [
        "# instanciando a função do modelo criado\n",
        "model = create_model()\n",
        "\n",
        "# visualizando o sumaŕio do modelo\n",
        "model.summary()"
      ],
      "execution_count": null,
      "outputs": [
        {
          "output_type": "stream",
          "name": "stdout",
          "text": [
            "Model: \"sequential\"\n",
            "_________________________________________________________________\n",
            "Layer (type)                 Output Shape              Param #   \n",
            "=================================================================\n",
            "flatten (Flatten)            (None, 784)               0         \n",
            "_________________________________________________________________\n",
            "dense (Dense)                (None, 300)               235500    \n",
            "_________________________________________________________________\n",
            "dense_1 (Dense)              (None, 100)               30100     \n",
            "_________________________________________________________________\n",
            "dense_2 (Dense)              (None, 10)                1010      \n",
            "=================================================================\n",
            "Total params: 266,610\n",
            "Trainable params: 266,610\n",
            "Non-trainable params: 0\n",
            "_________________________________________________________________\n"
          ]
        }
      ]
    },
    {
      "cell_type": "markdown",
      "metadata": {
        "id": "P_XNJ_t1d-IN"
      },
      "source": [
        "### **5. Aplicando o retorno de chamada - `Callbacks API`**"
      ]
    },
    {
      "cell_type": "markdown",
      "metadata": {
        "id": "C6wd1g-DeOqj"
      },
      "source": [
        "#### **5.1. EarlyStopping**"
      ]
    },
    {
      "cell_type": "markdown",
      "metadata": {
        "id": "s8Vf9mgTedNV"
      },
      "source": [
        "`EarlyStopping` é um retorno de chamada integrado projetado para parada antecipada . \n",
        "\n",
        "Primeiro, vamos importá-lo e criar um objeto de parada antecipada."
      ]
    },
    {
      "cell_type": "code",
      "metadata": {
        "id": "D_dJFiK9M7ah"
      },
      "source": [
        "# importando a função\n",
        "from tensorflow.keras.callbacks import EarlyStopping"
      ],
      "execution_count": null,
      "outputs": []
    },
    {
      "cell_type": "code",
      "metadata": {
        "id": "hmpWL9uvM7YD"
      },
      "source": [
        "# instanciando a função\n",
        "early_stopping = EarlyStopping()"
      ],
      "execution_count": null,
      "outputs": []
    },
    {
      "cell_type": "code",
      "metadata": {
        "colab": {
          "base_uri": "https://localhost:8080/"
        },
        "id": "RVeifOp5M7UU",
        "outputId": "ce611619-9b88-4091-be15-7385bc4e0150"
      },
      "source": [
        "# realizando o treinamento do modelo e instanciando o objeto para guardar o histórico do treino\n",
        "history = model.fit(\n",
        "    X_train,\n",
        "    y_train,\n",
        "    epochs=50,\n",
        "    validation_split=0.20,\n",
        "    batch_size=64,\n",
        "    verbose=2,\n",
        "    callbacks=[early_stopping]\n",
        ")"
      ],
      "execution_count": null,
      "outputs": [
        {
          "output_type": "stream",
          "name": "stdout",
          "text": [
            "Epoch 1/50\n",
            "125/125 - 1s - loss: 1.5205 - accuracy: 0.5665 - val_loss: 1.1013 - val_accuracy: 0.6590\n"
          ]
        }
      ]
    },
    {
      "cell_type": "code",
      "metadata": {
        "colab": {
          "base_uri": "https://localhost:8080/",
          "height": 391
        },
        "id": "J7D7g7aCjwE_",
        "outputId": "d248a920-1f3e-4e06-8dcd-ae24e57b4f5a"
      },
      "source": [
        "# plotando o gráfico da acurácia\n",
        "plot_metric(history, 'accuracy')"
      ],
      "execution_count": null,
      "outputs": [
        {
          "output_type": "display_data",
          "data": {
            "text/plain": [
              "<Figure size 432x288 with 1 Axes>"
            ],
            "image/svg+xml": "<?xml version=\"1.0\" encoding=\"utf-8\" standalone=\"no\"?>\n<!DOCTYPE svg PUBLIC \"-//W3C//DTD SVG 1.1//EN\"\n  \"http://www.w3.org/Graphics/SVG/1.1/DTD/svg11.dtd\">\n<!-- Created with matplotlib (https://matplotlib.org/) -->\n<svg height=\"277.314375pt\" version=\"1.1\" viewBox=\"0 0 392.14375 277.314375\" width=\"392.14375pt\" xmlns=\"http://www.w3.org/2000/svg\" xmlns:xlink=\"http://www.w3.org/1999/xlink\">\n <defs>\n  <style type=\"text/css\">\n*{stroke-linecap:butt;stroke-linejoin:round;}\n  </style>\n </defs>\n <g id=\"figure_1\">\n  <g id=\"patch_1\">\n   <path d=\"M 0 277.314375 \nL 392.14375 277.314375 \nL 392.14375 0 \nL 0 0 \nz\n\" style=\"fill:none;\"/>\n  </g>\n  <g id=\"axes_1\">\n   <g id=\"patch_2\">\n    <path d=\"M 50.14375 239.758125 \nL 384.94375 239.758125 \nL 384.94375 22.318125 \nL 50.14375 22.318125 \nz\n\" style=\"fill:#ffffff;\"/>\n   </g>\n   <g id=\"matplotlib.axis_1\">\n    <g id=\"xtick_1\">\n     <g id=\"line2d_1\">\n      <defs>\n       <path d=\"M 0 0 \nL 0 3.5 \n\" id=\"m674178dd99\" style=\"stroke:#000000;stroke-width:0.8;\"/>\n      </defs>\n      <g>\n       <use style=\"stroke:#000000;stroke-width:0.8;\" x=\"95.798295\" xlink:href=\"#m674178dd99\" y=\"239.758125\"/>\n      </g>\n     </g>\n     <g id=\"text_1\">\n      <!-- 0.96 -->\n      <defs>\n       <path d=\"M 31.78125 66.40625 \nQ 24.171875 66.40625 20.328125 58.90625 \nQ 16.5 51.421875 16.5 36.375 \nQ 16.5 21.390625 20.328125 13.890625 \nQ 24.171875 6.390625 31.78125 6.390625 \nQ 39.453125 6.390625 43.28125 13.890625 \nQ 47.125 21.390625 47.125 36.375 \nQ 47.125 51.421875 43.28125 58.90625 \nQ 39.453125 66.40625 31.78125 66.40625 \nz\nM 31.78125 74.21875 \nQ 44.046875 74.21875 50.515625 64.515625 \nQ 56.984375 54.828125 56.984375 36.375 \nQ 56.984375 17.96875 50.515625 8.265625 \nQ 44.046875 -1.421875 31.78125 -1.421875 \nQ 19.53125 -1.421875 13.0625 8.265625 \nQ 6.59375 17.96875 6.59375 36.375 \nQ 6.59375 54.828125 13.0625 64.515625 \nQ 19.53125 74.21875 31.78125 74.21875 \nz\n\" id=\"DejaVuSans-48\"/>\n       <path d=\"M 10.6875 12.40625 \nL 21 12.40625 \nL 21 0 \nL 10.6875 0 \nz\n\" id=\"DejaVuSans-46\"/>\n       <path d=\"M 10.984375 1.515625 \nL 10.984375 10.5 \nQ 14.703125 8.734375 18.5 7.8125 \nQ 22.3125 6.890625 25.984375 6.890625 \nQ 35.75 6.890625 40.890625 13.453125 \nQ 46.046875 20.015625 46.78125 33.40625 \nQ 43.953125 29.203125 39.59375 26.953125 \nQ 35.25 24.703125 29.984375 24.703125 \nQ 19.046875 24.703125 12.671875 31.3125 \nQ 6.296875 37.9375 6.296875 49.421875 \nQ 6.296875 60.640625 12.9375 67.421875 \nQ 19.578125 74.21875 30.609375 74.21875 \nQ 43.265625 74.21875 49.921875 64.515625 \nQ 56.59375 54.828125 56.59375 36.375 \nQ 56.59375 19.140625 48.40625 8.859375 \nQ 40.234375 -1.421875 26.421875 -1.421875 \nQ 22.703125 -1.421875 18.890625 -0.6875 \nQ 15.09375 0.046875 10.984375 1.515625 \nz\nM 30.609375 32.421875 \nQ 37.25 32.421875 41.125 36.953125 \nQ 45.015625 41.5 45.015625 49.421875 \nQ 45.015625 57.28125 41.125 61.84375 \nQ 37.25 66.40625 30.609375 66.40625 \nQ 23.96875 66.40625 20.09375 61.84375 \nQ 16.21875 57.28125 16.21875 49.421875 \nQ 16.21875 41.5 20.09375 36.953125 \nQ 23.96875 32.421875 30.609375 32.421875 \nz\n\" id=\"DejaVuSans-57\"/>\n       <path d=\"M 33.015625 40.375 \nQ 26.375 40.375 22.484375 35.828125 \nQ 18.609375 31.296875 18.609375 23.390625 \nQ 18.609375 15.53125 22.484375 10.953125 \nQ 26.375 6.390625 33.015625 6.390625 \nQ 39.65625 6.390625 43.53125 10.953125 \nQ 47.40625 15.53125 47.40625 23.390625 \nQ 47.40625 31.296875 43.53125 35.828125 \nQ 39.65625 40.375 33.015625 40.375 \nz\nM 52.59375 71.296875 \nL 52.59375 62.3125 \nQ 48.875 64.0625 45.09375 64.984375 \nQ 41.3125 65.921875 37.59375 65.921875 \nQ 27.828125 65.921875 22.671875 59.328125 \nQ 17.53125 52.734375 16.796875 39.40625 \nQ 19.671875 43.65625 24.015625 45.921875 \nQ 28.375 48.1875 33.59375 48.1875 \nQ 44.578125 48.1875 50.953125 41.515625 \nQ 57.328125 34.859375 57.328125 23.390625 \nQ 57.328125 12.15625 50.6875 5.359375 \nQ 44.046875 -1.421875 33.015625 -1.421875 \nQ 20.359375 -1.421875 13.671875 8.265625 \nQ 6.984375 17.96875 6.984375 36.375 \nQ 6.984375 53.65625 15.1875 63.9375 \nQ 23.390625 74.21875 37.203125 74.21875 \nQ 40.921875 74.21875 44.703125 73.484375 \nQ 48.484375 72.75 52.59375 71.296875 \nz\n\" id=\"DejaVuSans-54\"/>\n      </defs>\n      <g transform=\"translate(84.665483 254.356562)scale(0.1 -0.1)\">\n       <use xlink:href=\"#DejaVuSans-48\"/>\n       <use x=\"63.623047\" xlink:href=\"#DejaVuSans-46\"/>\n       <use x=\"95.410156\" xlink:href=\"#DejaVuSans-57\"/>\n       <use x=\"159.033203\" xlink:href=\"#DejaVuSans-54\"/>\n      </g>\n     </g>\n    </g>\n    <g id=\"xtick_2\">\n     <g id=\"line2d_2\">\n      <g>\n       <use style=\"stroke:#000000;stroke-width:0.8;\" x=\"156.671023\" xlink:href=\"#m674178dd99\" y=\"239.758125\"/>\n      </g>\n     </g>\n     <g id=\"text_2\">\n      <!-- 0.98 -->\n      <defs>\n       <path d=\"M 31.78125 34.625 \nQ 24.75 34.625 20.71875 30.859375 \nQ 16.703125 27.09375 16.703125 20.515625 \nQ 16.703125 13.921875 20.71875 10.15625 \nQ 24.75 6.390625 31.78125 6.390625 \nQ 38.8125 6.390625 42.859375 10.171875 \nQ 46.921875 13.96875 46.921875 20.515625 \nQ 46.921875 27.09375 42.890625 30.859375 \nQ 38.875 34.625 31.78125 34.625 \nz\nM 21.921875 38.8125 \nQ 15.578125 40.375 12.03125 44.71875 \nQ 8.5 49.078125 8.5 55.328125 \nQ 8.5 64.0625 14.71875 69.140625 \nQ 20.953125 74.21875 31.78125 74.21875 \nQ 42.671875 74.21875 48.875 69.140625 \nQ 55.078125 64.0625 55.078125 55.328125 \nQ 55.078125 49.078125 51.53125 44.71875 \nQ 48 40.375 41.703125 38.8125 \nQ 48.828125 37.15625 52.796875 32.3125 \nQ 56.78125 27.484375 56.78125 20.515625 \nQ 56.78125 9.90625 50.3125 4.234375 \nQ 43.84375 -1.421875 31.78125 -1.421875 \nQ 19.734375 -1.421875 13.25 4.234375 \nQ 6.78125 9.90625 6.78125 20.515625 \nQ 6.78125 27.484375 10.78125 32.3125 \nQ 14.796875 37.15625 21.921875 38.8125 \nz\nM 18.3125 54.390625 \nQ 18.3125 48.734375 21.84375 45.5625 \nQ 25.390625 42.390625 31.78125 42.390625 \nQ 38.140625 42.390625 41.71875 45.5625 \nQ 45.3125 48.734375 45.3125 54.390625 \nQ 45.3125 60.0625 41.71875 63.234375 \nQ 38.140625 66.40625 31.78125 66.40625 \nQ 25.390625 66.40625 21.84375 63.234375 \nQ 18.3125 60.0625 18.3125 54.390625 \nz\n\" id=\"DejaVuSans-56\"/>\n      </defs>\n      <g transform=\"translate(145.53821 254.356562)scale(0.1 -0.1)\">\n       <use xlink:href=\"#DejaVuSans-48\"/>\n       <use x=\"63.623047\" xlink:href=\"#DejaVuSans-46\"/>\n       <use x=\"95.410156\" xlink:href=\"#DejaVuSans-57\"/>\n       <use x=\"159.033203\" xlink:href=\"#DejaVuSans-56\"/>\n      </g>\n     </g>\n    </g>\n    <g id=\"xtick_3\">\n     <g id=\"line2d_3\">\n      <g>\n       <use style=\"stroke:#000000;stroke-width:0.8;\" x=\"217.54375\" xlink:href=\"#m674178dd99\" y=\"239.758125\"/>\n      </g>\n     </g>\n     <g id=\"text_3\">\n      <!-- 1.00 -->\n      <defs>\n       <path d=\"M 12.40625 8.296875 \nL 28.515625 8.296875 \nL 28.515625 63.921875 \nL 10.984375 60.40625 \nL 10.984375 69.390625 \nL 28.421875 72.90625 \nL 38.28125 72.90625 \nL 38.28125 8.296875 \nL 54.390625 8.296875 \nL 54.390625 0 \nL 12.40625 0 \nz\n\" id=\"DejaVuSans-49\"/>\n      </defs>\n      <g transform=\"translate(206.410938 254.356562)scale(0.1 -0.1)\">\n       <use xlink:href=\"#DejaVuSans-49\"/>\n       <use x=\"63.623047\" xlink:href=\"#DejaVuSans-46\"/>\n       <use x=\"95.410156\" xlink:href=\"#DejaVuSans-48\"/>\n       <use x=\"159.033203\" xlink:href=\"#DejaVuSans-48\"/>\n      </g>\n     </g>\n    </g>\n    <g id=\"xtick_4\">\n     <g id=\"line2d_4\">\n      <g>\n       <use style=\"stroke:#000000;stroke-width:0.8;\" x=\"278.416477\" xlink:href=\"#m674178dd99\" y=\"239.758125\"/>\n      </g>\n     </g>\n     <g id=\"text_4\">\n      <!-- 1.02 -->\n      <defs>\n       <path d=\"M 19.1875 8.296875 \nL 53.609375 8.296875 \nL 53.609375 0 \nL 7.328125 0 \nL 7.328125 8.296875 \nQ 12.9375 14.109375 22.625 23.890625 \nQ 32.328125 33.6875 34.8125 36.53125 \nQ 39.546875 41.84375 41.421875 45.53125 \nQ 43.3125 49.21875 43.3125 52.78125 \nQ 43.3125 58.59375 39.234375 62.25 \nQ 35.15625 65.921875 28.609375 65.921875 \nQ 23.96875 65.921875 18.8125 64.3125 \nQ 13.671875 62.703125 7.8125 59.421875 \nL 7.8125 69.390625 \nQ 13.765625 71.78125 18.9375 73 \nQ 24.125 74.21875 28.421875 74.21875 \nQ 39.75 74.21875 46.484375 68.546875 \nQ 53.21875 62.890625 53.21875 53.421875 \nQ 53.21875 48.921875 51.53125 44.890625 \nQ 49.859375 40.875 45.40625 35.40625 \nQ 44.1875 33.984375 37.640625 27.21875 \nQ 31.109375 20.453125 19.1875 8.296875 \nz\n\" id=\"DejaVuSans-50\"/>\n      </defs>\n      <g transform=\"translate(267.283665 254.356562)scale(0.1 -0.1)\">\n       <use xlink:href=\"#DejaVuSans-49\"/>\n       <use x=\"63.623047\" xlink:href=\"#DejaVuSans-46\"/>\n       <use x=\"95.410156\" xlink:href=\"#DejaVuSans-48\"/>\n       <use x=\"159.033203\" xlink:href=\"#DejaVuSans-50\"/>\n      </g>\n     </g>\n    </g>\n    <g id=\"xtick_5\">\n     <g id=\"line2d_5\">\n      <g>\n       <use style=\"stroke:#000000;stroke-width:0.8;\" x=\"339.289205\" xlink:href=\"#m674178dd99\" y=\"239.758125\"/>\n      </g>\n     </g>\n     <g id=\"text_5\">\n      <!-- 1.04 -->\n      <defs>\n       <path d=\"M 37.796875 64.3125 \nL 12.890625 25.390625 \nL 37.796875 25.390625 \nz\nM 35.203125 72.90625 \nL 47.609375 72.90625 \nL 47.609375 25.390625 \nL 58.015625 25.390625 \nL 58.015625 17.1875 \nL 47.609375 17.1875 \nL 47.609375 0 \nL 37.796875 0 \nL 37.796875 17.1875 \nL 4.890625 17.1875 \nL 4.890625 26.703125 \nz\n\" id=\"DejaVuSans-52\"/>\n      </defs>\n      <g transform=\"translate(328.156392 254.356562)scale(0.1 -0.1)\">\n       <use xlink:href=\"#DejaVuSans-49\"/>\n       <use x=\"63.623047\" xlink:href=\"#DejaVuSans-46\"/>\n       <use x=\"95.410156\" xlink:href=\"#DejaVuSans-48\"/>\n       <use x=\"159.033203\" xlink:href=\"#DejaVuSans-52\"/>\n      </g>\n     </g>\n    </g>\n    <g id=\"text_6\">\n     <!-- Epochs -->\n     <defs>\n      <path d=\"M 9.8125 72.90625 \nL 55.90625 72.90625 \nL 55.90625 64.59375 \nL 19.671875 64.59375 \nL 19.671875 43.015625 \nL 54.390625 43.015625 \nL 54.390625 34.71875 \nL 19.671875 34.71875 \nL 19.671875 8.296875 \nL 56.78125 8.296875 \nL 56.78125 0 \nL 9.8125 0 \nz\n\" id=\"DejaVuSans-69\"/>\n      <path d=\"M 18.109375 8.203125 \nL 18.109375 -20.796875 \nL 9.078125 -20.796875 \nL 9.078125 54.6875 \nL 18.109375 54.6875 \nL 18.109375 46.390625 \nQ 20.953125 51.265625 25.265625 53.625 \nQ 29.59375 56 35.59375 56 \nQ 45.5625 56 51.78125 48.09375 \nQ 58.015625 40.1875 58.015625 27.296875 \nQ 58.015625 14.40625 51.78125 6.484375 \nQ 45.5625 -1.421875 35.59375 -1.421875 \nQ 29.59375 -1.421875 25.265625 0.953125 \nQ 20.953125 3.328125 18.109375 8.203125 \nz\nM 48.6875 27.296875 \nQ 48.6875 37.203125 44.609375 42.84375 \nQ 40.53125 48.484375 33.40625 48.484375 \nQ 26.265625 48.484375 22.1875 42.84375 \nQ 18.109375 37.203125 18.109375 27.296875 \nQ 18.109375 17.390625 22.1875 11.75 \nQ 26.265625 6.109375 33.40625 6.109375 \nQ 40.53125 6.109375 44.609375 11.75 \nQ 48.6875 17.390625 48.6875 27.296875 \nz\n\" id=\"DejaVuSans-112\"/>\n      <path d=\"M 30.609375 48.390625 \nQ 23.390625 48.390625 19.1875 42.75 \nQ 14.984375 37.109375 14.984375 27.296875 \nQ 14.984375 17.484375 19.15625 11.84375 \nQ 23.34375 6.203125 30.609375 6.203125 \nQ 37.796875 6.203125 41.984375 11.859375 \nQ 46.1875 17.53125 46.1875 27.296875 \nQ 46.1875 37.015625 41.984375 42.703125 \nQ 37.796875 48.390625 30.609375 48.390625 \nz\nM 30.609375 56 \nQ 42.328125 56 49.015625 48.375 \nQ 55.71875 40.765625 55.71875 27.296875 \nQ 55.71875 13.875 49.015625 6.21875 \nQ 42.328125 -1.421875 30.609375 -1.421875 \nQ 18.84375 -1.421875 12.171875 6.21875 \nQ 5.515625 13.875 5.515625 27.296875 \nQ 5.515625 40.765625 12.171875 48.375 \nQ 18.84375 56 30.609375 56 \nz\n\" id=\"DejaVuSans-111\"/>\n      <path d=\"M 48.78125 52.59375 \nL 48.78125 44.1875 \nQ 44.96875 46.296875 41.140625 47.34375 \nQ 37.3125 48.390625 33.40625 48.390625 \nQ 24.65625 48.390625 19.8125 42.84375 \nQ 14.984375 37.3125 14.984375 27.296875 \nQ 14.984375 17.28125 19.8125 11.734375 \nQ 24.65625 6.203125 33.40625 6.203125 \nQ 37.3125 6.203125 41.140625 7.25 \nQ 44.96875 8.296875 48.78125 10.40625 \nL 48.78125 2.09375 \nQ 45.015625 0.34375 40.984375 -0.53125 \nQ 36.96875 -1.421875 32.421875 -1.421875 \nQ 20.0625 -1.421875 12.78125 6.34375 \nQ 5.515625 14.109375 5.515625 27.296875 \nQ 5.515625 40.671875 12.859375 48.328125 \nQ 20.21875 56 33.015625 56 \nQ 37.15625 56 41.109375 55.140625 \nQ 45.0625 54.296875 48.78125 52.59375 \nz\n\" id=\"DejaVuSans-99\"/>\n      <path d=\"M 54.890625 33.015625 \nL 54.890625 0 \nL 45.90625 0 \nL 45.90625 32.71875 \nQ 45.90625 40.484375 42.875 44.328125 \nQ 39.84375 48.1875 33.796875 48.1875 \nQ 26.515625 48.1875 22.3125 43.546875 \nQ 18.109375 38.921875 18.109375 30.90625 \nL 18.109375 0 \nL 9.078125 0 \nL 9.078125 75.984375 \nL 18.109375 75.984375 \nL 18.109375 46.1875 \nQ 21.34375 51.125 25.703125 53.5625 \nQ 30.078125 56 35.796875 56 \nQ 45.21875 56 50.046875 50.171875 \nQ 54.890625 44.34375 54.890625 33.015625 \nz\n\" id=\"DejaVuSans-104\"/>\n      <path d=\"M 44.28125 53.078125 \nL 44.28125 44.578125 \nQ 40.484375 46.53125 36.375 47.5 \nQ 32.28125 48.484375 27.875 48.484375 \nQ 21.1875 48.484375 17.84375 46.4375 \nQ 14.5 44.390625 14.5 40.28125 \nQ 14.5 37.15625 16.890625 35.375 \nQ 19.28125 33.59375 26.515625 31.984375 \nL 29.59375 31.296875 \nQ 39.15625 29.25 43.1875 25.515625 \nQ 47.21875 21.78125 47.21875 15.09375 \nQ 47.21875 7.46875 41.1875 3.015625 \nQ 35.15625 -1.421875 24.609375 -1.421875 \nQ 20.21875 -1.421875 15.453125 -0.5625 \nQ 10.6875 0.296875 5.421875 2 \nL 5.421875 11.28125 \nQ 10.40625 8.6875 15.234375 7.390625 \nQ 20.0625 6.109375 24.8125 6.109375 \nQ 31.15625 6.109375 34.5625 8.28125 \nQ 37.984375 10.453125 37.984375 14.40625 \nQ 37.984375 18.0625 35.515625 20.015625 \nQ 33.0625 21.96875 24.703125 23.78125 \nL 21.578125 24.515625 \nQ 13.234375 26.265625 9.515625 29.90625 \nQ 5.8125 33.546875 5.8125 39.890625 \nQ 5.8125 47.609375 11.28125 51.796875 \nQ 16.75 56 26.8125 56 \nQ 31.78125 56 36.171875 55.265625 \nQ 40.578125 54.546875 44.28125 53.078125 \nz\n\" id=\"DejaVuSans-115\"/>\n     </defs>\n     <g transform=\"translate(199.628125 268.034687)scale(0.1 -0.1)\">\n      <use xlink:href=\"#DejaVuSans-69\"/>\n      <use x=\"63.183594\" xlink:href=\"#DejaVuSans-112\"/>\n      <use x=\"126.660156\" xlink:href=\"#DejaVuSans-111\"/>\n      <use x=\"187.841797\" xlink:href=\"#DejaVuSans-99\"/>\n      <use x=\"242.822266\" xlink:href=\"#DejaVuSans-104\"/>\n      <use x=\"306.201172\" xlink:href=\"#DejaVuSans-115\"/>\n     </g>\n    </g>\n   </g>\n   <g id=\"matplotlib.axis_2\">\n    <g id=\"ytick_1\">\n     <g id=\"line2d_6\">\n      <defs>\n       <path d=\"M 0 0 \nL -3.5 0 \n\" id=\"mab4e3889d0\" style=\"stroke:#000000;stroke-width:0.8;\"/>\n      </defs>\n      <g>\n       <use style=\"stroke:#000000;stroke-width:0.8;\" x=\"50.14375\" xlink:href=\"#mab4e3889d0\" y=\"201.024964\"/>\n      </g>\n     </g>\n     <g id=\"text_7\">\n      <!-- 0.58 -->\n      <defs>\n       <path d=\"M 10.796875 72.90625 \nL 49.515625 72.90625 \nL 49.515625 64.59375 \nL 19.828125 64.59375 \nL 19.828125 46.734375 \nQ 21.96875 47.46875 24.109375 47.828125 \nQ 26.265625 48.1875 28.421875 48.1875 \nQ 40.625 48.1875 47.75 41.5 \nQ 54.890625 34.8125 54.890625 23.390625 \nQ 54.890625 11.625 47.5625 5.09375 \nQ 40.234375 -1.421875 26.90625 -1.421875 \nQ 22.3125 -1.421875 17.546875 -0.640625 \nQ 12.796875 0.140625 7.71875 1.703125 \nL 7.71875 11.625 \nQ 12.109375 9.234375 16.796875 8.0625 \nQ 21.484375 6.890625 26.703125 6.890625 \nQ 35.15625 6.890625 40.078125 11.328125 \nQ 45.015625 15.765625 45.015625 23.390625 \nQ 45.015625 31 40.078125 35.4375 \nQ 35.15625 39.890625 26.703125 39.890625 \nQ 22.75 39.890625 18.8125 39.015625 \nQ 14.890625 38.140625 10.796875 36.28125 \nz\n\" id=\"DejaVuSans-53\"/>\n      </defs>\n      <g transform=\"translate(20.878125 204.824183)scale(0.1 -0.1)\">\n       <use xlink:href=\"#DejaVuSans-48\"/>\n       <use x=\"63.623047\" xlink:href=\"#DejaVuSans-46\"/>\n       <use x=\"95.410156\" xlink:href=\"#DejaVuSans-53\"/>\n       <use x=\"159.033203\" xlink:href=\"#DejaVuSans-56\"/>\n      </g>\n     </g>\n    </g>\n    <g id=\"ytick_2\">\n     <g id=\"line2d_7\">\n      <g>\n       <use style=\"stroke:#000000;stroke-width:0.8;\" x=\"50.14375\" xlink:href=\"#mab4e3889d0\" y=\"158.284902\"/>\n      </g>\n     </g>\n     <g id=\"text_8\">\n      <!-- 0.60 -->\n      <g transform=\"translate(20.878125 162.08412)scale(0.1 -0.1)\">\n       <use xlink:href=\"#DejaVuSans-48\"/>\n       <use x=\"63.623047\" xlink:href=\"#DejaVuSans-46\"/>\n       <use x=\"95.410156\" xlink:href=\"#DejaVuSans-54\"/>\n       <use x=\"159.033203\" xlink:href=\"#DejaVuSans-48\"/>\n      </g>\n     </g>\n    </g>\n    <g id=\"ytick_3\">\n     <g id=\"line2d_8\">\n      <g>\n       <use style=\"stroke:#000000;stroke-width:0.8;\" x=\"50.14375\" xlink:href=\"#mab4e3889d0\" y=\"115.544839\"/>\n      </g>\n     </g>\n     <g id=\"text_9\">\n      <!-- 0.62 -->\n      <g transform=\"translate(20.878125 119.344058)scale(0.1 -0.1)\">\n       <use xlink:href=\"#DejaVuSans-48\"/>\n       <use x=\"63.623047\" xlink:href=\"#DejaVuSans-46\"/>\n       <use x=\"95.410156\" xlink:href=\"#DejaVuSans-54\"/>\n       <use x=\"159.033203\" xlink:href=\"#DejaVuSans-50\"/>\n      </g>\n     </g>\n    </g>\n    <g id=\"ytick_4\">\n     <g id=\"line2d_9\">\n      <g>\n       <use style=\"stroke:#000000;stroke-width:0.8;\" x=\"50.14375\" xlink:href=\"#mab4e3889d0\" y=\"72.804777\"/>\n      </g>\n     </g>\n     <g id=\"text_10\">\n      <!-- 0.64 -->\n      <g transform=\"translate(20.878125 76.603996)scale(0.1 -0.1)\">\n       <use xlink:href=\"#DejaVuSans-48\"/>\n       <use x=\"63.623047\" xlink:href=\"#DejaVuSans-46\"/>\n       <use x=\"95.410156\" xlink:href=\"#DejaVuSans-54\"/>\n       <use x=\"159.033203\" xlink:href=\"#DejaVuSans-52\"/>\n      </g>\n     </g>\n    </g>\n    <g id=\"ytick_5\">\n     <g id=\"line2d_10\">\n      <g>\n       <use style=\"stroke:#000000;stroke-width:0.8;\" x=\"50.14375\" xlink:href=\"#mab4e3889d0\" y=\"30.064714\"/>\n      </g>\n     </g>\n     <g id=\"text_11\">\n      <!-- 0.66 -->\n      <g transform=\"translate(20.878125 33.863933)scale(0.1 -0.1)\">\n       <use xlink:href=\"#DejaVuSans-48\"/>\n       <use x=\"63.623047\" xlink:href=\"#DejaVuSans-46\"/>\n       <use x=\"95.410156\" xlink:href=\"#DejaVuSans-54\"/>\n       <use x=\"159.033203\" xlink:href=\"#DejaVuSans-54\"/>\n      </g>\n     </g>\n    </g>\n    <g id=\"text_12\">\n     <!-- accuracy -->\n     <defs>\n      <path d=\"M 34.28125 27.484375 \nQ 23.390625 27.484375 19.1875 25 \nQ 14.984375 22.515625 14.984375 16.5 \nQ 14.984375 11.71875 18.140625 8.90625 \nQ 21.296875 6.109375 26.703125 6.109375 \nQ 34.1875 6.109375 38.703125 11.40625 \nQ 43.21875 16.703125 43.21875 25.484375 \nL 43.21875 27.484375 \nz\nM 52.203125 31.203125 \nL 52.203125 0 \nL 43.21875 0 \nL 43.21875 8.296875 \nQ 40.140625 3.328125 35.546875 0.953125 \nQ 30.953125 -1.421875 24.3125 -1.421875 \nQ 15.921875 -1.421875 10.953125 3.296875 \nQ 6 8.015625 6 15.921875 \nQ 6 25.140625 12.171875 29.828125 \nQ 18.359375 34.515625 30.609375 34.515625 \nL 43.21875 34.515625 \nL 43.21875 35.40625 \nQ 43.21875 41.609375 39.140625 45 \nQ 35.0625 48.390625 27.6875 48.390625 \nQ 23 48.390625 18.546875 47.265625 \nQ 14.109375 46.140625 10.015625 43.890625 \nL 10.015625 52.203125 \nQ 14.9375 54.109375 19.578125 55.046875 \nQ 24.21875 56 28.609375 56 \nQ 40.484375 56 46.34375 49.84375 \nQ 52.203125 43.703125 52.203125 31.203125 \nz\n\" id=\"DejaVuSans-97\"/>\n      <path d=\"M 8.5 21.578125 \nL 8.5 54.6875 \nL 17.484375 54.6875 \nL 17.484375 21.921875 \nQ 17.484375 14.15625 20.5 10.265625 \nQ 23.53125 6.390625 29.59375 6.390625 \nQ 36.859375 6.390625 41.078125 11.03125 \nQ 45.3125 15.671875 45.3125 23.6875 \nL 45.3125 54.6875 \nL 54.296875 54.6875 \nL 54.296875 0 \nL 45.3125 0 \nL 45.3125 8.40625 \nQ 42.046875 3.421875 37.71875 1 \nQ 33.40625 -1.421875 27.6875 -1.421875 \nQ 18.265625 -1.421875 13.375 4.4375 \nQ 8.5 10.296875 8.5 21.578125 \nz\nM 31.109375 56 \nz\n\" id=\"DejaVuSans-117\"/>\n      <path d=\"M 41.109375 46.296875 \nQ 39.59375 47.171875 37.8125 47.578125 \nQ 36.03125 48 33.890625 48 \nQ 26.265625 48 22.1875 43.046875 \nQ 18.109375 38.09375 18.109375 28.8125 \nL 18.109375 0 \nL 9.078125 0 \nL 9.078125 54.6875 \nL 18.109375 54.6875 \nL 18.109375 46.1875 \nQ 20.953125 51.171875 25.484375 53.578125 \nQ 30.03125 56 36.53125 56 \nQ 37.453125 56 38.578125 55.875 \nQ 39.703125 55.765625 41.0625 55.515625 \nz\n\" id=\"DejaVuSans-114\"/>\n      <path d=\"M 32.171875 -5.078125 \nQ 28.375 -14.84375 24.75 -17.8125 \nQ 21.140625 -20.796875 15.09375 -20.796875 \nL 7.90625 -20.796875 \nL 7.90625 -13.28125 \nL 13.1875 -13.28125 \nQ 16.890625 -13.28125 18.9375 -11.515625 \nQ 21 -9.765625 23.484375 -3.21875 \nL 25.09375 0.875 \nL 2.984375 54.6875 \nL 12.5 54.6875 \nL 29.59375 11.921875 \nL 46.6875 54.6875 \nL 56.203125 54.6875 \nz\n\" id=\"DejaVuSans-121\"/>\n     </defs>\n     <g transform=\"translate(14.798438 153.5975)rotate(-90)scale(0.1 -0.1)\">\n      <use xlink:href=\"#DejaVuSans-97\"/>\n      <use x=\"61.279297\" xlink:href=\"#DejaVuSans-99\"/>\n      <use x=\"116.259766\" xlink:href=\"#DejaVuSans-99\"/>\n      <use x=\"171.240234\" xlink:href=\"#DejaVuSans-117\"/>\n      <use x=\"234.619141\" xlink:href=\"#DejaVuSans-114\"/>\n      <use x=\"275.732422\" xlink:href=\"#DejaVuSans-97\"/>\n      <use x=\"337.011719\" xlink:href=\"#DejaVuSans-99\"/>\n      <use x=\"391.992188\" xlink:href=\"#DejaVuSans-121\"/>\n     </g>\n    </g>\n   </g>\n   <g id=\"line2d_11\">\n    <path clip-path=\"url(#pe0ef0cade0)\" d=\"M 217.54375 229.874489 \n\" style=\"fill:none;stroke:#1f77b4;stroke-linecap:square;stroke-width:1.5;\"/>\n   </g>\n   <g id=\"line2d_12\">\n    <path clip-path=\"url(#pe0ef0cade0)\" d=\"M 217.54375 32.201761 \n\" style=\"fill:none;stroke:#ff7f0e;stroke-linecap:square;stroke-width:1.5;\"/>\n   </g>\n   <g id=\"patch_3\">\n    <path d=\"M 50.14375 239.758125 \nL 50.14375 22.318125 \n\" style=\"fill:none;stroke:#000000;stroke-linecap:square;stroke-linejoin:miter;stroke-width:0.8;\"/>\n   </g>\n   <g id=\"patch_4\">\n    <path d=\"M 384.94375 239.758125 \nL 384.94375 22.318125 \n\" style=\"fill:none;stroke:#000000;stroke-linecap:square;stroke-linejoin:miter;stroke-width:0.8;\"/>\n   </g>\n   <g id=\"patch_5\">\n    <path d=\"M 50.14375 239.758125 \nL 384.94375 239.758125 \n\" style=\"fill:none;stroke:#000000;stroke-linecap:square;stroke-linejoin:miter;stroke-width:0.8;\"/>\n   </g>\n   <g id=\"patch_6\">\n    <path d=\"M 50.14375 22.318125 \nL 384.94375 22.318125 \n\" style=\"fill:none;stroke:#000000;stroke-linecap:square;stroke-linejoin:miter;stroke-width:0.8;\"/>\n   </g>\n   <g id=\"text_13\">\n    <!-- Training &amp; Validation - accuracy -->\n    <defs>\n     <path d=\"M -0.296875 72.90625 \nL 61.375 72.90625 \nL 61.375 64.59375 \nL 35.5 64.59375 \nL 35.5 0 \nL 25.59375 0 \nL 25.59375 64.59375 \nL -0.296875 64.59375 \nz\n\" id=\"DejaVuSans-84\"/>\n     <path d=\"M 9.421875 54.6875 \nL 18.40625 54.6875 \nL 18.40625 0 \nL 9.421875 0 \nz\nM 9.421875 75.984375 \nL 18.40625 75.984375 \nL 18.40625 64.59375 \nL 9.421875 64.59375 \nz\n\" id=\"DejaVuSans-105\"/>\n     <path d=\"M 54.890625 33.015625 \nL 54.890625 0 \nL 45.90625 0 \nL 45.90625 32.71875 \nQ 45.90625 40.484375 42.875 44.328125 \nQ 39.84375 48.1875 33.796875 48.1875 \nQ 26.515625 48.1875 22.3125 43.546875 \nQ 18.109375 38.921875 18.109375 30.90625 \nL 18.109375 0 \nL 9.078125 0 \nL 9.078125 54.6875 \nL 18.109375 54.6875 \nL 18.109375 46.1875 \nQ 21.34375 51.125 25.703125 53.5625 \nQ 30.078125 56 35.796875 56 \nQ 45.21875 56 50.046875 50.171875 \nQ 54.890625 44.34375 54.890625 33.015625 \nz\n\" id=\"DejaVuSans-110\"/>\n     <path d=\"M 45.40625 27.984375 \nQ 45.40625 37.75 41.375 43.109375 \nQ 37.359375 48.484375 30.078125 48.484375 \nQ 22.859375 48.484375 18.828125 43.109375 \nQ 14.796875 37.75 14.796875 27.984375 \nQ 14.796875 18.265625 18.828125 12.890625 \nQ 22.859375 7.515625 30.078125 7.515625 \nQ 37.359375 7.515625 41.375 12.890625 \nQ 45.40625 18.265625 45.40625 27.984375 \nz\nM 54.390625 6.78125 \nQ 54.390625 -7.171875 48.1875 -13.984375 \nQ 42 -20.796875 29.203125 -20.796875 \nQ 24.46875 -20.796875 20.265625 -20.09375 \nQ 16.0625 -19.390625 12.109375 -17.921875 \nL 12.109375 -9.1875 \nQ 16.0625 -11.328125 19.921875 -12.34375 \nQ 23.78125 -13.375 27.78125 -13.375 \nQ 36.625 -13.375 41.015625 -8.765625 \nQ 45.40625 -4.15625 45.40625 5.171875 \nL 45.40625 9.625 \nQ 42.625 4.78125 38.28125 2.390625 \nQ 33.9375 0 27.875 0 \nQ 17.828125 0 11.671875 7.65625 \nQ 5.515625 15.328125 5.515625 27.984375 \nQ 5.515625 40.671875 11.671875 48.328125 \nQ 17.828125 56 27.875 56 \nQ 33.9375 56 38.28125 53.609375 \nQ 42.625 51.21875 45.40625 46.390625 \nL 45.40625 54.6875 \nL 54.390625 54.6875 \nz\n\" id=\"DejaVuSans-103\"/>\n     <path id=\"DejaVuSans-32\"/>\n     <path d=\"M 24.3125 39.203125 \nQ 19.875 35.25 17.796875 31.3125 \nQ 15.71875 27.390625 15.71875 23.09375 \nQ 15.71875 15.96875 20.890625 11.234375 \nQ 26.078125 6.5 33.890625 6.5 \nQ 38.53125 6.5 42.578125 8.03125 \nQ 46.625 9.578125 50.203125 12.703125 \nz\nM 31.203125 44.671875 \nL 56 19.28125 \nQ 58.890625 23.640625 60.5 28.59375 \nQ 62.109375 33.546875 62.40625 39.109375 \nL 71.484375 39.109375 \nQ 70.90625 32.671875 68.359375 26.359375 \nQ 65.828125 20.0625 61.28125 13.921875 \nL 74.90625 0 \nL 62.59375 0 \nL 55.609375 7.171875 \nQ 50.53125 2.828125 44.96875 0.703125 \nQ 39.40625 -1.421875 33.015625 -1.421875 \nQ 21.234375 -1.421875 13.765625 5.296875 \nQ 6.296875 12.015625 6.296875 22.515625 \nQ 6.296875 28.765625 9.5625 34.25 \nQ 12.84375 39.75 19.390625 44.578125 \nQ 17.046875 47.65625 15.8125 50.703125 \nQ 14.59375 53.765625 14.59375 56.6875 \nQ 14.59375 64.59375 20.015625 69.40625 \nQ 25.4375 74.21875 34.421875 74.21875 \nQ 38.484375 74.21875 42.5 73.34375 \nQ 46.53125 72.46875 50.6875 70.703125 \nL 50.6875 61.8125 \nQ 46.4375 64.109375 42.578125 65.296875 \nQ 38.71875 66.5 35.40625 66.5 \nQ 30.28125 66.5 27.078125 63.78125 \nQ 23.875 61.078125 23.875 56.78125 \nQ 23.875 54.296875 25.3125 51.78125 \nQ 26.765625 49.265625 31.203125 44.671875 \nz\n\" id=\"DejaVuSans-38\"/>\n     <path d=\"M 28.609375 0 \nL 0.78125 72.90625 \nL 11.078125 72.90625 \nL 34.1875 11.53125 \nL 57.328125 72.90625 \nL 67.578125 72.90625 \nL 39.796875 0 \nz\n\" id=\"DejaVuSans-86\"/>\n     <path d=\"M 9.421875 75.984375 \nL 18.40625 75.984375 \nL 18.40625 0 \nL 9.421875 0 \nz\n\" id=\"DejaVuSans-108\"/>\n     <path d=\"M 45.40625 46.390625 \nL 45.40625 75.984375 \nL 54.390625 75.984375 \nL 54.390625 0 \nL 45.40625 0 \nL 45.40625 8.203125 \nQ 42.578125 3.328125 38.25 0.953125 \nQ 33.9375 -1.421875 27.875 -1.421875 \nQ 17.96875 -1.421875 11.734375 6.484375 \nQ 5.515625 14.40625 5.515625 27.296875 \nQ 5.515625 40.1875 11.734375 48.09375 \nQ 17.96875 56 27.875 56 \nQ 33.9375 56 38.25 53.625 \nQ 42.578125 51.265625 45.40625 46.390625 \nz\nM 14.796875 27.296875 \nQ 14.796875 17.390625 18.875 11.75 \nQ 22.953125 6.109375 30.078125 6.109375 \nQ 37.203125 6.109375 41.296875 11.75 \nQ 45.40625 17.390625 45.40625 27.296875 \nQ 45.40625 37.203125 41.296875 42.84375 \nQ 37.203125 48.484375 30.078125 48.484375 \nQ 22.953125 48.484375 18.875 42.84375 \nQ 14.796875 37.203125 14.796875 27.296875 \nz\n\" id=\"DejaVuSans-100\"/>\n     <path d=\"M 18.3125 70.21875 \nL 18.3125 54.6875 \nL 36.8125 54.6875 \nL 36.8125 47.703125 \nL 18.3125 47.703125 \nL 18.3125 18.015625 \nQ 18.3125 11.328125 20.140625 9.421875 \nQ 21.96875 7.515625 27.59375 7.515625 \nL 36.8125 7.515625 \nL 36.8125 0 \nL 27.59375 0 \nQ 17.1875 0 13.234375 3.875 \nQ 9.28125 7.765625 9.28125 18.015625 \nL 9.28125 47.703125 \nL 2.6875 47.703125 \nL 2.6875 54.6875 \nL 9.28125 54.6875 \nL 9.28125 70.21875 \nz\n\" id=\"DejaVuSans-116\"/>\n     <path d=\"M 4.890625 31.390625 \nL 31.203125 31.390625 \nL 31.203125 23.390625 \nL 4.890625 23.390625 \nz\n\" id=\"DejaVuSans-45\"/>\n    </defs>\n    <g transform=\"translate(122.701563 16.318125)scale(0.12 -0.12)\">\n     <use xlink:href=\"#DejaVuSans-84\"/>\n     <use x=\"46.333984\" xlink:href=\"#DejaVuSans-114\"/>\n     <use x=\"87.447266\" xlink:href=\"#DejaVuSans-97\"/>\n     <use x=\"148.726562\" xlink:href=\"#DejaVuSans-105\"/>\n     <use x=\"176.509766\" xlink:href=\"#DejaVuSans-110\"/>\n     <use x=\"239.888672\" xlink:href=\"#DejaVuSans-105\"/>\n     <use x=\"267.671875\" xlink:href=\"#DejaVuSans-110\"/>\n     <use x=\"331.050781\" xlink:href=\"#DejaVuSans-103\"/>\n     <use x=\"394.527344\" xlink:href=\"#DejaVuSans-32\"/>\n     <use x=\"426.314453\" xlink:href=\"#DejaVuSans-38\"/>\n     <use x=\"504.292969\" xlink:href=\"#DejaVuSans-32\"/>\n     <use x=\"536.080078\" xlink:href=\"#DejaVuSans-86\"/>\n     <use x=\"596.738281\" xlink:href=\"#DejaVuSans-97\"/>\n     <use x=\"658.017578\" xlink:href=\"#DejaVuSans-108\"/>\n     <use x=\"685.800781\" xlink:href=\"#DejaVuSans-105\"/>\n     <use x=\"713.583984\" xlink:href=\"#DejaVuSans-100\"/>\n     <use x=\"777.060547\" xlink:href=\"#DejaVuSans-97\"/>\n     <use x=\"838.339844\" xlink:href=\"#DejaVuSans-116\"/>\n     <use x=\"877.548828\" xlink:href=\"#DejaVuSans-105\"/>\n     <use x=\"905.332031\" xlink:href=\"#DejaVuSans-111\"/>\n     <use x=\"966.513672\" xlink:href=\"#DejaVuSans-110\"/>\n     <use x=\"1029.892578\" xlink:href=\"#DejaVuSans-32\"/>\n     <use x=\"1061.679688\" xlink:href=\"#DejaVuSans-45\"/>\n     <use x=\"1097.763672\" xlink:href=\"#DejaVuSans-32\"/>\n     <use x=\"1129.550781\" xlink:href=\"#DejaVuSans-97\"/>\n     <use x=\"1190.830078\" xlink:href=\"#DejaVuSans-99\"/>\n     <use x=\"1245.810547\" xlink:href=\"#DejaVuSans-99\"/>\n     <use x=\"1300.791016\" xlink:href=\"#DejaVuSans-117\"/>\n     <use x=\"1364.169922\" xlink:href=\"#DejaVuSans-114\"/>\n     <use x=\"1405.283203\" xlink:href=\"#DejaVuSans-97\"/>\n     <use x=\"1466.5625\" xlink:href=\"#DejaVuSans-99\"/>\n     <use x=\"1521.542969\" xlink:href=\"#DejaVuSans-121\"/>\n    </g>\n   </g>\n   <g id=\"legend_1\">\n    <g id=\"patch_7\">\n     <path d=\"M 272.55 60.230625 \nL 377.94375 60.230625 \nQ 379.94375 60.230625 379.94375 58.230625 \nL 379.94375 29.318125 \nQ 379.94375 27.318125 377.94375 27.318125 \nL 272.55 27.318125 \nQ 270.55 27.318125 270.55 29.318125 \nL 270.55 58.230625 \nQ 270.55 60.230625 272.55 60.230625 \nz\n\" style=\"fill:#ffffff;opacity:0.8;stroke:#cccccc;stroke-linejoin:miter;\"/>\n    </g>\n    <g id=\"line2d_13\">\n     <path d=\"M 274.55 35.416562 \nL 294.55 35.416562 \n\" style=\"fill:none;stroke:#1f77b4;stroke-linecap:square;stroke-width:1.5;\"/>\n    </g>\n    <g id=\"line2d_14\"/>\n    <g id=\"text_14\">\n     <!-- train_accuracy -->\n     <defs>\n      <path d=\"M 50.984375 -16.609375 \nL 50.984375 -23.578125 \nL -0.984375 -23.578125 \nL -0.984375 -16.609375 \nz\n\" id=\"DejaVuSans-95\"/>\n     </defs>\n     <g transform=\"translate(302.55 38.916562)scale(0.1 -0.1)\">\n      <use xlink:href=\"#DejaVuSans-116\"/>\n      <use x=\"39.208984\" xlink:href=\"#DejaVuSans-114\"/>\n      <use x=\"80.322266\" xlink:href=\"#DejaVuSans-97\"/>\n      <use x=\"141.601562\" xlink:href=\"#DejaVuSans-105\"/>\n      <use x=\"169.384766\" xlink:href=\"#DejaVuSans-110\"/>\n      <use x=\"232.763672\" xlink:href=\"#DejaVuSans-95\"/>\n      <use x=\"282.763672\" xlink:href=\"#DejaVuSans-97\"/>\n      <use x=\"344.042969\" xlink:href=\"#DejaVuSans-99\"/>\n      <use x=\"399.023438\" xlink:href=\"#DejaVuSans-99\"/>\n      <use x=\"454.003906\" xlink:href=\"#DejaVuSans-117\"/>\n      <use x=\"517.382812\" xlink:href=\"#DejaVuSans-114\"/>\n      <use x=\"558.496094\" xlink:href=\"#DejaVuSans-97\"/>\n      <use x=\"619.775391\" xlink:href=\"#DejaVuSans-99\"/>\n      <use x=\"674.755859\" xlink:href=\"#DejaVuSans-121\"/>\n     </g>\n    </g>\n    <g id=\"line2d_15\">\n     <path d=\"M 274.55 50.372812 \nL 294.55 50.372812 \n\" style=\"fill:none;stroke:#ff7f0e;stroke-linecap:square;stroke-width:1.5;\"/>\n    </g>\n    <g id=\"line2d_16\"/>\n    <g id=\"text_15\">\n     <!-- val_accuracy -->\n     <defs>\n      <path d=\"M 2.984375 54.6875 \nL 12.5 54.6875 \nL 29.59375 8.796875 \nL 46.6875 54.6875 \nL 56.203125 54.6875 \nL 35.6875 0 \nL 23.484375 0 \nz\n\" id=\"DejaVuSans-118\"/>\n     </defs>\n     <g transform=\"translate(302.55 53.872812)scale(0.1 -0.1)\">\n      <use xlink:href=\"#DejaVuSans-118\"/>\n      <use x=\"59.179688\" xlink:href=\"#DejaVuSans-97\"/>\n      <use x=\"120.458984\" xlink:href=\"#DejaVuSans-108\"/>\n      <use x=\"148.242188\" xlink:href=\"#DejaVuSans-95\"/>\n      <use x=\"198.242188\" xlink:href=\"#DejaVuSans-97\"/>\n      <use x=\"259.521484\" xlink:href=\"#DejaVuSans-99\"/>\n      <use x=\"314.501953\" xlink:href=\"#DejaVuSans-99\"/>\n      <use x=\"369.482422\" xlink:href=\"#DejaVuSans-117\"/>\n      <use x=\"432.861328\" xlink:href=\"#DejaVuSans-114\"/>\n      <use x=\"473.974609\" xlink:href=\"#DejaVuSans-97\"/>\n      <use x=\"535.253906\" xlink:href=\"#DejaVuSans-99\"/>\n      <use x=\"590.234375\" xlink:href=\"#DejaVuSans-121\"/>\n     </g>\n    </g>\n   </g>\n  </g>\n </g>\n <defs>\n  <clipPath id=\"pe0ef0cade0\">\n   <rect height=\"217.44\" width=\"334.8\" x=\"50.14375\" y=\"22.318125\"/>\n  </clipPath>\n </defs>\n</svg>\n"
          },
          "metadata": {
            "needs_background": "light"
          }
        }
      ]
    },
    {
      "cell_type": "code",
      "metadata": {
        "id": "HYAEajVJcV-J",
        "colab": {
          "base_uri": "https://localhost:8080/",
          "height": 391
        },
        "outputId": "126e3fb7-a462-41da-f1a6-4956343b0c09"
      },
      "source": [
        "# plotando o gráfico da perda\n",
        "plot_metric(history, 'loss')"
      ],
      "execution_count": null,
      "outputs": [
        {
          "output_type": "display_data",
          "data": {
            "text/plain": [
              "<Figure size 432x288 with 1 Axes>"
            ],
            "image/svg+xml": "<?xml version=\"1.0\" encoding=\"utf-8\" standalone=\"no\"?>\n<!DOCTYPE svg PUBLIC \"-//W3C//DTD SVG 1.1//EN\"\n  \"http://www.w3.org/Graphics/SVG/1.1/DTD/svg11.dtd\">\n<!-- Created with matplotlib (https://matplotlib.org/) -->\n<svg height=\"277.314375pt\" version=\"1.1\" viewBox=\"0 0 385.78125 277.314375\" width=\"385.78125pt\" xmlns=\"http://www.w3.org/2000/svg\" xmlns:xlink=\"http://www.w3.org/1999/xlink\">\n <defs>\n  <style type=\"text/css\">\n*{stroke-linecap:butt;stroke-linejoin:round;}\n  </style>\n </defs>\n <g id=\"figure_1\">\n  <g id=\"patch_1\">\n   <path d=\"M 0 277.314375 \nL 385.78125 277.314375 \nL 385.78125 0 \nL 0 0 \nz\n\" style=\"fill:none;\"/>\n  </g>\n  <g id=\"axes_1\">\n   <g id=\"patch_2\">\n    <path d=\"M 43.78125 239.758125 \nL 378.58125 239.758125 \nL 378.58125 22.318125 \nL 43.78125 22.318125 \nz\n\" style=\"fill:#ffffff;\"/>\n   </g>\n   <g id=\"matplotlib.axis_1\">\n    <g id=\"xtick_1\">\n     <g id=\"line2d_1\">\n      <defs>\n       <path d=\"M 0 0 \nL 0 3.5 \n\" id=\"m8df9fcc221\" style=\"stroke:#000000;stroke-width:0.8;\"/>\n      </defs>\n      <g>\n       <use style=\"stroke:#000000;stroke-width:0.8;\" x=\"89.435795\" xlink:href=\"#m8df9fcc221\" y=\"239.758125\"/>\n      </g>\n     </g>\n     <g id=\"text_1\">\n      <!-- 0.96 -->\n      <defs>\n       <path d=\"M 31.78125 66.40625 \nQ 24.171875 66.40625 20.328125 58.90625 \nQ 16.5 51.421875 16.5 36.375 \nQ 16.5 21.390625 20.328125 13.890625 \nQ 24.171875 6.390625 31.78125 6.390625 \nQ 39.453125 6.390625 43.28125 13.890625 \nQ 47.125 21.390625 47.125 36.375 \nQ 47.125 51.421875 43.28125 58.90625 \nQ 39.453125 66.40625 31.78125 66.40625 \nz\nM 31.78125 74.21875 \nQ 44.046875 74.21875 50.515625 64.515625 \nQ 56.984375 54.828125 56.984375 36.375 \nQ 56.984375 17.96875 50.515625 8.265625 \nQ 44.046875 -1.421875 31.78125 -1.421875 \nQ 19.53125 -1.421875 13.0625 8.265625 \nQ 6.59375 17.96875 6.59375 36.375 \nQ 6.59375 54.828125 13.0625 64.515625 \nQ 19.53125 74.21875 31.78125 74.21875 \nz\n\" id=\"DejaVuSans-48\"/>\n       <path d=\"M 10.6875 12.40625 \nL 21 12.40625 \nL 21 0 \nL 10.6875 0 \nz\n\" id=\"DejaVuSans-46\"/>\n       <path d=\"M 10.984375 1.515625 \nL 10.984375 10.5 \nQ 14.703125 8.734375 18.5 7.8125 \nQ 22.3125 6.890625 25.984375 6.890625 \nQ 35.75 6.890625 40.890625 13.453125 \nQ 46.046875 20.015625 46.78125 33.40625 \nQ 43.953125 29.203125 39.59375 26.953125 \nQ 35.25 24.703125 29.984375 24.703125 \nQ 19.046875 24.703125 12.671875 31.3125 \nQ 6.296875 37.9375 6.296875 49.421875 \nQ 6.296875 60.640625 12.9375 67.421875 \nQ 19.578125 74.21875 30.609375 74.21875 \nQ 43.265625 74.21875 49.921875 64.515625 \nQ 56.59375 54.828125 56.59375 36.375 \nQ 56.59375 19.140625 48.40625 8.859375 \nQ 40.234375 -1.421875 26.421875 -1.421875 \nQ 22.703125 -1.421875 18.890625 -0.6875 \nQ 15.09375 0.046875 10.984375 1.515625 \nz\nM 30.609375 32.421875 \nQ 37.25 32.421875 41.125 36.953125 \nQ 45.015625 41.5 45.015625 49.421875 \nQ 45.015625 57.28125 41.125 61.84375 \nQ 37.25 66.40625 30.609375 66.40625 \nQ 23.96875 66.40625 20.09375 61.84375 \nQ 16.21875 57.28125 16.21875 49.421875 \nQ 16.21875 41.5 20.09375 36.953125 \nQ 23.96875 32.421875 30.609375 32.421875 \nz\n\" id=\"DejaVuSans-57\"/>\n       <path d=\"M 33.015625 40.375 \nQ 26.375 40.375 22.484375 35.828125 \nQ 18.609375 31.296875 18.609375 23.390625 \nQ 18.609375 15.53125 22.484375 10.953125 \nQ 26.375 6.390625 33.015625 6.390625 \nQ 39.65625 6.390625 43.53125 10.953125 \nQ 47.40625 15.53125 47.40625 23.390625 \nQ 47.40625 31.296875 43.53125 35.828125 \nQ 39.65625 40.375 33.015625 40.375 \nz\nM 52.59375 71.296875 \nL 52.59375 62.3125 \nQ 48.875 64.0625 45.09375 64.984375 \nQ 41.3125 65.921875 37.59375 65.921875 \nQ 27.828125 65.921875 22.671875 59.328125 \nQ 17.53125 52.734375 16.796875 39.40625 \nQ 19.671875 43.65625 24.015625 45.921875 \nQ 28.375 48.1875 33.59375 48.1875 \nQ 44.578125 48.1875 50.953125 41.515625 \nQ 57.328125 34.859375 57.328125 23.390625 \nQ 57.328125 12.15625 50.6875 5.359375 \nQ 44.046875 -1.421875 33.015625 -1.421875 \nQ 20.359375 -1.421875 13.671875 8.265625 \nQ 6.984375 17.96875 6.984375 36.375 \nQ 6.984375 53.65625 15.1875 63.9375 \nQ 23.390625 74.21875 37.203125 74.21875 \nQ 40.921875 74.21875 44.703125 73.484375 \nQ 48.484375 72.75 52.59375 71.296875 \nz\n\" id=\"DejaVuSans-54\"/>\n      </defs>\n      <g transform=\"translate(78.302983 254.356562)scale(0.1 -0.1)\">\n       <use xlink:href=\"#DejaVuSans-48\"/>\n       <use x=\"63.623047\" xlink:href=\"#DejaVuSans-46\"/>\n       <use x=\"95.410156\" xlink:href=\"#DejaVuSans-57\"/>\n       <use x=\"159.033203\" xlink:href=\"#DejaVuSans-54\"/>\n      </g>\n     </g>\n    </g>\n    <g id=\"xtick_2\">\n     <g id=\"line2d_2\">\n      <g>\n       <use style=\"stroke:#000000;stroke-width:0.8;\" x=\"150.308523\" xlink:href=\"#m8df9fcc221\" y=\"239.758125\"/>\n      </g>\n     </g>\n     <g id=\"text_2\">\n      <!-- 0.98 -->\n      <defs>\n       <path d=\"M 31.78125 34.625 \nQ 24.75 34.625 20.71875 30.859375 \nQ 16.703125 27.09375 16.703125 20.515625 \nQ 16.703125 13.921875 20.71875 10.15625 \nQ 24.75 6.390625 31.78125 6.390625 \nQ 38.8125 6.390625 42.859375 10.171875 \nQ 46.921875 13.96875 46.921875 20.515625 \nQ 46.921875 27.09375 42.890625 30.859375 \nQ 38.875 34.625 31.78125 34.625 \nz\nM 21.921875 38.8125 \nQ 15.578125 40.375 12.03125 44.71875 \nQ 8.5 49.078125 8.5 55.328125 \nQ 8.5 64.0625 14.71875 69.140625 \nQ 20.953125 74.21875 31.78125 74.21875 \nQ 42.671875 74.21875 48.875 69.140625 \nQ 55.078125 64.0625 55.078125 55.328125 \nQ 55.078125 49.078125 51.53125 44.71875 \nQ 48 40.375 41.703125 38.8125 \nQ 48.828125 37.15625 52.796875 32.3125 \nQ 56.78125 27.484375 56.78125 20.515625 \nQ 56.78125 9.90625 50.3125 4.234375 \nQ 43.84375 -1.421875 31.78125 -1.421875 \nQ 19.734375 -1.421875 13.25 4.234375 \nQ 6.78125 9.90625 6.78125 20.515625 \nQ 6.78125 27.484375 10.78125 32.3125 \nQ 14.796875 37.15625 21.921875 38.8125 \nz\nM 18.3125 54.390625 \nQ 18.3125 48.734375 21.84375 45.5625 \nQ 25.390625 42.390625 31.78125 42.390625 \nQ 38.140625 42.390625 41.71875 45.5625 \nQ 45.3125 48.734375 45.3125 54.390625 \nQ 45.3125 60.0625 41.71875 63.234375 \nQ 38.140625 66.40625 31.78125 66.40625 \nQ 25.390625 66.40625 21.84375 63.234375 \nQ 18.3125 60.0625 18.3125 54.390625 \nz\n\" id=\"DejaVuSans-56\"/>\n      </defs>\n      <g transform=\"translate(139.17571 254.356562)scale(0.1 -0.1)\">\n       <use xlink:href=\"#DejaVuSans-48\"/>\n       <use x=\"63.623047\" xlink:href=\"#DejaVuSans-46\"/>\n       <use x=\"95.410156\" xlink:href=\"#DejaVuSans-57\"/>\n       <use x=\"159.033203\" xlink:href=\"#DejaVuSans-56\"/>\n      </g>\n     </g>\n    </g>\n    <g id=\"xtick_3\">\n     <g id=\"line2d_3\">\n      <g>\n       <use style=\"stroke:#000000;stroke-width:0.8;\" x=\"211.18125\" xlink:href=\"#m8df9fcc221\" y=\"239.758125\"/>\n      </g>\n     </g>\n     <g id=\"text_3\">\n      <!-- 1.00 -->\n      <defs>\n       <path d=\"M 12.40625 8.296875 \nL 28.515625 8.296875 \nL 28.515625 63.921875 \nL 10.984375 60.40625 \nL 10.984375 69.390625 \nL 28.421875 72.90625 \nL 38.28125 72.90625 \nL 38.28125 8.296875 \nL 54.390625 8.296875 \nL 54.390625 0 \nL 12.40625 0 \nz\n\" id=\"DejaVuSans-49\"/>\n      </defs>\n      <g transform=\"translate(200.048438 254.356562)scale(0.1 -0.1)\">\n       <use xlink:href=\"#DejaVuSans-49\"/>\n       <use x=\"63.623047\" xlink:href=\"#DejaVuSans-46\"/>\n       <use x=\"95.410156\" xlink:href=\"#DejaVuSans-48\"/>\n       <use x=\"159.033203\" xlink:href=\"#DejaVuSans-48\"/>\n      </g>\n     </g>\n    </g>\n    <g id=\"xtick_4\">\n     <g id=\"line2d_4\">\n      <g>\n       <use style=\"stroke:#000000;stroke-width:0.8;\" x=\"272.053977\" xlink:href=\"#m8df9fcc221\" y=\"239.758125\"/>\n      </g>\n     </g>\n     <g id=\"text_4\">\n      <!-- 1.02 -->\n      <defs>\n       <path d=\"M 19.1875 8.296875 \nL 53.609375 8.296875 \nL 53.609375 0 \nL 7.328125 0 \nL 7.328125 8.296875 \nQ 12.9375 14.109375 22.625 23.890625 \nQ 32.328125 33.6875 34.8125 36.53125 \nQ 39.546875 41.84375 41.421875 45.53125 \nQ 43.3125 49.21875 43.3125 52.78125 \nQ 43.3125 58.59375 39.234375 62.25 \nQ 35.15625 65.921875 28.609375 65.921875 \nQ 23.96875 65.921875 18.8125 64.3125 \nQ 13.671875 62.703125 7.8125 59.421875 \nL 7.8125 69.390625 \nQ 13.765625 71.78125 18.9375 73 \nQ 24.125 74.21875 28.421875 74.21875 \nQ 39.75 74.21875 46.484375 68.546875 \nQ 53.21875 62.890625 53.21875 53.421875 \nQ 53.21875 48.921875 51.53125 44.890625 \nQ 49.859375 40.875 45.40625 35.40625 \nQ 44.1875 33.984375 37.640625 27.21875 \nQ 31.109375 20.453125 19.1875 8.296875 \nz\n\" id=\"DejaVuSans-50\"/>\n      </defs>\n      <g transform=\"translate(260.921165 254.356562)scale(0.1 -0.1)\">\n       <use xlink:href=\"#DejaVuSans-49\"/>\n       <use x=\"63.623047\" xlink:href=\"#DejaVuSans-46\"/>\n       <use x=\"95.410156\" xlink:href=\"#DejaVuSans-48\"/>\n       <use x=\"159.033203\" xlink:href=\"#DejaVuSans-50\"/>\n      </g>\n     </g>\n    </g>\n    <g id=\"xtick_5\">\n     <g id=\"line2d_5\">\n      <g>\n       <use style=\"stroke:#000000;stroke-width:0.8;\" x=\"332.926705\" xlink:href=\"#m8df9fcc221\" y=\"239.758125\"/>\n      </g>\n     </g>\n     <g id=\"text_5\">\n      <!-- 1.04 -->\n      <defs>\n       <path d=\"M 37.796875 64.3125 \nL 12.890625 25.390625 \nL 37.796875 25.390625 \nz\nM 35.203125 72.90625 \nL 47.609375 72.90625 \nL 47.609375 25.390625 \nL 58.015625 25.390625 \nL 58.015625 17.1875 \nL 47.609375 17.1875 \nL 47.609375 0 \nL 37.796875 0 \nL 37.796875 17.1875 \nL 4.890625 17.1875 \nL 4.890625 26.703125 \nz\n\" id=\"DejaVuSans-52\"/>\n      </defs>\n      <g transform=\"translate(321.793892 254.356562)scale(0.1 -0.1)\">\n       <use xlink:href=\"#DejaVuSans-49\"/>\n       <use x=\"63.623047\" xlink:href=\"#DejaVuSans-46\"/>\n       <use x=\"95.410156\" xlink:href=\"#DejaVuSans-48\"/>\n       <use x=\"159.033203\" xlink:href=\"#DejaVuSans-52\"/>\n      </g>\n     </g>\n    </g>\n    <g id=\"text_6\">\n     <!-- Epochs -->\n     <defs>\n      <path d=\"M 9.8125 72.90625 \nL 55.90625 72.90625 \nL 55.90625 64.59375 \nL 19.671875 64.59375 \nL 19.671875 43.015625 \nL 54.390625 43.015625 \nL 54.390625 34.71875 \nL 19.671875 34.71875 \nL 19.671875 8.296875 \nL 56.78125 8.296875 \nL 56.78125 0 \nL 9.8125 0 \nz\n\" id=\"DejaVuSans-69\"/>\n      <path d=\"M 18.109375 8.203125 \nL 18.109375 -20.796875 \nL 9.078125 -20.796875 \nL 9.078125 54.6875 \nL 18.109375 54.6875 \nL 18.109375 46.390625 \nQ 20.953125 51.265625 25.265625 53.625 \nQ 29.59375 56 35.59375 56 \nQ 45.5625 56 51.78125 48.09375 \nQ 58.015625 40.1875 58.015625 27.296875 \nQ 58.015625 14.40625 51.78125 6.484375 \nQ 45.5625 -1.421875 35.59375 -1.421875 \nQ 29.59375 -1.421875 25.265625 0.953125 \nQ 20.953125 3.328125 18.109375 8.203125 \nz\nM 48.6875 27.296875 \nQ 48.6875 37.203125 44.609375 42.84375 \nQ 40.53125 48.484375 33.40625 48.484375 \nQ 26.265625 48.484375 22.1875 42.84375 \nQ 18.109375 37.203125 18.109375 27.296875 \nQ 18.109375 17.390625 22.1875 11.75 \nQ 26.265625 6.109375 33.40625 6.109375 \nQ 40.53125 6.109375 44.609375 11.75 \nQ 48.6875 17.390625 48.6875 27.296875 \nz\n\" id=\"DejaVuSans-112\"/>\n      <path d=\"M 30.609375 48.390625 \nQ 23.390625 48.390625 19.1875 42.75 \nQ 14.984375 37.109375 14.984375 27.296875 \nQ 14.984375 17.484375 19.15625 11.84375 \nQ 23.34375 6.203125 30.609375 6.203125 \nQ 37.796875 6.203125 41.984375 11.859375 \nQ 46.1875 17.53125 46.1875 27.296875 \nQ 46.1875 37.015625 41.984375 42.703125 \nQ 37.796875 48.390625 30.609375 48.390625 \nz\nM 30.609375 56 \nQ 42.328125 56 49.015625 48.375 \nQ 55.71875 40.765625 55.71875 27.296875 \nQ 55.71875 13.875 49.015625 6.21875 \nQ 42.328125 -1.421875 30.609375 -1.421875 \nQ 18.84375 -1.421875 12.171875 6.21875 \nQ 5.515625 13.875 5.515625 27.296875 \nQ 5.515625 40.765625 12.171875 48.375 \nQ 18.84375 56 30.609375 56 \nz\n\" id=\"DejaVuSans-111\"/>\n      <path d=\"M 48.78125 52.59375 \nL 48.78125 44.1875 \nQ 44.96875 46.296875 41.140625 47.34375 \nQ 37.3125 48.390625 33.40625 48.390625 \nQ 24.65625 48.390625 19.8125 42.84375 \nQ 14.984375 37.3125 14.984375 27.296875 \nQ 14.984375 17.28125 19.8125 11.734375 \nQ 24.65625 6.203125 33.40625 6.203125 \nQ 37.3125 6.203125 41.140625 7.25 \nQ 44.96875 8.296875 48.78125 10.40625 \nL 48.78125 2.09375 \nQ 45.015625 0.34375 40.984375 -0.53125 \nQ 36.96875 -1.421875 32.421875 -1.421875 \nQ 20.0625 -1.421875 12.78125 6.34375 \nQ 5.515625 14.109375 5.515625 27.296875 \nQ 5.515625 40.671875 12.859375 48.328125 \nQ 20.21875 56 33.015625 56 \nQ 37.15625 56 41.109375 55.140625 \nQ 45.0625 54.296875 48.78125 52.59375 \nz\n\" id=\"DejaVuSans-99\"/>\n      <path d=\"M 54.890625 33.015625 \nL 54.890625 0 \nL 45.90625 0 \nL 45.90625 32.71875 \nQ 45.90625 40.484375 42.875 44.328125 \nQ 39.84375 48.1875 33.796875 48.1875 \nQ 26.515625 48.1875 22.3125 43.546875 \nQ 18.109375 38.921875 18.109375 30.90625 \nL 18.109375 0 \nL 9.078125 0 \nL 9.078125 75.984375 \nL 18.109375 75.984375 \nL 18.109375 46.1875 \nQ 21.34375 51.125 25.703125 53.5625 \nQ 30.078125 56 35.796875 56 \nQ 45.21875 56 50.046875 50.171875 \nQ 54.890625 44.34375 54.890625 33.015625 \nz\n\" id=\"DejaVuSans-104\"/>\n      <path d=\"M 44.28125 53.078125 \nL 44.28125 44.578125 \nQ 40.484375 46.53125 36.375 47.5 \nQ 32.28125 48.484375 27.875 48.484375 \nQ 21.1875 48.484375 17.84375 46.4375 \nQ 14.5 44.390625 14.5 40.28125 \nQ 14.5 37.15625 16.890625 35.375 \nQ 19.28125 33.59375 26.515625 31.984375 \nL 29.59375 31.296875 \nQ 39.15625 29.25 43.1875 25.515625 \nQ 47.21875 21.78125 47.21875 15.09375 \nQ 47.21875 7.46875 41.1875 3.015625 \nQ 35.15625 -1.421875 24.609375 -1.421875 \nQ 20.21875 -1.421875 15.453125 -0.5625 \nQ 10.6875 0.296875 5.421875 2 \nL 5.421875 11.28125 \nQ 10.40625 8.6875 15.234375 7.390625 \nQ 20.0625 6.109375 24.8125 6.109375 \nQ 31.15625 6.109375 34.5625 8.28125 \nQ 37.984375 10.453125 37.984375 14.40625 \nQ 37.984375 18.0625 35.515625 20.015625 \nQ 33.0625 21.96875 24.703125 23.78125 \nL 21.578125 24.515625 \nQ 13.234375 26.265625 9.515625 29.90625 \nQ 5.8125 33.546875 5.8125 39.890625 \nQ 5.8125 47.609375 11.28125 51.796875 \nQ 16.75 56 26.8125 56 \nQ 31.78125 56 36.171875 55.265625 \nQ 40.578125 54.546875 44.28125 53.078125 \nz\n\" id=\"DejaVuSans-115\"/>\n     </defs>\n     <g transform=\"translate(193.265625 268.034687)scale(0.1 -0.1)\">\n      <use xlink:href=\"#DejaVuSans-69\"/>\n      <use x=\"63.183594\" xlink:href=\"#DejaVuSans-112\"/>\n      <use x=\"126.660156\" xlink:href=\"#DejaVuSans-111\"/>\n      <use x=\"187.841797\" xlink:href=\"#DejaVuSans-99\"/>\n      <use x=\"242.822266\" xlink:href=\"#DejaVuSans-104\"/>\n      <use x=\"306.201172\" xlink:href=\"#DejaVuSans-115\"/>\n     </g>\n    </g>\n   </g>\n   <g id=\"matplotlib.axis_2\">\n    <g id=\"ytick_1\">\n     <g id=\"line2d_6\">\n      <defs>\n       <path d=\"M 0 0 \nL -3.5 0 \n\" id=\"mdfee26689a\" style=\"stroke:#000000;stroke-width:0.8;\"/>\n      </defs>\n      <g>\n       <use style=\"stroke:#000000;stroke-width:0.8;\" x=\"43.78125\" xlink:href=\"#mdfee26689a\" y=\"230.503887\"/>\n      </g>\n     </g>\n     <g id=\"text_7\">\n      <!-- 1.1 -->\n      <g transform=\"translate(20.878125 234.303106)scale(0.1 -0.1)\">\n       <use xlink:href=\"#DejaVuSans-49\"/>\n       <use x=\"63.623047\" xlink:href=\"#DejaVuSans-46\"/>\n       <use x=\"95.410156\" xlink:href=\"#DejaVuSans-49\"/>\n      </g>\n     </g>\n    </g>\n    <g id=\"ytick_2\">\n     <g id=\"line2d_7\">\n      <g>\n       <use style=\"stroke:#000000;stroke-width:0.8;\" x=\"43.78125\" xlink:href=\"#mdfee26689a\" y=\"183.346995\"/>\n      </g>\n     </g>\n     <g id=\"text_8\">\n      <!-- 1.2 -->\n      <g transform=\"translate(20.878125 187.146214)scale(0.1 -0.1)\">\n       <use xlink:href=\"#DejaVuSans-49\"/>\n       <use x=\"63.623047\" xlink:href=\"#DejaVuSans-46\"/>\n       <use x=\"95.410156\" xlink:href=\"#DejaVuSans-50\"/>\n      </g>\n     </g>\n    </g>\n    <g id=\"ytick_3\">\n     <g id=\"line2d_8\">\n      <g>\n       <use style=\"stroke:#000000;stroke-width:0.8;\" x=\"43.78125\" xlink:href=\"#mdfee26689a\" y=\"136.190103\"/>\n      </g>\n     </g>\n     <g id=\"text_9\">\n      <!-- 1.3 -->\n      <defs>\n       <path d=\"M 40.578125 39.3125 \nQ 47.65625 37.796875 51.625 33 \nQ 55.609375 28.21875 55.609375 21.1875 \nQ 55.609375 10.40625 48.1875 4.484375 \nQ 40.765625 -1.421875 27.09375 -1.421875 \nQ 22.515625 -1.421875 17.65625 -0.515625 \nQ 12.796875 0.390625 7.625 2.203125 \nL 7.625 11.71875 \nQ 11.71875 9.328125 16.59375 8.109375 \nQ 21.484375 6.890625 26.8125 6.890625 \nQ 36.078125 6.890625 40.9375 10.546875 \nQ 45.796875 14.203125 45.796875 21.1875 \nQ 45.796875 27.640625 41.28125 31.265625 \nQ 36.765625 34.90625 28.71875 34.90625 \nL 20.21875 34.90625 \nL 20.21875 43.015625 \nL 29.109375 43.015625 \nQ 36.375 43.015625 40.234375 45.921875 \nQ 44.09375 48.828125 44.09375 54.296875 \nQ 44.09375 59.90625 40.109375 62.90625 \nQ 36.140625 65.921875 28.71875 65.921875 \nQ 24.65625 65.921875 20.015625 65.03125 \nQ 15.375 64.15625 9.8125 62.3125 \nL 9.8125 71.09375 \nQ 15.4375 72.65625 20.34375 73.4375 \nQ 25.25 74.21875 29.59375 74.21875 \nQ 40.828125 74.21875 47.359375 69.109375 \nQ 53.90625 64.015625 53.90625 55.328125 \nQ 53.90625 49.265625 50.4375 45.09375 \nQ 46.96875 40.921875 40.578125 39.3125 \nz\n\" id=\"DejaVuSans-51\"/>\n      </defs>\n      <g transform=\"translate(20.878125 139.989322)scale(0.1 -0.1)\">\n       <use xlink:href=\"#DejaVuSans-49\"/>\n       <use x=\"63.623047\" xlink:href=\"#DejaVuSans-46\"/>\n       <use x=\"95.410156\" xlink:href=\"#DejaVuSans-51\"/>\n      </g>\n     </g>\n    </g>\n    <g id=\"ytick_4\">\n     <g id=\"line2d_9\">\n      <g>\n       <use style=\"stroke:#000000;stroke-width:0.8;\" x=\"43.78125\" xlink:href=\"#mdfee26689a\" y=\"89.033211\"/>\n      </g>\n     </g>\n     <g id=\"text_10\">\n      <!-- 1.4 -->\n      <g transform=\"translate(20.878125 92.83243)scale(0.1 -0.1)\">\n       <use xlink:href=\"#DejaVuSans-49\"/>\n       <use x=\"63.623047\" xlink:href=\"#DejaVuSans-46\"/>\n       <use x=\"95.410156\" xlink:href=\"#DejaVuSans-52\"/>\n      </g>\n     </g>\n    </g>\n    <g id=\"ytick_5\">\n     <g id=\"line2d_10\">\n      <g>\n       <use style=\"stroke:#000000;stroke-width:0.8;\" x=\"43.78125\" xlink:href=\"#mdfee26689a\" y=\"41.876319\"/>\n      </g>\n     </g>\n     <g id=\"text_11\">\n      <!-- 1.5 -->\n      <defs>\n       <path d=\"M 10.796875 72.90625 \nL 49.515625 72.90625 \nL 49.515625 64.59375 \nL 19.828125 64.59375 \nL 19.828125 46.734375 \nQ 21.96875 47.46875 24.109375 47.828125 \nQ 26.265625 48.1875 28.421875 48.1875 \nQ 40.625 48.1875 47.75 41.5 \nQ 54.890625 34.8125 54.890625 23.390625 \nQ 54.890625 11.625 47.5625 5.09375 \nQ 40.234375 -1.421875 26.90625 -1.421875 \nQ 22.3125 -1.421875 17.546875 -0.640625 \nQ 12.796875 0.140625 7.71875 1.703125 \nL 7.71875 11.625 \nQ 12.109375 9.234375 16.796875 8.0625 \nQ 21.484375 6.890625 26.703125 6.890625 \nQ 35.15625 6.890625 40.078125 11.328125 \nQ 45.015625 15.765625 45.015625 23.390625 \nQ 45.015625 31 40.078125 35.4375 \nQ 35.15625 39.890625 26.703125 39.890625 \nQ 22.75 39.890625 18.8125 39.015625 \nQ 14.890625 38.140625 10.796875 36.28125 \nz\n\" id=\"DejaVuSans-53\"/>\n      </defs>\n      <g transform=\"translate(20.878125 45.675537)scale(0.1 -0.1)\">\n       <use xlink:href=\"#DejaVuSans-49\"/>\n       <use x=\"63.623047\" xlink:href=\"#DejaVuSans-46\"/>\n       <use x=\"95.410156\" xlink:href=\"#DejaVuSans-53\"/>\n      </g>\n     </g>\n    </g>\n    <g id=\"text_12\">\n     <!-- loss -->\n     <defs>\n      <path d=\"M 9.421875 75.984375 \nL 18.40625 75.984375 \nL 18.40625 0 \nL 9.421875 0 \nz\n\" id=\"DejaVuSans-108\"/>\n     </defs>\n     <g transform=\"translate(14.798438 140.695937)rotate(-90)scale(0.1 -0.1)\">\n      <use xlink:href=\"#DejaVuSans-108\"/>\n      <use x=\"27.783203\" xlink:href=\"#DejaVuSans-111\"/>\n      <use x=\"88.964844\" xlink:href=\"#DejaVuSans-115\"/>\n      <use x=\"141.064453\" xlink:href=\"#DejaVuSans-115\"/>\n     </g>\n    </g>\n   </g>\n   <g id=\"line2d_11\">\n    <path clip-path=\"url(#pb776a1d046)\" d=\"M 211.18125 32.201761 \n\" style=\"fill:none;stroke:#1f77b4;stroke-linecap:square;stroke-width:1.5;\"/>\n   </g>\n   <g id=\"line2d_12\">\n    <path clip-path=\"url(#pb776a1d046)\" d=\"M 211.18125 229.874489 \n\" style=\"fill:none;stroke:#ff7f0e;stroke-linecap:square;stroke-width:1.5;\"/>\n   </g>\n   <g id=\"patch_3\">\n    <path d=\"M 43.78125 239.758125 \nL 43.78125 22.318125 \n\" style=\"fill:none;stroke:#000000;stroke-linecap:square;stroke-linejoin:miter;stroke-width:0.8;\"/>\n   </g>\n   <g id=\"patch_4\">\n    <path d=\"M 378.58125 239.758125 \nL 378.58125 22.318125 \n\" style=\"fill:none;stroke:#000000;stroke-linecap:square;stroke-linejoin:miter;stroke-width:0.8;\"/>\n   </g>\n   <g id=\"patch_5\">\n    <path d=\"M 43.78125 239.758125 \nL 378.58125 239.758125 \n\" style=\"fill:none;stroke:#000000;stroke-linecap:square;stroke-linejoin:miter;stroke-width:0.8;\"/>\n   </g>\n   <g id=\"patch_6\">\n    <path d=\"M 43.78125 22.318125 \nL 378.58125 22.318125 \n\" style=\"fill:none;stroke:#000000;stroke-linecap:square;stroke-linejoin:miter;stroke-width:0.8;\"/>\n   </g>\n   <g id=\"text_13\">\n    <!-- Training &amp; Validation - loss -->\n    <defs>\n     <path d=\"M -0.296875 72.90625 \nL 61.375 72.90625 \nL 61.375 64.59375 \nL 35.5 64.59375 \nL 35.5 0 \nL 25.59375 0 \nL 25.59375 64.59375 \nL -0.296875 64.59375 \nz\n\" id=\"DejaVuSans-84\"/>\n     <path d=\"M 41.109375 46.296875 \nQ 39.59375 47.171875 37.8125 47.578125 \nQ 36.03125 48 33.890625 48 \nQ 26.265625 48 22.1875 43.046875 \nQ 18.109375 38.09375 18.109375 28.8125 \nL 18.109375 0 \nL 9.078125 0 \nL 9.078125 54.6875 \nL 18.109375 54.6875 \nL 18.109375 46.1875 \nQ 20.953125 51.171875 25.484375 53.578125 \nQ 30.03125 56 36.53125 56 \nQ 37.453125 56 38.578125 55.875 \nQ 39.703125 55.765625 41.0625 55.515625 \nz\n\" id=\"DejaVuSans-114\"/>\n     <path d=\"M 34.28125 27.484375 \nQ 23.390625 27.484375 19.1875 25 \nQ 14.984375 22.515625 14.984375 16.5 \nQ 14.984375 11.71875 18.140625 8.90625 \nQ 21.296875 6.109375 26.703125 6.109375 \nQ 34.1875 6.109375 38.703125 11.40625 \nQ 43.21875 16.703125 43.21875 25.484375 \nL 43.21875 27.484375 \nz\nM 52.203125 31.203125 \nL 52.203125 0 \nL 43.21875 0 \nL 43.21875 8.296875 \nQ 40.140625 3.328125 35.546875 0.953125 \nQ 30.953125 -1.421875 24.3125 -1.421875 \nQ 15.921875 -1.421875 10.953125 3.296875 \nQ 6 8.015625 6 15.921875 \nQ 6 25.140625 12.171875 29.828125 \nQ 18.359375 34.515625 30.609375 34.515625 \nL 43.21875 34.515625 \nL 43.21875 35.40625 \nQ 43.21875 41.609375 39.140625 45 \nQ 35.0625 48.390625 27.6875 48.390625 \nQ 23 48.390625 18.546875 47.265625 \nQ 14.109375 46.140625 10.015625 43.890625 \nL 10.015625 52.203125 \nQ 14.9375 54.109375 19.578125 55.046875 \nQ 24.21875 56 28.609375 56 \nQ 40.484375 56 46.34375 49.84375 \nQ 52.203125 43.703125 52.203125 31.203125 \nz\n\" id=\"DejaVuSans-97\"/>\n     <path d=\"M 9.421875 54.6875 \nL 18.40625 54.6875 \nL 18.40625 0 \nL 9.421875 0 \nz\nM 9.421875 75.984375 \nL 18.40625 75.984375 \nL 18.40625 64.59375 \nL 9.421875 64.59375 \nz\n\" id=\"DejaVuSans-105\"/>\n     <path d=\"M 54.890625 33.015625 \nL 54.890625 0 \nL 45.90625 0 \nL 45.90625 32.71875 \nQ 45.90625 40.484375 42.875 44.328125 \nQ 39.84375 48.1875 33.796875 48.1875 \nQ 26.515625 48.1875 22.3125 43.546875 \nQ 18.109375 38.921875 18.109375 30.90625 \nL 18.109375 0 \nL 9.078125 0 \nL 9.078125 54.6875 \nL 18.109375 54.6875 \nL 18.109375 46.1875 \nQ 21.34375 51.125 25.703125 53.5625 \nQ 30.078125 56 35.796875 56 \nQ 45.21875 56 50.046875 50.171875 \nQ 54.890625 44.34375 54.890625 33.015625 \nz\n\" id=\"DejaVuSans-110\"/>\n     <path d=\"M 45.40625 27.984375 \nQ 45.40625 37.75 41.375 43.109375 \nQ 37.359375 48.484375 30.078125 48.484375 \nQ 22.859375 48.484375 18.828125 43.109375 \nQ 14.796875 37.75 14.796875 27.984375 \nQ 14.796875 18.265625 18.828125 12.890625 \nQ 22.859375 7.515625 30.078125 7.515625 \nQ 37.359375 7.515625 41.375 12.890625 \nQ 45.40625 18.265625 45.40625 27.984375 \nz\nM 54.390625 6.78125 \nQ 54.390625 -7.171875 48.1875 -13.984375 \nQ 42 -20.796875 29.203125 -20.796875 \nQ 24.46875 -20.796875 20.265625 -20.09375 \nQ 16.0625 -19.390625 12.109375 -17.921875 \nL 12.109375 -9.1875 \nQ 16.0625 -11.328125 19.921875 -12.34375 \nQ 23.78125 -13.375 27.78125 -13.375 \nQ 36.625 -13.375 41.015625 -8.765625 \nQ 45.40625 -4.15625 45.40625 5.171875 \nL 45.40625 9.625 \nQ 42.625 4.78125 38.28125 2.390625 \nQ 33.9375 0 27.875 0 \nQ 17.828125 0 11.671875 7.65625 \nQ 5.515625 15.328125 5.515625 27.984375 \nQ 5.515625 40.671875 11.671875 48.328125 \nQ 17.828125 56 27.875 56 \nQ 33.9375 56 38.28125 53.609375 \nQ 42.625 51.21875 45.40625 46.390625 \nL 45.40625 54.6875 \nL 54.390625 54.6875 \nz\n\" id=\"DejaVuSans-103\"/>\n     <path id=\"DejaVuSans-32\"/>\n     <path d=\"M 24.3125 39.203125 \nQ 19.875 35.25 17.796875 31.3125 \nQ 15.71875 27.390625 15.71875 23.09375 \nQ 15.71875 15.96875 20.890625 11.234375 \nQ 26.078125 6.5 33.890625 6.5 \nQ 38.53125 6.5 42.578125 8.03125 \nQ 46.625 9.578125 50.203125 12.703125 \nz\nM 31.203125 44.671875 \nL 56 19.28125 \nQ 58.890625 23.640625 60.5 28.59375 \nQ 62.109375 33.546875 62.40625 39.109375 \nL 71.484375 39.109375 \nQ 70.90625 32.671875 68.359375 26.359375 \nQ 65.828125 20.0625 61.28125 13.921875 \nL 74.90625 0 \nL 62.59375 0 \nL 55.609375 7.171875 \nQ 50.53125 2.828125 44.96875 0.703125 \nQ 39.40625 -1.421875 33.015625 -1.421875 \nQ 21.234375 -1.421875 13.765625 5.296875 \nQ 6.296875 12.015625 6.296875 22.515625 \nQ 6.296875 28.765625 9.5625 34.25 \nQ 12.84375 39.75 19.390625 44.578125 \nQ 17.046875 47.65625 15.8125 50.703125 \nQ 14.59375 53.765625 14.59375 56.6875 \nQ 14.59375 64.59375 20.015625 69.40625 \nQ 25.4375 74.21875 34.421875 74.21875 \nQ 38.484375 74.21875 42.5 73.34375 \nQ 46.53125 72.46875 50.6875 70.703125 \nL 50.6875 61.8125 \nQ 46.4375 64.109375 42.578125 65.296875 \nQ 38.71875 66.5 35.40625 66.5 \nQ 30.28125 66.5 27.078125 63.78125 \nQ 23.875 61.078125 23.875 56.78125 \nQ 23.875 54.296875 25.3125 51.78125 \nQ 26.765625 49.265625 31.203125 44.671875 \nz\n\" id=\"DejaVuSans-38\"/>\n     <path d=\"M 28.609375 0 \nL 0.78125 72.90625 \nL 11.078125 72.90625 \nL 34.1875 11.53125 \nL 57.328125 72.90625 \nL 67.578125 72.90625 \nL 39.796875 0 \nz\n\" id=\"DejaVuSans-86\"/>\n     <path d=\"M 45.40625 46.390625 \nL 45.40625 75.984375 \nL 54.390625 75.984375 \nL 54.390625 0 \nL 45.40625 0 \nL 45.40625 8.203125 \nQ 42.578125 3.328125 38.25 0.953125 \nQ 33.9375 -1.421875 27.875 -1.421875 \nQ 17.96875 -1.421875 11.734375 6.484375 \nQ 5.515625 14.40625 5.515625 27.296875 \nQ 5.515625 40.1875 11.734375 48.09375 \nQ 17.96875 56 27.875 56 \nQ 33.9375 56 38.25 53.625 \nQ 42.578125 51.265625 45.40625 46.390625 \nz\nM 14.796875 27.296875 \nQ 14.796875 17.390625 18.875 11.75 \nQ 22.953125 6.109375 30.078125 6.109375 \nQ 37.203125 6.109375 41.296875 11.75 \nQ 45.40625 17.390625 45.40625 27.296875 \nQ 45.40625 37.203125 41.296875 42.84375 \nQ 37.203125 48.484375 30.078125 48.484375 \nQ 22.953125 48.484375 18.875 42.84375 \nQ 14.796875 37.203125 14.796875 27.296875 \nz\n\" id=\"DejaVuSans-100\"/>\n     <path d=\"M 18.3125 70.21875 \nL 18.3125 54.6875 \nL 36.8125 54.6875 \nL 36.8125 47.703125 \nL 18.3125 47.703125 \nL 18.3125 18.015625 \nQ 18.3125 11.328125 20.140625 9.421875 \nQ 21.96875 7.515625 27.59375 7.515625 \nL 36.8125 7.515625 \nL 36.8125 0 \nL 27.59375 0 \nQ 17.1875 0 13.234375 3.875 \nQ 9.28125 7.765625 9.28125 18.015625 \nL 9.28125 47.703125 \nL 2.6875 47.703125 \nL 2.6875 54.6875 \nL 9.28125 54.6875 \nL 9.28125 70.21875 \nz\n\" id=\"DejaVuSans-116\"/>\n     <path d=\"M 4.890625 31.390625 \nL 31.203125 31.390625 \nL 31.203125 23.390625 \nL 4.890625 23.390625 \nz\n\" id=\"DejaVuSans-45\"/>\n    </defs>\n    <g transform=\"translate(131.820938 16.318125)scale(0.12 -0.12)\">\n     <use xlink:href=\"#DejaVuSans-84\"/>\n     <use x=\"46.333984\" xlink:href=\"#DejaVuSans-114\"/>\n     <use x=\"87.447266\" xlink:href=\"#DejaVuSans-97\"/>\n     <use x=\"148.726562\" xlink:href=\"#DejaVuSans-105\"/>\n     <use x=\"176.509766\" xlink:href=\"#DejaVuSans-110\"/>\n     <use x=\"239.888672\" xlink:href=\"#DejaVuSans-105\"/>\n     <use x=\"267.671875\" xlink:href=\"#DejaVuSans-110\"/>\n     <use x=\"331.050781\" xlink:href=\"#DejaVuSans-103\"/>\n     <use x=\"394.527344\" xlink:href=\"#DejaVuSans-32\"/>\n     <use x=\"426.314453\" xlink:href=\"#DejaVuSans-38\"/>\n     <use x=\"504.292969\" xlink:href=\"#DejaVuSans-32\"/>\n     <use x=\"536.080078\" xlink:href=\"#DejaVuSans-86\"/>\n     <use x=\"596.738281\" xlink:href=\"#DejaVuSans-97\"/>\n     <use x=\"658.017578\" xlink:href=\"#DejaVuSans-108\"/>\n     <use x=\"685.800781\" xlink:href=\"#DejaVuSans-105\"/>\n     <use x=\"713.583984\" xlink:href=\"#DejaVuSans-100\"/>\n     <use x=\"777.060547\" xlink:href=\"#DejaVuSans-97\"/>\n     <use x=\"838.339844\" xlink:href=\"#DejaVuSans-116\"/>\n     <use x=\"877.548828\" xlink:href=\"#DejaVuSans-105\"/>\n     <use x=\"905.332031\" xlink:href=\"#DejaVuSans-111\"/>\n     <use x=\"966.513672\" xlink:href=\"#DejaVuSans-110\"/>\n     <use x=\"1029.892578\" xlink:href=\"#DejaVuSans-32\"/>\n     <use x=\"1061.679688\" xlink:href=\"#DejaVuSans-45\"/>\n     <use x=\"1097.763672\" xlink:href=\"#DejaVuSans-32\"/>\n     <use x=\"1129.550781\" xlink:href=\"#DejaVuSans-108\"/>\n     <use x=\"1157.333984\" xlink:href=\"#DejaVuSans-111\"/>\n     <use x=\"1218.515625\" xlink:href=\"#DejaVuSans-115\"/>\n     <use x=\"1270.615234\" xlink:href=\"#DejaVuSans-115\"/>\n    </g>\n   </g>\n   <g id=\"legend_1\">\n    <g id=\"patch_7\">\n     <path d=\"M 291.990625 60.230625 \nL 371.58125 60.230625 \nQ 373.58125 60.230625 373.58125 58.230625 \nL 373.58125 29.318125 \nQ 373.58125 27.318125 371.58125 27.318125 \nL 291.990625 27.318125 \nQ 289.990625 27.318125 289.990625 29.318125 \nL 289.990625 58.230625 \nQ 289.990625 60.230625 291.990625 60.230625 \nz\n\" style=\"fill:#ffffff;opacity:0.8;stroke:#cccccc;stroke-linejoin:miter;\"/>\n    </g>\n    <g id=\"line2d_13\">\n     <path d=\"M 293.990625 35.416562 \nL 313.990625 35.416562 \n\" style=\"fill:none;stroke:#1f77b4;stroke-linecap:square;stroke-width:1.5;\"/>\n    </g>\n    <g id=\"line2d_14\"/>\n    <g id=\"text_14\">\n     <!-- train_loss -->\n     <defs>\n      <path d=\"M 50.984375 -16.609375 \nL 50.984375 -23.578125 \nL -0.984375 -23.578125 \nL -0.984375 -16.609375 \nz\n\" id=\"DejaVuSans-95\"/>\n     </defs>\n     <g transform=\"translate(321.990625 38.916562)scale(0.1 -0.1)\">\n      <use xlink:href=\"#DejaVuSans-116\"/>\n      <use x=\"39.208984\" xlink:href=\"#DejaVuSans-114\"/>\n      <use x=\"80.322266\" xlink:href=\"#DejaVuSans-97\"/>\n      <use x=\"141.601562\" xlink:href=\"#DejaVuSans-105\"/>\n      <use x=\"169.384766\" xlink:href=\"#DejaVuSans-110\"/>\n      <use x=\"232.763672\" xlink:href=\"#DejaVuSans-95\"/>\n      <use x=\"282.763672\" xlink:href=\"#DejaVuSans-108\"/>\n      <use x=\"310.546875\" xlink:href=\"#DejaVuSans-111\"/>\n      <use x=\"371.728516\" xlink:href=\"#DejaVuSans-115\"/>\n      <use x=\"423.828125\" xlink:href=\"#DejaVuSans-115\"/>\n     </g>\n    </g>\n    <g id=\"line2d_15\">\n     <path d=\"M 293.990625 50.372812 \nL 313.990625 50.372812 \n\" style=\"fill:none;stroke:#ff7f0e;stroke-linecap:square;stroke-width:1.5;\"/>\n    </g>\n    <g id=\"line2d_16\"/>\n    <g id=\"text_15\">\n     <!-- val_loss -->\n     <defs>\n      <path d=\"M 2.984375 54.6875 \nL 12.5 54.6875 \nL 29.59375 8.796875 \nL 46.6875 54.6875 \nL 56.203125 54.6875 \nL 35.6875 0 \nL 23.484375 0 \nz\n\" id=\"DejaVuSans-118\"/>\n     </defs>\n     <g transform=\"translate(321.990625 53.872812)scale(0.1 -0.1)\">\n      <use xlink:href=\"#DejaVuSans-118\"/>\n      <use x=\"59.179688\" xlink:href=\"#DejaVuSans-97\"/>\n      <use x=\"120.458984\" xlink:href=\"#DejaVuSans-108\"/>\n      <use x=\"148.242188\" xlink:href=\"#DejaVuSans-95\"/>\n      <use x=\"198.242188\" xlink:href=\"#DejaVuSans-108\"/>\n      <use x=\"226.025391\" xlink:href=\"#DejaVuSans-111\"/>\n      <use x=\"287.207031\" xlink:href=\"#DejaVuSans-115\"/>\n      <use x=\"339.306641\" xlink:href=\"#DejaVuSans-115\"/>\n     </g>\n    </g>\n   </g>\n  </g>\n </g>\n <defs>\n  <clipPath id=\"pb776a1d046\">\n   <rect height=\"217.44\" width=\"334.8\" x=\"43.78125\" y=\"22.318125\"/>\n  </clipPath>\n </defs>\n</svg>\n"
          },
          "metadata": {
            "needs_background": "light"
          }
        }
      ]
    },
    {
      "cell_type": "markdown",
      "metadata": {
        "id": "ly-VI0vKiVQV"
      },
      "source": [
        "##### **5.1.1. Personalizando a parada antecipada**"
      ]
    },
    {
      "cell_type": "code",
      "metadata": {
        "id": "Xcet3t1jfyB1"
      },
      "source": [
        "# criando um novo modelo\n",
        "model = create_model()"
      ],
      "execution_count": null,
      "outputs": []
    },
    {
      "cell_type": "code",
      "metadata": {
        "id": "vHrBuBWBfx_A"
      },
      "source": [
        "# definindo os parâmetros para a parada antecipada\n",
        "custom_early_stopping = EarlyStopping(\n",
        "    monitor='val_accuracy',\n",
        "    patience=3,\n",
        "    min_delta=0.001,\n",
        "    mode='max'\n",
        ")"
      ],
      "execution_count": null,
      "outputs": []
    },
    {
      "cell_type": "markdown",
      "metadata": {
        "id": "1viGil_VlzHu"
      },
      "source": [
        "> - `monitor = val_accuracy`, para usar a acurácia de validação como medida de desempenho para encerrar o treinamento.\n",
        "- `monitor = 'val_loss'`: para usar a perda de validação como medida de desempenho para encerrar o treinamento.<br><br>\n",
        "- `patience = 3`: é o número de épocas sem melhora. O valor **3** significa que o treinamento é encerrado assim que a medida de desempenho piorar em três épocas."
      ]
    },
    {
      "cell_type": "markdown",
      "metadata": {
        "id": "PwfwCvjMoIJZ"
      },
      "source": [
        "> **Argumentos:**\n",
        "\n",
        "- **`monitor`**: Quantidade a ser monitorada.\n",
        "- **`min_delta`**: A mudança mínima na quantidade monitorada para se qualificar como uma melhoria, ou seja, uma mudança absoluta inferior a **_min_delta_**, contará como nenhuma melhoria.\n",
        "- **`patience`**: Número de épocas sem melhora, após as quais o treinamento será interrompido.\n",
        "- **`verbose`**: Modo de verbosidade..\n",
        "- **`mode`**: Um de `{\"auto\", \"min\", \"max\"}`. No modo `\"min\"`, o treinamento irá parar quando a quantidade monitorada parar de diminuir; no modo `\"max\"` irá parar quando a quantidade monitorada parar de aumentar; no modo `\"auto\"`, a direção é inferida automaticamente a partir do nome da quantidade monitorada.\n",
        "- **`baseline`**: Valor da linha de base para a quantidade monitorada. O treinamento será interrompido se o modelo não mostrar melhorias em relação à linha de base.\n",
        "- **`restore_best_weights`**: Se deve restaurar os pesos do modelo da época com o melhor valor da quantidade monitorada. Se for False, os pesos do modelo obtidos na última etapa do treinamento serão usados. Uma época será restaurada independentemente do desempenho em relação à `linha de base` (**baseline**). Se nenhuma época melhorar na linha de base, o treinamento será executado em épocas de `patience` e restaurará os pesos da melhor época naquele conjunto.\n",
        "\n"
      ]
    },
    {
      "cell_type": "code",
      "metadata": {
        "id": "Kh0H4Hk1fx8a",
        "colab": {
          "base_uri": "https://localhost:8080/"
        },
        "outputId": "f5689458-c00f-456b-9fb8-3d0d703859d4"
      },
      "source": [
        "# treinando o modelo com a parada antecipada personalizada\n",
        "history_custom = model.fit(\n",
        "    X_train,\n",
        "    y_train, \n",
        "    epochs=50,\n",
        "    validation_split=0.20,\n",
        "    batch_size=64, \n",
        "    verbose=2,\n",
        "    callbacks=[custom_early_stopping]\n",
        ")"
      ],
      "execution_count": null,
      "outputs": [
        {
          "output_type": "stream",
          "name": "stdout",
          "text": [
            "Epoch 1/50\n",
            "125/125 - 1s - loss: 1.5710 - accuracy: 0.5309 - val_loss: 1.1390 - val_accuracy: 0.6420\n",
            "Epoch 2/50\n",
            "125/125 - 1s - loss: 0.9682 - accuracy: 0.6864 - val_loss: 0.8785 - val_accuracy: 0.6935\n",
            "Epoch 3/50\n",
            "125/125 - 1s - loss: 0.8021 - accuracy: 0.7326 - val_loss: 0.7759 - val_accuracy: 0.7375\n",
            "Epoch 4/50\n",
            "125/125 - 1s - loss: 0.7198 - accuracy: 0.7595 - val_loss: 0.7116 - val_accuracy: 0.7650\n",
            "Epoch 5/50\n",
            "125/125 - 1s - loss: 0.6652 - accuracy: 0.7834 - val_loss: 0.6690 - val_accuracy: 0.7730\n",
            "Epoch 6/50\n",
            "125/125 - 1s - loss: 0.6256 - accuracy: 0.7935 - val_loss: 0.6356 - val_accuracy: 0.7785\n",
            "Epoch 7/50\n",
            "125/125 - 1s - loss: 0.5945 - accuracy: 0.8034 - val_loss: 0.6121 - val_accuracy: 0.7855\n",
            "Epoch 8/50\n",
            "125/125 - 1s - loss: 0.5678 - accuracy: 0.8116 - val_loss: 0.5863 - val_accuracy: 0.8005\n",
            "Epoch 9/50\n",
            "125/125 - 1s - loss: 0.5491 - accuracy: 0.8149 - val_loss: 0.5912 - val_accuracy: 0.7920\n",
            "Epoch 10/50\n",
            "125/125 - 1s - loss: 0.5310 - accuracy: 0.8186 - val_loss: 0.5566 - val_accuracy: 0.8050\n",
            "Epoch 11/50\n",
            "125/125 - 1s - loss: 0.5177 - accuracy: 0.8220 - val_loss: 0.5572 - val_accuracy: 0.8120\n",
            "Epoch 12/50\n",
            "125/125 - 1s - loss: 0.5048 - accuracy: 0.8273 - val_loss: 0.5345 - val_accuracy: 0.8155\n",
            "Epoch 13/50\n",
            "125/125 - 1s - loss: 0.4942 - accuracy: 0.8300 - val_loss: 0.5258 - val_accuracy: 0.8190\n",
            "Epoch 14/50\n",
            "125/125 - 1s - loss: 0.4835 - accuracy: 0.8375 - val_loss: 0.5151 - val_accuracy: 0.8225\n",
            "Epoch 15/50\n",
            "125/125 - 1s - loss: 0.4755 - accuracy: 0.8374 - val_loss: 0.5132 - val_accuracy: 0.8225\n",
            "Epoch 16/50\n",
            "125/125 - 1s - loss: 0.4681 - accuracy: 0.8428 - val_loss: 0.5178 - val_accuracy: 0.8180\n",
            "Epoch 17/50\n",
            "125/125 - 1s - loss: 0.4576 - accuracy: 0.8455 - val_loss: 0.4998 - val_accuracy: 0.8320\n",
            "Epoch 18/50\n",
            "125/125 - 1s - loss: 0.4534 - accuracy: 0.8465 - val_loss: 0.5082 - val_accuracy: 0.8170\n",
            "Epoch 19/50\n",
            "125/125 - 1s - loss: 0.4482 - accuracy: 0.8456 - val_loss: 0.4858 - val_accuracy: 0.8340\n",
            "Epoch 20/50\n",
            "125/125 - 1s - loss: 0.4400 - accuracy: 0.8509 - val_loss: 0.4958 - val_accuracy: 0.8265\n",
            "Epoch 21/50\n",
            "125/125 - 1s - loss: 0.4334 - accuracy: 0.8558 - val_loss: 0.4885 - val_accuracy: 0.8295\n",
            "Epoch 22/50\n",
            "125/125 - 1s - loss: 0.4302 - accuracy: 0.8526 - val_loss: 0.4934 - val_accuracy: 0.8325\n"
          ]
        }
      ]
    },
    {
      "cell_type": "code",
      "metadata": {
        "id": "eqVs2gPBfx6H",
        "colab": {
          "base_uri": "https://localhost:8080/",
          "height": 391
        },
        "outputId": "7f52c668-85d4-4061-ac9c-2a128a5f66a0"
      },
      "source": [
        "# plotando o gráfico da acurácia\n",
        "plot_metric(history_custom, 'accuracy')"
      ],
      "execution_count": null,
      "outputs": [
        {
          "output_type": "display_data",
          "data": {
            "text/plain": [
              "<Figure size 432x288 with 1 Axes>"
            ],
            "image/svg+xml": "<?xml version=\"1.0\" encoding=\"utf-8\" standalone=\"no\"?>\n<!DOCTYPE svg PUBLIC \"-//W3C//DTD SVG 1.1//EN\"\n  \"http://www.w3.org/Graphics/SVG/1.1/DTD/svg11.dtd\">\n<!-- Created with matplotlib (https://matplotlib.org/) -->\n<svg height=\"277.314375pt\" version=\"1.1\" viewBox=\"0 0 392.14375 277.314375\" width=\"392.14375pt\" xmlns=\"http://www.w3.org/2000/svg\" xmlns:xlink=\"http://www.w3.org/1999/xlink\">\n <defs>\n  <style type=\"text/css\">\n*{stroke-linecap:butt;stroke-linejoin:round;}\n  </style>\n </defs>\n <g id=\"figure_1\">\n  <g id=\"patch_1\">\n   <path d=\"M 0 277.314375 \nL 392.14375 277.314375 \nL 392.14375 0 \nL 0 0 \nz\n\" style=\"fill:none;\"/>\n  </g>\n  <g id=\"axes_1\">\n   <g id=\"patch_2\">\n    <path d=\"M 50.14375 239.758125 \nL 384.94375 239.758125 \nL 384.94375 22.318125 \nL 50.14375 22.318125 \nz\n\" style=\"fill:#ffffff;\"/>\n   </g>\n   <g id=\"matplotlib.axis_1\">\n    <g id=\"xtick_1\">\n     <g id=\"line2d_1\">\n      <defs>\n       <path d=\"M 0 0 \nL 0 3.5 \n\" id=\"m547f14b4ba\" style=\"stroke:#000000;stroke-width:0.8;\"/>\n      </defs>\n      <g>\n       <use style=\"stroke:#000000;stroke-width:0.8;\" x=\"50.868425\" xlink:href=\"#m547f14b4ba\" y=\"239.758125\"/>\n      </g>\n     </g>\n     <g id=\"text_1\">\n      <!-- 0 -->\n      <defs>\n       <path d=\"M 31.78125 66.40625 \nQ 24.171875 66.40625 20.328125 58.90625 \nQ 16.5 51.421875 16.5 36.375 \nQ 16.5 21.390625 20.328125 13.890625 \nQ 24.171875 6.390625 31.78125 6.390625 \nQ 39.453125 6.390625 43.28125 13.890625 \nQ 47.125 21.390625 47.125 36.375 \nQ 47.125 51.421875 43.28125 58.90625 \nQ 39.453125 66.40625 31.78125 66.40625 \nz\nM 31.78125 74.21875 \nQ 44.046875 74.21875 50.515625 64.515625 \nQ 56.984375 54.828125 56.984375 36.375 \nQ 56.984375 17.96875 50.515625 8.265625 \nQ 44.046875 -1.421875 31.78125 -1.421875 \nQ 19.53125 -1.421875 13.0625 8.265625 \nQ 6.59375 17.96875 6.59375 36.375 \nQ 6.59375 54.828125 13.0625 64.515625 \nQ 19.53125 74.21875 31.78125 74.21875 \nz\n\" id=\"DejaVuSans-48\"/>\n      </defs>\n      <g transform=\"translate(47.687175 254.356562)scale(0.1 -0.1)\">\n       <use xlink:href=\"#DejaVuSans-48\"/>\n      </g>\n     </g>\n    </g>\n    <g id=\"xtick_2\">\n     <g id=\"line2d_2\">\n      <g>\n       <use style=\"stroke:#000000;stroke-width:0.8;\" x=\"123.335958\" xlink:href=\"#m547f14b4ba\" y=\"239.758125\"/>\n      </g>\n     </g>\n     <g id=\"text_2\">\n      <!-- 5 -->\n      <defs>\n       <path d=\"M 10.796875 72.90625 \nL 49.515625 72.90625 \nL 49.515625 64.59375 \nL 19.828125 64.59375 \nL 19.828125 46.734375 \nQ 21.96875 47.46875 24.109375 47.828125 \nQ 26.265625 48.1875 28.421875 48.1875 \nQ 40.625 48.1875 47.75 41.5 \nQ 54.890625 34.8125 54.890625 23.390625 \nQ 54.890625 11.625 47.5625 5.09375 \nQ 40.234375 -1.421875 26.90625 -1.421875 \nQ 22.3125 -1.421875 17.546875 -0.640625 \nQ 12.796875 0.140625 7.71875 1.703125 \nL 7.71875 11.625 \nQ 12.109375 9.234375 16.796875 8.0625 \nQ 21.484375 6.890625 26.703125 6.890625 \nQ 35.15625 6.890625 40.078125 11.328125 \nQ 45.015625 15.765625 45.015625 23.390625 \nQ 45.015625 31 40.078125 35.4375 \nQ 35.15625 39.890625 26.703125 39.890625 \nQ 22.75 39.890625 18.8125 39.015625 \nQ 14.890625 38.140625 10.796875 36.28125 \nz\n\" id=\"DejaVuSans-53\"/>\n      </defs>\n      <g transform=\"translate(120.154708 254.356562)scale(0.1 -0.1)\">\n       <use xlink:href=\"#DejaVuSans-53\"/>\n      </g>\n     </g>\n    </g>\n    <g id=\"xtick_3\">\n     <g id=\"line2d_3\">\n      <g>\n       <use style=\"stroke:#000000;stroke-width:0.8;\" x=\"195.80349\" xlink:href=\"#m547f14b4ba\" y=\"239.758125\"/>\n      </g>\n     </g>\n     <g id=\"text_3\">\n      <!-- 10 -->\n      <defs>\n       <path d=\"M 12.40625 8.296875 \nL 28.515625 8.296875 \nL 28.515625 63.921875 \nL 10.984375 60.40625 \nL 10.984375 69.390625 \nL 28.421875 72.90625 \nL 38.28125 72.90625 \nL 38.28125 8.296875 \nL 54.390625 8.296875 \nL 54.390625 0 \nL 12.40625 0 \nz\n\" id=\"DejaVuSans-49\"/>\n      </defs>\n      <g transform=\"translate(189.44099 254.356562)scale(0.1 -0.1)\">\n       <use xlink:href=\"#DejaVuSans-49\"/>\n       <use x=\"63.623047\" xlink:href=\"#DejaVuSans-48\"/>\n      </g>\n     </g>\n    </g>\n    <g id=\"xtick_4\">\n     <g id=\"line2d_4\">\n      <g>\n       <use style=\"stroke:#000000;stroke-width:0.8;\" x=\"268.271023\" xlink:href=\"#m547f14b4ba\" y=\"239.758125\"/>\n      </g>\n     </g>\n     <g id=\"text_4\">\n      <!-- 15 -->\n      <g transform=\"translate(261.908523 254.356562)scale(0.1 -0.1)\">\n       <use xlink:href=\"#DejaVuSans-49\"/>\n       <use x=\"63.623047\" xlink:href=\"#DejaVuSans-53\"/>\n      </g>\n     </g>\n    </g>\n    <g id=\"xtick_5\">\n     <g id=\"line2d_5\">\n      <g>\n       <use style=\"stroke:#000000;stroke-width:0.8;\" x=\"340.738555\" xlink:href=\"#m547f14b4ba\" y=\"239.758125\"/>\n      </g>\n     </g>\n     <g id=\"text_5\">\n      <!-- 20 -->\n      <defs>\n       <path d=\"M 19.1875 8.296875 \nL 53.609375 8.296875 \nL 53.609375 0 \nL 7.328125 0 \nL 7.328125 8.296875 \nQ 12.9375 14.109375 22.625 23.890625 \nQ 32.328125 33.6875 34.8125 36.53125 \nQ 39.546875 41.84375 41.421875 45.53125 \nQ 43.3125 49.21875 43.3125 52.78125 \nQ 43.3125 58.59375 39.234375 62.25 \nQ 35.15625 65.921875 28.609375 65.921875 \nQ 23.96875 65.921875 18.8125 64.3125 \nQ 13.671875 62.703125 7.8125 59.421875 \nL 7.8125 69.390625 \nQ 13.765625 71.78125 18.9375 73 \nQ 24.125 74.21875 28.421875 74.21875 \nQ 39.75 74.21875 46.484375 68.546875 \nQ 53.21875 62.890625 53.21875 53.421875 \nQ 53.21875 48.921875 51.53125 44.890625 \nQ 49.859375 40.875 45.40625 35.40625 \nQ 44.1875 33.984375 37.640625 27.21875 \nQ 31.109375 20.453125 19.1875 8.296875 \nz\n\" id=\"DejaVuSans-50\"/>\n      </defs>\n      <g transform=\"translate(334.376055 254.356562)scale(0.1 -0.1)\">\n       <use xlink:href=\"#DejaVuSans-50\"/>\n       <use x=\"63.623047\" xlink:href=\"#DejaVuSans-48\"/>\n      </g>\n     </g>\n    </g>\n    <g id=\"text_6\">\n     <!-- Epochs -->\n     <defs>\n      <path d=\"M 9.8125 72.90625 \nL 55.90625 72.90625 \nL 55.90625 64.59375 \nL 19.671875 64.59375 \nL 19.671875 43.015625 \nL 54.390625 43.015625 \nL 54.390625 34.71875 \nL 19.671875 34.71875 \nL 19.671875 8.296875 \nL 56.78125 8.296875 \nL 56.78125 0 \nL 9.8125 0 \nz\n\" id=\"DejaVuSans-69\"/>\n      <path d=\"M 18.109375 8.203125 \nL 18.109375 -20.796875 \nL 9.078125 -20.796875 \nL 9.078125 54.6875 \nL 18.109375 54.6875 \nL 18.109375 46.390625 \nQ 20.953125 51.265625 25.265625 53.625 \nQ 29.59375 56 35.59375 56 \nQ 45.5625 56 51.78125 48.09375 \nQ 58.015625 40.1875 58.015625 27.296875 \nQ 58.015625 14.40625 51.78125 6.484375 \nQ 45.5625 -1.421875 35.59375 -1.421875 \nQ 29.59375 -1.421875 25.265625 0.953125 \nQ 20.953125 3.328125 18.109375 8.203125 \nz\nM 48.6875 27.296875 \nQ 48.6875 37.203125 44.609375 42.84375 \nQ 40.53125 48.484375 33.40625 48.484375 \nQ 26.265625 48.484375 22.1875 42.84375 \nQ 18.109375 37.203125 18.109375 27.296875 \nQ 18.109375 17.390625 22.1875 11.75 \nQ 26.265625 6.109375 33.40625 6.109375 \nQ 40.53125 6.109375 44.609375 11.75 \nQ 48.6875 17.390625 48.6875 27.296875 \nz\n\" id=\"DejaVuSans-112\"/>\n      <path d=\"M 30.609375 48.390625 \nQ 23.390625 48.390625 19.1875 42.75 \nQ 14.984375 37.109375 14.984375 27.296875 \nQ 14.984375 17.484375 19.15625 11.84375 \nQ 23.34375 6.203125 30.609375 6.203125 \nQ 37.796875 6.203125 41.984375 11.859375 \nQ 46.1875 17.53125 46.1875 27.296875 \nQ 46.1875 37.015625 41.984375 42.703125 \nQ 37.796875 48.390625 30.609375 48.390625 \nz\nM 30.609375 56 \nQ 42.328125 56 49.015625 48.375 \nQ 55.71875 40.765625 55.71875 27.296875 \nQ 55.71875 13.875 49.015625 6.21875 \nQ 42.328125 -1.421875 30.609375 -1.421875 \nQ 18.84375 -1.421875 12.171875 6.21875 \nQ 5.515625 13.875 5.515625 27.296875 \nQ 5.515625 40.765625 12.171875 48.375 \nQ 18.84375 56 30.609375 56 \nz\n\" id=\"DejaVuSans-111\"/>\n      <path d=\"M 48.78125 52.59375 \nL 48.78125 44.1875 \nQ 44.96875 46.296875 41.140625 47.34375 \nQ 37.3125 48.390625 33.40625 48.390625 \nQ 24.65625 48.390625 19.8125 42.84375 \nQ 14.984375 37.3125 14.984375 27.296875 \nQ 14.984375 17.28125 19.8125 11.734375 \nQ 24.65625 6.203125 33.40625 6.203125 \nQ 37.3125 6.203125 41.140625 7.25 \nQ 44.96875 8.296875 48.78125 10.40625 \nL 48.78125 2.09375 \nQ 45.015625 0.34375 40.984375 -0.53125 \nQ 36.96875 -1.421875 32.421875 -1.421875 \nQ 20.0625 -1.421875 12.78125 6.34375 \nQ 5.515625 14.109375 5.515625 27.296875 \nQ 5.515625 40.671875 12.859375 48.328125 \nQ 20.21875 56 33.015625 56 \nQ 37.15625 56 41.109375 55.140625 \nQ 45.0625 54.296875 48.78125 52.59375 \nz\n\" id=\"DejaVuSans-99\"/>\n      <path d=\"M 54.890625 33.015625 \nL 54.890625 0 \nL 45.90625 0 \nL 45.90625 32.71875 \nQ 45.90625 40.484375 42.875 44.328125 \nQ 39.84375 48.1875 33.796875 48.1875 \nQ 26.515625 48.1875 22.3125 43.546875 \nQ 18.109375 38.921875 18.109375 30.90625 \nL 18.109375 0 \nL 9.078125 0 \nL 9.078125 75.984375 \nL 18.109375 75.984375 \nL 18.109375 46.1875 \nQ 21.34375 51.125 25.703125 53.5625 \nQ 30.078125 56 35.796875 56 \nQ 45.21875 56 50.046875 50.171875 \nQ 54.890625 44.34375 54.890625 33.015625 \nz\n\" id=\"DejaVuSans-104\"/>\n      <path d=\"M 44.28125 53.078125 \nL 44.28125 44.578125 \nQ 40.484375 46.53125 36.375 47.5 \nQ 32.28125 48.484375 27.875 48.484375 \nQ 21.1875 48.484375 17.84375 46.4375 \nQ 14.5 44.390625 14.5 40.28125 \nQ 14.5 37.15625 16.890625 35.375 \nQ 19.28125 33.59375 26.515625 31.984375 \nL 29.59375 31.296875 \nQ 39.15625 29.25 43.1875 25.515625 \nQ 47.21875 21.78125 47.21875 15.09375 \nQ 47.21875 7.46875 41.1875 3.015625 \nQ 35.15625 -1.421875 24.609375 -1.421875 \nQ 20.21875 -1.421875 15.453125 -0.5625 \nQ 10.6875 0.296875 5.421875 2 \nL 5.421875 11.28125 \nQ 10.40625 8.6875 15.234375 7.390625 \nQ 20.0625 6.109375 24.8125 6.109375 \nQ 31.15625 6.109375 34.5625 8.28125 \nQ 37.984375 10.453125 37.984375 14.40625 \nQ 37.984375 18.0625 35.515625 20.015625 \nQ 33.0625 21.96875 24.703125 23.78125 \nL 21.578125 24.515625 \nQ 13.234375 26.265625 9.515625 29.90625 \nQ 5.8125 33.546875 5.8125 39.890625 \nQ 5.8125 47.609375 11.28125 51.796875 \nQ 16.75 56 26.8125 56 \nQ 31.78125 56 36.171875 55.265625 \nQ 40.578125 54.546875 44.28125 53.078125 \nz\n\" id=\"DejaVuSans-115\"/>\n     </defs>\n     <g transform=\"translate(199.628125 268.034687)scale(0.1 -0.1)\">\n      <use xlink:href=\"#DejaVuSans-69\"/>\n      <use x=\"63.183594\" xlink:href=\"#DejaVuSans-112\"/>\n      <use x=\"126.660156\" xlink:href=\"#DejaVuSans-111\"/>\n      <use x=\"187.841797\" xlink:href=\"#DejaVuSans-99\"/>\n      <use x=\"242.822266\" xlink:href=\"#DejaVuSans-104\"/>\n      <use x=\"306.201172\" xlink:href=\"#DejaVuSans-115\"/>\n     </g>\n    </g>\n   </g>\n   <g id=\"matplotlib.axis_2\">\n    <g id=\"ytick_1\">\n     <g id=\"line2d_6\">\n      <defs>\n       <path d=\"M 0 0 \nL -3.5 0 \n\" id=\"m08fd843476\" style=\"stroke:#000000;stroke-width:0.8;\"/>\n      </defs>\n      <g>\n       <use style=\"stroke:#000000;stroke-width:0.8;\" x=\"50.14375\" xlink:href=\"#m08fd843476\" y=\"218.23775\"/>\n      </g>\n     </g>\n     <g id=\"text_7\">\n      <!-- 0.55 -->\n      <defs>\n       <path d=\"M 10.6875 12.40625 \nL 21 12.40625 \nL 21 0 \nL 10.6875 0 \nz\n\" id=\"DejaVuSans-46\"/>\n      </defs>\n      <g transform=\"translate(20.878125 222.036968)scale(0.1 -0.1)\">\n       <use xlink:href=\"#DejaVuSans-48\"/>\n       <use x=\"63.623047\" xlink:href=\"#DejaVuSans-46\"/>\n       <use x=\"95.410156\" xlink:href=\"#DejaVuSans-53\"/>\n       <use x=\"159.033203\" xlink:href=\"#DejaVuSans-53\"/>\n      </g>\n     </g>\n    </g>\n    <g id=\"ytick_2\">\n     <g id=\"line2d_7\">\n      <g>\n       <use style=\"stroke:#000000;stroke-width:0.8;\" x=\"50.14375\" xlink:href=\"#m08fd843476\" y=\"187.814859\"/>\n      </g>\n     </g>\n     <g id=\"text_8\">\n      <!-- 0.60 -->\n      <defs>\n       <path d=\"M 33.015625 40.375 \nQ 26.375 40.375 22.484375 35.828125 \nQ 18.609375 31.296875 18.609375 23.390625 \nQ 18.609375 15.53125 22.484375 10.953125 \nQ 26.375 6.390625 33.015625 6.390625 \nQ 39.65625 6.390625 43.53125 10.953125 \nQ 47.40625 15.53125 47.40625 23.390625 \nQ 47.40625 31.296875 43.53125 35.828125 \nQ 39.65625 40.375 33.015625 40.375 \nz\nM 52.59375 71.296875 \nL 52.59375 62.3125 \nQ 48.875 64.0625 45.09375 64.984375 \nQ 41.3125 65.921875 37.59375 65.921875 \nQ 27.828125 65.921875 22.671875 59.328125 \nQ 17.53125 52.734375 16.796875 39.40625 \nQ 19.671875 43.65625 24.015625 45.921875 \nQ 28.375 48.1875 33.59375 48.1875 \nQ 44.578125 48.1875 50.953125 41.515625 \nQ 57.328125 34.859375 57.328125 23.390625 \nQ 57.328125 12.15625 50.6875 5.359375 \nQ 44.046875 -1.421875 33.015625 -1.421875 \nQ 20.359375 -1.421875 13.671875 8.265625 \nQ 6.984375 17.96875 6.984375 36.375 \nQ 6.984375 53.65625 15.1875 63.9375 \nQ 23.390625 74.21875 37.203125 74.21875 \nQ 40.921875 74.21875 44.703125 73.484375 \nQ 48.484375 72.75 52.59375 71.296875 \nz\n\" id=\"DejaVuSans-54\"/>\n      </defs>\n      <g transform=\"translate(20.878125 191.614078)scale(0.1 -0.1)\">\n       <use xlink:href=\"#DejaVuSans-48\"/>\n       <use x=\"63.623047\" xlink:href=\"#DejaVuSans-46\"/>\n       <use x=\"95.410156\" xlink:href=\"#DejaVuSans-54\"/>\n       <use x=\"159.033203\" xlink:href=\"#DejaVuSans-48\"/>\n      </g>\n     </g>\n    </g>\n    <g id=\"ytick_3\">\n     <g id=\"line2d_8\">\n      <g>\n       <use style=\"stroke:#000000;stroke-width:0.8;\" x=\"50.14375\" xlink:href=\"#m08fd843476\" y=\"157.391969\"/>\n      </g>\n     </g>\n     <g id=\"text_9\">\n      <!-- 0.65 -->\n      <g transform=\"translate(20.878125 161.191188)scale(0.1 -0.1)\">\n       <use xlink:href=\"#DejaVuSans-48\"/>\n       <use x=\"63.623047\" xlink:href=\"#DejaVuSans-46\"/>\n       <use x=\"95.410156\" xlink:href=\"#DejaVuSans-54\"/>\n       <use x=\"159.033203\" xlink:href=\"#DejaVuSans-53\"/>\n      </g>\n     </g>\n    </g>\n    <g id=\"ytick_4\">\n     <g id=\"line2d_9\">\n      <g>\n       <use style=\"stroke:#000000;stroke-width:0.8;\" x=\"50.14375\" xlink:href=\"#m08fd843476\" y=\"126.969079\"/>\n      </g>\n     </g>\n     <g id=\"text_10\">\n      <!-- 0.70 -->\n      <defs>\n       <path d=\"M 8.203125 72.90625 \nL 55.078125 72.90625 \nL 55.078125 68.703125 \nL 28.609375 0 \nL 18.3125 0 \nL 43.21875 64.59375 \nL 8.203125 64.59375 \nz\n\" id=\"DejaVuSans-55\"/>\n      </defs>\n      <g transform=\"translate(20.878125 130.768298)scale(0.1 -0.1)\">\n       <use xlink:href=\"#DejaVuSans-48\"/>\n       <use x=\"63.623047\" xlink:href=\"#DejaVuSans-46\"/>\n       <use x=\"95.410156\" xlink:href=\"#DejaVuSans-55\"/>\n       <use x=\"159.033203\" xlink:href=\"#DejaVuSans-48\"/>\n      </g>\n     </g>\n    </g>\n    <g id=\"ytick_5\">\n     <g id=\"line2d_10\">\n      <g>\n       <use style=\"stroke:#000000;stroke-width:0.8;\" x=\"50.14375\" xlink:href=\"#m08fd843476\" y=\"96.546189\"/>\n      </g>\n     </g>\n     <g id=\"text_11\">\n      <!-- 0.75 -->\n      <g transform=\"translate(20.878125 100.345408)scale(0.1 -0.1)\">\n       <use xlink:href=\"#DejaVuSans-48\"/>\n       <use x=\"63.623047\" xlink:href=\"#DejaVuSans-46\"/>\n       <use x=\"95.410156\" xlink:href=\"#DejaVuSans-55\"/>\n       <use x=\"159.033203\" xlink:href=\"#DejaVuSans-53\"/>\n      </g>\n     </g>\n    </g>\n    <g id=\"ytick_6\">\n     <g id=\"line2d_11\">\n      <g>\n       <use style=\"stroke:#000000;stroke-width:0.8;\" x=\"50.14375\" xlink:href=\"#m08fd843476\" y=\"66.123299\"/>\n      </g>\n     </g>\n     <g id=\"text_12\">\n      <!-- 0.80 -->\n      <defs>\n       <path d=\"M 31.78125 34.625 \nQ 24.75 34.625 20.71875 30.859375 \nQ 16.703125 27.09375 16.703125 20.515625 \nQ 16.703125 13.921875 20.71875 10.15625 \nQ 24.75 6.390625 31.78125 6.390625 \nQ 38.8125 6.390625 42.859375 10.171875 \nQ 46.921875 13.96875 46.921875 20.515625 \nQ 46.921875 27.09375 42.890625 30.859375 \nQ 38.875 34.625 31.78125 34.625 \nz\nM 21.921875 38.8125 \nQ 15.578125 40.375 12.03125 44.71875 \nQ 8.5 49.078125 8.5 55.328125 \nQ 8.5 64.0625 14.71875 69.140625 \nQ 20.953125 74.21875 31.78125 74.21875 \nQ 42.671875 74.21875 48.875 69.140625 \nQ 55.078125 64.0625 55.078125 55.328125 \nQ 55.078125 49.078125 51.53125 44.71875 \nQ 48 40.375 41.703125 38.8125 \nQ 48.828125 37.15625 52.796875 32.3125 \nQ 56.78125 27.484375 56.78125 20.515625 \nQ 56.78125 9.90625 50.3125 4.234375 \nQ 43.84375 -1.421875 31.78125 -1.421875 \nQ 19.734375 -1.421875 13.25 4.234375 \nQ 6.78125 9.90625 6.78125 20.515625 \nQ 6.78125 27.484375 10.78125 32.3125 \nQ 14.796875 37.15625 21.921875 38.8125 \nz\nM 18.3125 54.390625 \nQ 18.3125 48.734375 21.84375 45.5625 \nQ 25.390625 42.390625 31.78125 42.390625 \nQ 38.140625 42.390625 41.71875 45.5625 \nQ 45.3125 48.734375 45.3125 54.390625 \nQ 45.3125 60.0625 41.71875 63.234375 \nQ 38.140625 66.40625 31.78125 66.40625 \nQ 25.390625 66.40625 21.84375 63.234375 \nQ 18.3125 60.0625 18.3125 54.390625 \nz\n\" id=\"DejaVuSans-56\"/>\n      </defs>\n      <g transform=\"translate(20.878125 69.922517)scale(0.1 -0.1)\">\n       <use xlink:href=\"#DejaVuSans-48\"/>\n       <use x=\"63.623047\" xlink:href=\"#DejaVuSans-46\"/>\n       <use x=\"95.410156\" xlink:href=\"#DejaVuSans-56\"/>\n       <use x=\"159.033203\" xlink:href=\"#DejaVuSans-48\"/>\n      </g>\n     </g>\n    </g>\n    <g id=\"ytick_7\">\n     <g id=\"line2d_12\">\n      <g>\n       <use style=\"stroke:#000000;stroke-width:0.8;\" x=\"50.14375\" xlink:href=\"#m08fd843476\" y=\"35.700409\"/>\n      </g>\n     </g>\n     <g id=\"text_13\">\n      <!-- 0.85 -->\n      <g transform=\"translate(20.878125 39.499627)scale(0.1 -0.1)\">\n       <use xlink:href=\"#DejaVuSans-48\"/>\n       <use x=\"63.623047\" xlink:href=\"#DejaVuSans-46\"/>\n       <use x=\"95.410156\" xlink:href=\"#DejaVuSans-56\"/>\n       <use x=\"159.033203\" xlink:href=\"#DejaVuSans-53\"/>\n      </g>\n     </g>\n    </g>\n    <g id=\"text_14\">\n     <!-- accuracy -->\n     <defs>\n      <path d=\"M 34.28125 27.484375 \nQ 23.390625 27.484375 19.1875 25 \nQ 14.984375 22.515625 14.984375 16.5 \nQ 14.984375 11.71875 18.140625 8.90625 \nQ 21.296875 6.109375 26.703125 6.109375 \nQ 34.1875 6.109375 38.703125 11.40625 \nQ 43.21875 16.703125 43.21875 25.484375 \nL 43.21875 27.484375 \nz\nM 52.203125 31.203125 \nL 52.203125 0 \nL 43.21875 0 \nL 43.21875 8.296875 \nQ 40.140625 3.328125 35.546875 0.953125 \nQ 30.953125 -1.421875 24.3125 -1.421875 \nQ 15.921875 -1.421875 10.953125 3.296875 \nQ 6 8.015625 6 15.921875 \nQ 6 25.140625 12.171875 29.828125 \nQ 18.359375 34.515625 30.609375 34.515625 \nL 43.21875 34.515625 \nL 43.21875 35.40625 \nQ 43.21875 41.609375 39.140625 45 \nQ 35.0625 48.390625 27.6875 48.390625 \nQ 23 48.390625 18.546875 47.265625 \nQ 14.109375 46.140625 10.015625 43.890625 \nL 10.015625 52.203125 \nQ 14.9375 54.109375 19.578125 55.046875 \nQ 24.21875 56 28.609375 56 \nQ 40.484375 56 46.34375 49.84375 \nQ 52.203125 43.703125 52.203125 31.203125 \nz\n\" id=\"DejaVuSans-97\"/>\n      <path d=\"M 8.5 21.578125 \nL 8.5 54.6875 \nL 17.484375 54.6875 \nL 17.484375 21.921875 \nQ 17.484375 14.15625 20.5 10.265625 \nQ 23.53125 6.390625 29.59375 6.390625 \nQ 36.859375 6.390625 41.078125 11.03125 \nQ 45.3125 15.671875 45.3125 23.6875 \nL 45.3125 54.6875 \nL 54.296875 54.6875 \nL 54.296875 0 \nL 45.3125 0 \nL 45.3125 8.40625 \nQ 42.046875 3.421875 37.71875 1 \nQ 33.40625 -1.421875 27.6875 -1.421875 \nQ 18.265625 -1.421875 13.375 4.4375 \nQ 8.5 10.296875 8.5 21.578125 \nz\nM 31.109375 56 \nz\n\" id=\"DejaVuSans-117\"/>\n      <path d=\"M 41.109375 46.296875 \nQ 39.59375 47.171875 37.8125 47.578125 \nQ 36.03125 48 33.890625 48 \nQ 26.265625 48 22.1875 43.046875 \nQ 18.109375 38.09375 18.109375 28.8125 \nL 18.109375 0 \nL 9.078125 0 \nL 9.078125 54.6875 \nL 18.109375 54.6875 \nL 18.109375 46.1875 \nQ 20.953125 51.171875 25.484375 53.578125 \nQ 30.03125 56 36.53125 56 \nQ 37.453125 56 38.578125 55.875 \nQ 39.703125 55.765625 41.0625 55.515625 \nz\n\" id=\"DejaVuSans-114\"/>\n      <path d=\"M 32.171875 -5.078125 \nQ 28.375 -14.84375 24.75 -17.8125 \nQ 21.140625 -20.796875 15.09375 -20.796875 \nL 7.90625 -20.796875 \nL 7.90625 -13.28125 \nL 13.1875 -13.28125 \nQ 16.890625 -13.28125 18.9375 -11.515625 \nQ 21 -9.765625 23.484375 -3.21875 \nL 25.09375 0.875 \nL 2.984375 54.6875 \nL 12.5 54.6875 \nL 29.59375 11.921875 \nL 46.6875 54.6875 \nL 56.203125 54.6875 \nz\n\" id=\"DejaVuSans-121\"/>\n     </defs>\n     <g transform=\"translate(14.798438 153.5975)rotate(-90)scale(0.1 -0.1)\">\n      <use xlink:href=\"#DejaVuSans-97\"/>\n      <use x=\"61.279297\" xlink:href=\"#DejaVuSans-99\"/>\n      <use x=\"116.259766\" xlink:href=\"#DejaVuSans-99\"/>\n      <use x=\"171.240234\" xlink:href=\"#DejaVuSans-117\"/>\n      <use x=\"234.619141\" xlink:href=\"#DejaVuSans-114\"/>\n      <use x=\"275.732422\" xlink:href=\"#DejaVuSans-97\"/>\n      <use x=\"337.011719\" xlink:href=\"#DejaVuSans-99\"/>\n      <use x=\"391.992188\" xlink:href=\"#DejaVuSans-121\"/>\n     </g>\n    </g>\n   </g>\n   <g id=\"line2d_13\">\n    <path clip-path=\"url(#p26793ded14)\" d=\"M 65.361932 229.874489 \nL 79.855438 135.259303 \nL 94.348945 107.118139 \nL 108.842451 90.765824 \nL 123.335958 76.238895 \nL 137.829464 70.078271 \nL 152.322971 64.06975 \nL 166.816477 59.049974 \nL 181.309984 57.072485 \nL 195.80349 54.790788 \nL 210.296997 52.737211 \nL 224.790503 49.542821 \nL 239.28401 47.869575 \nL 253.777516 43.306146 \nL 268.271023 43.382197 \nL 282.764529 40.11172 \nL 297.258036 38.438473 \nL 311.751542 37.830023 \nL 326.245049 38.362422 \nL 340.738555 35.167996 \nL 355.232062 32.201761 \nL 369.725568 34.103199 \n\" style=\"fill:none;stroke:#1f77b4;stroke-linecap:square;stroke-width:1.5;\"/>\n   </g>\n   <g id=\"line2d_14\">\n    <path clip-path=\"url(#p26793ded14)\" d=\"M 65.361932 162.25962 \nL 79.855438 130.924066 \nL 94.348945 104.151904 \nL 108.842451 87.419331 \nL 123.335958 82.551658 \nL 137.829464 79.205129 \nL 152.322971 74.945943 \nL 166.816477 65.819085 \nL 181.309984 70.990964 \nL 195.80349 63.081005 \nL 210.296997 58.821819 \nL 224.790503 56.69219 \nL 239.28401 54.562597 \nL 253.777516 52.433004 \nL 268.271023 52.433004 \nL 282.764529 55.171047 \nL 297.258036 46.652639 \nL 311.751542 55.779533 \nL 326.245049 45.435739 \nL 340.738555 49.999168 \nL 355.232062 48.173782 \nL 369.725568 46.348432 \n\" style=\"fill:none;stroke:#ff7f0e;stroke-linecap:square;stroke-width:1.5;\"/>\n   </g>\n   <g id=\"patch_3\">\n    <path d=\"M 50.14375 239.758125 \nL 50.14375 22.318125 \n\" style=\"fill:none;stroke:#000000;stroke-linecap:square;stroke-linejoin:miter;stroke-width:0.8;\"/>\n   </g>\n   <g id=\"patch_4\">\n    <path d=\"M 384.94375 239.758125 \nL 384.94375 22.318125 \n\" style=\"fill:none;stroke:#000000;stroke-linecap:square;stroke-linejoin:miter;stroke-width:0.8;\"/>\n   </g>\n   <g id=\"patch_5\">\n    <path d=\"M 50.14375 239.758125 \nL 384.94375 239.758125 \n\" style=\"fill:none;stroke:#000000;stroke-linecap:square;stroke-linejoin:miter;stroke-width:0.8;\"/>\n   </g>\n   <g id=\"patch_6\">\n    <path d=\"M 50.14375 22.318125 \nL 384.94375 22.318125 \n\" style=\"fill:none;stroke:#000000;stroke-linecap:square;stroke-linejoin:miter;stroke-width:0.8;\"/>\n   </g>\n   <g id=\"text_15\">\n    <!-- Training &amp; Validation - accuracy -->\n    <defs>\n     <path d=\"M -0.296875 72.90625 \nL 61.375 72.90625 \nL 61.375 64.59375 \nL 35.5 64.59375 \nL 35.5 0 \nL 25.59375 0 \nL 25.59375 64.59375 \nL -0.296875 64.59375 \nz\n\" id=\"DejaVuSans-84\"/>\n     <path d=\"M 9.421875 54.6875 \nL 18.40625 54.6875 \nL 18.40625 0 \nL 9.421875 0 \nz\nM 9.421875 75.984375 \nL 18.40625 75.984375 \nL 18.40625 64.59375 \nL 9.421875 64.59375 \nz\n\" id=\"DejaVuSans-105\"/>\n     <path d=\"M 54.890625 33.015625 \nL 54.890625 0 \nL 45.90625 0 \nL 45.90625 32.71875 \nQ 45.90625 40.484375 42.875 44.328125 \nQ 39.84375 48.1875 33.796875 48.1875 \nQ 26.515625 48.1875 22.3125 43.546875 \nQ 18.109375 38.921875 18.109375 30.90625 \nL 18.109375 0 \nL 9.078125 0 \nL 9.078125 54.6875 \nL 18.109375 54.6875 \nL 18.109375 46.1875 \nQ 21.34375 51.125 25.703125 53.5625 \nQ 30.078125 56 35.796875 56 \nQ 45.21875 56 50.046875 50.171875 \nQ 54.890625 44.34375 54.890625 33.015625 \nz\n\" id=\"DejaVuSans-110\"/>\n     <path d=\"M 45.40625 27.984375 \nQ 45.40625 37.75 41.375 43.109375 \nQ 37.359375 48.484375 30.078125 48.484375 \nQ 22.859375 48.484375 18.828125 43.109375 \nQ 14.796875 37.75 14.796875 27.984375 \nQ 14.796875 18.265625 18.828125 12.890625 \nQ 22.859375 7.515625 30.078125 7.515625 \nQ 37.359375 7.515625 41.375 12.890625 \nQ 45.40625 18.265625 45.40625 27.984375 \nz\nM 54.390625 6.78125 \nQ 54.390625 -7.171875 48.1875 -13.984375 \nQ 42 -20.796875 29.203125 -20.796875 \nQ 24.46875 -20.796875 20.265625 -20.09375 \nQ 16.0625 -19.390625 12.109375 -17.921875 \nL 12.109375 -9.1875 \nQ 16.0625 -11.328125 19.921875 -12.34375 \nQ 23.78125 -13.375 27.78125 -13.375 \nQ 36.625 -13.375 41.015625 -8.765625 \nQ 45.40625 -4.15625 45.40625 5.171875 \nL 45.40625 9.625 \nQ 42.625 4.78125 38.28125 2.390625 \nQ 33.9375 0 27.875 0 \nQ 17.828125 0 11.671875 7.65625 \nQ 5.515625 15.328125 5.515625 27.984375 \nQ 5.515625 40.671875 11.671875 48.328125 \nQ 17.828125 56 27.875 56 \nQ 33.9375 56 38.28125 53.609375 \nQ 42.625 51.21875 45.40625 46.390625 \nL 45.40625 54.6875 \nL 54.390625 54.6875 \nz\n\" id=\"DejaVuSans-103\"/>\n     <path id=\"DejaVuSans-32\"/>\n     <path d=\"M 24.3125 39.203125 \nQ 19.875 35.25 17.796875 31.3125 \nQ 15.71875 27.390625 15.71875 23.09375 \nQ 15.71875 15.96875 20.890625 11.234375 \nQ 26.078125 6.5 33.890625 6.5 \nQ 38.53125 6.5 42.578125 8.03125 \nQ 46.625 9.578125 50.203125 12.703125 \nz\nM 31.203125 44.671875 \nL 56 19.28125 \nQ 58.890625 23.640625 60.5 28.59375 \nQ 62.109375 33.546875 62.40625 39.109375 \nL 71.484375 39.109375 \nQ 70.90625 32.671875 68.359375 26.359375 \nQ 65.828125 20.0625 61.28125 13.921875 \nL 74.90625 0 \nL 62.59375 0 \nL 55.609375 7.171875 \nQ 50.53125 2.828125 44.96875 0.703125 \nQ 39.40625 -1.421875 33.015625 -1.421875 \nQ 21.234375 -1.421875 13.765625 5.296875 \nQ 6.296875 12.015625 6.296875 22.515625 \nQ 6.296875 28.765625 9.5625 34.25 \nQ 12.84375 39.75 19.390625 44.578125 \nQ 17.046875 47.65625 15.8125 50.703125 \nQ 14.59375 53.765625 14.59375 56.6875 \nQ 14.59375 64.59375 20.015625 69.40625 \nQ 25.4375 74.21875 34.421875 74.21875 \nQ 38.484375 74.21875 42.5 73.34375 \nQ 46.53125 72.46875 50.6875 70.703125 \nL 50.6875 61.8125 \nQ 46.4375 64.109375 42.578125 65.296875 \nQ 38.71875 66.5 35.40625 66.5 \nQ 30.28125 66.5 27.078125 63.78125 \nQ 23.875 61.078125 23.875 56.78125 \nQ 23.875 54.296875 25.3125 51.78125 \nQ 26.765625 49.265625 31.203125 44.671875 \nz\n\" id=\"DejaVuSans-38\"/>\n     <path d=\"M 28.609375 0 \nL 0.78125 72.90625 \nL 11.078125 72.90625 \nL 34.1875 11.53125 \nL 57.328125 72.90625 \nL 67.578125 72.90625 \nL 39.796875 0 \nz\n\" id=\"DejaVuSans-86\"/>\n     <path d=\"M 9.421875 75.984375 \nL 18.40625 75.984375 \nL 18.40625 0 \nL 9.421875 0 \nz\n\" id=\"DejaVuSans-108\"/>\n     <path d=\"M 45.40625 46.390625 \nL 45.40625 75.984375 \nL 54.390625 75.984375 \nL 54.390625 0 \nL 45.40625 0 \nL 45.40625 8.203125 \nQ 42.578125 3.328125 38.25 0.953125 \nQ 33.9375 -1.421875 27.875 -1.421875 \nQ 17.96875 -1.421875 11.734375 6.484375 \nQ 5.515625 14.40625 5.515625 27.296875 \nQ 5.515625 40.1875 11.734375 48.09375 \nQ 17.96875 56 27.875 56 \nQ 33.9375 56 38.25 53.625 \nQ 42.578125 51.265625 45.40625 46.390625 \nz\nM 14.796875 27.296875 \nQ 14.796875 17.390625 18.875 11.75 \nQ 22.953125 6.109375 30.078125 6.109375 \nQ 37.203125 6.109375 41.296875 11.75 \nQ 45.40625 17.390625 45.40625 27.296875 \nQ 45.40625 37.203125 41.296875 42.84375 \nQ 37.203125 48.484375 30.078125 48.484375 \nQ 22.953125 48.484375 18.875 42.84375 \nQ 14.796875 37.203125 14.796875 27.296875 \nz\n\" id=\"DejaVuSans-100\"/>\n     <path d=\"M 18.3125 70.21875 \nL 18.3125 54.6875 \nL 36.8125 54.6875 \nL 36.8125 47.703125 \nL 18.3125 47.703125 \nL 18.3125 18.015625 \nQ 18.3125 11.328125 20.140625 9.421875 \nQ 21.96875 7.515625 27.59375 7.515625 \nL 36.8125 7.515625 \nL 36.8125 0 \nL 27.59375 0 \nQ 17.1875 0 13.234375 3.875 \nQ 9.28125 7.765625 9.28125 18.015625 \nL 9.28125 47.703125 \nL 2.6875 47.703125 \nL 2.6875 54.6875 \nL 9.28125 54.6875 \nL 9.28125 70.21875 \nz\n\" id=\"DejaVuSans-116\"/>\n     <path d=\"M 4.890625 31.390625 \nL 31.203125 31.390625 \nL 31.203125 23.390625 \nL 4.890625 23.390625 \nz\n\" id=\"DejaVuSans-45\"/>\n    </defs>\n    <g transform=\"translate(122.701563 16.318125)scale(0.12 -0.12)\">\n     <use xlink:href=\"#DejaVuSans-84\"/>\n     <use x=\"46.333984\" xlink:href=\"#DejaVuSans-114\"/>\n     <use x=\"87.447266\" xlink:href=\"#DejaVuSans-97\"/>\n     <use x=\"148.726562\" xlink:href=\"#DejaVuSans-105\"/>\n     <use x=\"176.509766\" xlink:href=\"#DejaVuSans-110\"/>\n     <use x=\"239.888672\" xlink:href=\"#DejaVuSans-105\"/>\n     <use x=\"267.671875\" xlink:href=\"#DejaVuSans-110\"/>\n     <use x=\"331.050781\" xlink:href=\"#DejaVuSans-103\"/>\n     <use x=\"394.527344\" xlink:href=\"#DejaVuSans-32\"/>\n     <use x=\"426.314453\" xlink:href=\"#DejaVuSans-38\"/>\n     <use x=\"504.292969\" xlink:href=\"#DejaVuSans-32\"/>\n     <use x=\"536.080078\" xlink:href=\"#DejaVuSans-86\"/>\n     <use x=\"596.738281\" xlink:href=\"#DejaVuSans-97\"/>\n     <use x=\"658.017578\" xlink:href=\"#DejaVuSans-108\"/>\n     <use x=\"685.800781\" xlink:href=\"#DejaVuSans-105\"/>\n     <use x=\"713.583984\" xlink:href=\"#DejaVuSans-100\"/>\n     <use x=\"777.060547\" xlink:href=\"#DejaVuSans-97\"/>\n     <use x=\"838.339844\" xlink:href=\"#DejaVuSans-116\"/>\n     <use x=\"877.548828\" xlink:href=\"#DejaVuSans-105\"/>\n     <use x=\"905.332031\" xlink:href=\"#DejaVuSans-111\"/>\n     <use x=\"966.513672\" xlink:href=\"#DejaVuSans-110\"/>\n     <use x=\"1029.892578\" xlink:href=\"#DejaVuSans-32\"/>\n     <use x=\"1061.679688\" xlink:href=\"#DejaVuSans-45\"/>\n     <use x=\"1097.763672\" xlink:href=\"#DejaVuSans-32\"/>\n     <use x=\"1129.550781\" xlink:href=\"#DejaVuSans-97\"/>\n     <use x=\"1190.830078\" xlink:href=\"#DejaVuSans-99\"/>\n     <use x=\"1245.810547\" xlink:href=\"#DejaVuSans-99\"/>\n     <use x=\"1300.791016\" xlink:href=\"#DejaVuSans-117\"/>\n     <use x=\"1364.169922\" xlink:href=\"#DejaVuSans-114\"/>\n     <use x=\"1405.283203\" xlink:href=\"#DejaVuSans-97\"/>\n     <use x=\"1466.5625\" xlink:href=\"#DejaVuSans-99\"/>\n     <use x=\"1521.542969\" xlink:href=\"#DejaVuSans-121\"/>\n    </g>\n   </g>\n   <g id=\"legend_1\">\n    <g id=\"patch_7\">\n     <path d=\"M 272.55 234.758125 \nL 377.94375 234.758125 \nQ 379.94375 234.758125 379.94375 232.758125 \nL 379.94375 203.845625 \nQ 379.94375 201.845625 377.94375 201.845625 \nL 272.55 201.845625 \nQ 270.55 201.845625 270.55 203.845625 \nL 270.55 232.758125 \nQ 270.55 234.758125 272.55 234.758125 \nz\n\" style=\"fill:#ffffff;opacity:0.8;stroke:#cccccc;stroke-linejoin:miter;\"/>\n    </g>\n    <g id=\"line2d_15\">\n     <path d=\"M 274.55 209.944062 \nL 294.55 209.944062 \n\" style=\"fill:none;stroke:#1f77b4;stroke-linecap:square;stroke-width:1.5;\"/>\n    </g>\n    <g id=\"line2d_16\"/>\n    <g id=\"text_16\">\n     <!-- train_accuracy -->\n     <defs>\n      <path d=\"M 50.984375 -16.609375 \nL 50.984375 -23.578125 \nL -0.984375 -23.578125 \nL -0.984375 -16.609375 \nz\n\" id=\"DejaVuSans-95\"/>\n     </defs>\n     <g transform=\"translate(302.55 213.444062)scale(0.1 -0.1)\">\n      <use xlink:href=\"#DejaVuSans-116\"/>\n      <use x=\"39.208984\" xlink:href=\"#DejaVuSans-114\"/>\n      <use x=\"80.322266\" xlink:href=\"#DejaVuSans-97\"/>\n      <use x=\"141.601562\" xlink:href=\"#DejaVuSans-105\"/>\n      <use x=\"169.384766\" xlink:href=\"#DejaVuSans-110\"/>\n      <use x=\"232.763672\" xlink:href=\"#DejaVuSans-95\"/>\n      <use x=\"282.763672\" xlink:href=\"#DejaVuSans-97\"/>\n      <use x=\"344.042969\" xlink:href=\"#DejaVuSans-99\"/>\n      <use x=\"399.023438\" xlink:href=\"#DejaVuSans-99\"/>\n      <use x=\"454.003906\" xlink:href=\"#DejaVuSans-117\"/>\n      <use x=\"517.382812\" xlink:href=\"#DejaVuSans-114\"/>\n      <use x=\"558.496094\" xlink:href=\"#DejaVuSans-97\"/>\n      <use x=\"619.775391\" xlink:href=\"#DejaVuSans-99\"/>\n      <use x=\"674.755859\" xlink:href=\"#DejaVuSans-121\"/>\n     </g>\n    </g>\n    <g id=\"line2d_17\">\n     <path d=\"M 274.55 224.900312 \nL 294.55 224.900312 \n\" style=\"fill:none;stroke:#ff7f0e;stroke-linecap:square;stroke-width:1.5;\"/>\n    </g>\n    <g id=\"line2d_18\"/>\n    <g id=\"text_17\">\n     <!-- val_accuracy -->\n     <defs>\n      <path d=\"M 2.984375 54.6875 \nL 12.5 54.6875 \nL 29.59375 8.796875 \nL 46.6875 54.6875 \nL 56.203125 54.6875 \nL 35.6875 0 \nL 23.484375 0 \nz\n\" id=\"DejaVuSans-118\"/>\n     </defs>\n     <g transform=\"translate(302.55 228.400312)scale(0.1 -0.1)\">\n      <use xlink:href=\"#DejaVuSans-118\"/>\n      <use x=\"59.179688\" xlink:href=\"#DejaVuSans-97\"/>\n      <use x=\"120.458984\" xlink:href=\"#DejaVuSans-108\"/>\n      <use x=\"148.242188\" xlink:href=\"#DejaVuSans-95\"/>\n      <use x=\"198.242188\" xlink:href=\"#DejaVuSans-97\"/>\n      <use x=\"259.521484\" xlink:href=\"#DejaVuSans-99\"/>\n      <use x=\"314.501953\" xlink:href=\"#DejaVuSans-99\"/>\n      <use x=\"369.482422\" xlink:href=\"#DejaVuSans-117\"/>\n      <use x=\"432.861328\" xlink:href=\"#DejaVuSans-114\"/>\n      <use x=\"473.974609\" xlink:href=\"#DejaVuSans-97\"/>\n      <use x=\"535.253906\" xlink:href=\"#DejaVuSans-99\"/>\n      <use x=\"590.234375\" xlink:href=\"#DejaVuSans-121\"/>\n     </g>\n    </g>\n   </g>\n  </g>\n </g>\n <defs>\n  <clipPath id=\"p26793ded14\">\n   <rect height=\"217.44\" width=\"334.8\" x=\"50.14375\" y=\"22.318125\"/>\n  </clipPath>\n </defs>\n</svg>\n"
          },
          "metadata": {
            "needs_background": "light"
          }
        }
      ]
    },
    {
      "cell_type": "code",
      "metadata": {
        "id": "iQi_YDwzfx2-",
        "colab": {
          "base_uri": "https://localhost:8080/",
          "height": 391
        },
        "outputId": "586dcec2-58fc-4da9-c7b0-4cbf6cd8760c"
      },
      "source": [
        "# plotando o gráfico da perda\n",
        "plot_metric(history_custom, 'loss')"
      ],
      "execution_count": null,
      "outputs": [
        {
          "output_type": "display_data",
          "data": {
            "text/plain": [
              "<Figure size 432x288 with 1 Axes>"
            ],
            "image/svg+xml": "<?xml version=\"1.0\" encoding=\"utf-8\" standalone=\"no\"?>\n<!DOCTYPE svg PUBLIC \"-//W3C//DTD SVG 1.1//EN\"\n  \"http://www.w3.org/Graphics/SVG/1.1/DTD/svg11.dtd\">\n<!-- Created with matplotlib (https://matplotlib.org/) -->\n<svg height=\"277.314375pt\" version=\"1.1\" viewBox=\"0 0 385.78125 277.314375\" width=\"385.78125pt\" xmlns=\"http://www.w3.org/2000/svg\" xmlns:xlink=\"http://www.w3.org/1999/xlink\">\n <defs>\n  <style type=\"text/css\">\n*{stroke-linecap:butt;stroke-linejoin:round;}\n  </style>\n </defs>\n <g id=\"figure_1\">\n  <g id=\"patch_1\">\n   <path d=\"M 0 277.314375 \nL 385.78125 277.314375 \nL 385.78125 0 \nL 0 0 \nz\n\" style=\"fill:none;\"/>\n  </g>\n  <g id=\"axes_1\">\n   <g id=\"patch_2\">\n    <path d=\"M 43.78125 239.758125 \nL 378.58125 239.758125 \nL 378.58125 22.318125 \nL 43.78125 22.318125 \nz\n\" style=\"fill:#ffffff;\"/>\n   </g>\n   <g id=\"matplotlib.axis_1\">\n    <g id=\"xtick_1\">\n     <g id=\"line2d_1\">\n      <defs>\n       <path d=\"M 0 0 \nL 0 3.5 \n\" id=\"m24c8c5e46f\" style=\"stroke:#000000;stroke-width:0.8;\"/>\n      </defs>\n      <g>\n       <use style=\"stroke:#000000;stroke-width:0.8;\" x=\"44.505925\" xlink:href=\"#m24c8c5e46f\" y=\"239.758125\"/>\n      </g>\n     </g>\n     <g id=\"text_1\">\n      <!-- 0 -->\n      <defs>\n       <path d=\"M 31.78125 66.40625 \nQ 24.171875 66.40625 20.328125 58.90625 \nQ 16.5 51.421875 16.5 36.375 \nQ 16.5 21.390625 20.328125 13.890625 \nQ 24.171875 6.390625 31.78125 6.390625 \nQ 39.453125 6.390625 43.28125 13.890625 \nQ 47.125 21.390625 47.125 36.375 \nQ 47.125 51.421875 43.28125 58.90625 \nQ 39.453125 66.40625 31.78125 66.40625 \nz\nM 31.78125 74.21875 \nQ 44.046875 74.21875 50.515625 64.515625 \nQ 56.984375 54.828125 56.984375 36.375 \nQ 56.984375 17.96875 50.515625 8.265625 \nQ 44.046875 -1.421875 31.78125 -1.421875 \nQ 19.53125 -1.421875 13.0625 8.265625 \nQ 6.59375 17.96875 6.59375 36.375 \nQ 6.59375 54.828125 13.0625 64.515625 \nQ 19.53125 74.21875 31.78125 74.21875 \nz\n\" id=\"DejaVuSans-48\"/>\n      </defs>\n      <g transform=\"translate(41.324675 254.356562)scale(0.1 -0.1)\">\n       <use xlink:href=\"#DejaVuSans-48\"/>\n      </g>\n     </g>\n    </g>\n    <g id=\"xtick_2\">\n     <g id=\"line2d_2\">\n      <g>\n       <use style=\"stroke:#000000;stroke-width:0.8;\" x=\"116.973458\" xlink:href=\"#m24c8c5e46f\" y=\"239.758125\"/>\n      </g>\n     </g>\n     <g id=\"text_2\">\n      <!-- 5 -->\n      <defs>\n       <path d=\"M 10.796875 72.90625 \nL 49.515625 72.90625 \nL 49.515625 64.59375 \nL 19.828125 64.59375 \nL 19.828125 46.734375 \nQ 21.96875 47.46875 24.109375 47.828125 \nQ 26.265625 48.1875 28.421875 48.1875 \nQ 40.625 48.1875 47.75 41.5 \nQ 54.890625 34.8125 54.890625 23.390625 \nQ 54.890625 11.625 47.5625 5.09375 \nQ 40.234375 -1.421875 26.90625 -1.421875 \nQ 22.3125 -1.421875 17.546875 -0.640625 \nQ 12.796875 0.140625 7.71875 1.703125 \nL 7.71875 11.625 \nQ 12.109375 9.234375 16.796875 8.0625 \nQ 21.484375 6.890625 26.703125 6.890625 \nQ 35.15625 6.890625 40.078125 11.328125 \nQ 45.015625 15.765625 45.015625 23.390625 \nQ 45.015625 31 40.078125 35.4375 \nQ 35.15625 39.890625 26.703125 39.890625 \nQ 22.75 39.890625 18.8125 39.015625 \nQ 14.890625 38.140625 10.796875 36.28125 \nz\n\" id=\"DejaVuSans-53\"/>\n      </defs>\n      <g transform=\"translate(113.792208 254.356562)scale(0.1 -0.1)\">\n       <use xlink:href=\"#DejaVuSans-53\"/>\n      </g>\n     </g>\n    </g>\n    <g id=\"xtick_3\">\n     <g id=\"line2d_3\">\n      <g>\n       <use style=\"stroke:#000000;stroke-width:0.8;\" x=\"189.44099\" xlink:href=\"#m24c8c5e46f\" y=\"239.758125\"/>\n      </g>\n     </g>\n     <g id=\"text_3\">\n      <!-- 10 -->\n      <defs>\n       <path d=\"M 12.40625 8.296875 \nL 28.515625 8.296875 \nL 28.515625 63.921875 \nL 10.984375 60.40625 \nL 10.984375 69.390625 \nL 28.421875 72.90625 \nL 38.28125 72.90625 \nL 38.28125 8.296875 \nL 54.390625 8.296875 \nL 54.390625 0 \nL 12.40625 0 \nz\n\" id=\"DejaVuSans-49\"/>\n      </defs>\n      <g transform=\"translate(183.07849 254.356562)scale(0.1 -0.1)\">\n       <use xlink:href=\"#DejaVuSans-49\"/>\n       <use x=\"63.623047\" xlink:href=\"#DejaVuSans-48\"/>\n      </g>\n     </g>\n    </g>\n    <g id=\"xtick_4\">\n     <g id=\"line2d_4\">\n      <g>\n       <use style=\"stroke:#000000;stroke-width:0.8;\" x=\"261.908523\" xlink:href=\"#m24c8c5e46f\" y=\"239.758125\"/>\n      </g>\n     </g>\n     <g id=\"text_4\">\n      <!-- 15 -->\n      <g transform=\"translate(255.546023 254.356562)scale(0.1 -0.1)\">\n       <use xlink:href=\"#DejaVuSans-49\"/>\n       <use x=\"63.623047\" xlink:href=\"#DejaVuSans-53\"/>\n      </g>\n     </g>\n    </g>\n    <g id=\"xtick_5\">\n     <g id=\"line2d_5\">\n      <g>\n       <use style=\"stroke:#000000;stroke-width:0.8;\" x=\"334.376055\" xlink:href=\"#m24c8c5e46f\" y=\"239.758125\"/>\n      </g>\n     </g>\n     <g id=\"text_5\">\n      <!-- 20 -->\n      <defs>\n       <path d=\"M 19.1875 8.296875 \nL 53.609375 8.296875 \nL 53.609375 0 \nL 7.328125 0 \nL 7.328125 8.296875 \nQ 12.9375 14.109375 22.625 23.890625 \nQ 32.328125 33.6875 34.8125 36.53125 \nQ 39.546875 41.84375 41.421875 45.53125 \nQ 43.3125 49.21875 43.3125 52.78125 \nQ 43.3125 58.59375 39.234375 62.25 \nQ 35.15625 65.921875 28.609375 65.921875 \nQ 23.96875 65.921875 18.8125 64.3125 \nQ 13.671875 62.703125 7.8125 59.421875 \nL 7.8125 69.390625 \nQ 13.765625 71.78125 18.9375 73 \nQ 24.125 74.21875 28.421875 74.21875 \nQ 39.75 74.21875 46.484375 68.546875 \nQ 53.21875 62.890625 53.21875 53.421875 \nQ 53.21875 48.921875 51.53125 44.890625 \nQ 49.859375 40.875 45.40625 35.40625 \nQ 44.1875 33.984375 37.640625 27.21875 \nQ 31.109375 20.453125 19.1875 8.296875 \nz\n\" id=\"DejaVuSans-50\"/>\n      </defs>\n      <g transform=\"translate(328.013555 254.356562)scale(0.1 -0.1)\">\n       <use xlink:href=\"#DejaVuSans-50\"/>\n       <use x=\"63.623047\" xlink:href=\"#DejaVuSans-48\"/>\n      </g>\n     </g>\n    </g>\n    <g id=\"text_6\">\n     <!-- Epochs -->\n     <defs>\n      <path d=\"M 9.8125 72.90625 \nL 55.90625 72.90625 \nL 55.90625 64.59375 \nL 19.671875 64.59375 \nL 19.671875 43.015625 \nL 54.390625 43.015625 \nL 54.390625 34.71875 \nL 19.671875 34.71875 \nL 19.671875 8.296875 \nL 56.78125 8.296875 \nL 56.78125 0 \nL 9.8125 0 \nz\n\" id=\"DejaVuSans-69\"/>\n      <path d=\"M 18.109375 8.203125 \nL 18.109375 -20.796875 \nL 9.078125 -20.796875 \nL 9.078125 54.6875 \nL 18.109375 54.6875 \nL 18.109375 46.390625 \nQ 20.953125 51.265625 25.265625 53.625 \nQ 29.59375 56 35.59375 56 \nQ 45.5625 56 51.78125 48.09375 \nQ 58.015625 40.1875 58.015625 27.296875 \nQ 58.015625 14.40625 51.78125 6.484375 \nQ 45.5625 -1.421875 35.59375 -1.421875 \nQ 29.59375 -1.421875 25.265625 0.953125 \nQ 20.953125 3.328125 18.109375 8.203125 \nz\nM 48.6875 27.296875 \nQ 48.6875 37.203125 44.609375 42.84375 \nQ 40.53125 48.484375 33.40625 48.484375 \nQ 26.265625 48.484375 22.1875 42.84375 \nQ 18.109375 37.203125 18.109375 27.296875 \nQ 18.109375 17.390625 22.1875 11.75 \nQ 26.265625 6.109375 33.40625 6.109375 \nQ 40.53125 6.109375 44.609375 11.75 \nQ 48.6875 17.390625 48.6875 27.296875 \nz\n\" id=\"DejaVuSans-112\"/>\n      <path d=\"M 30.609375 48.390625 \nQ 23.390625 48.390625 19.1875 42.75 \nQ 14.984375 37.109375 14.984375 27.296875 \nQ 14.984375 17.484375 19.15625 11.84375 \nQ 23.34375 6.203125 30.609375 6.203125 \nQ 37.796875 6.203125 41.984375 11.859375 \nQ 46.1875 17.53125 46.1875 27.296875 \nQ 46.1875 37.015625 41.984375 42.703125 \nQ 37.796875 48.390625 30.609375 48.390625 \nz\nM 30.609375 56 \nQ 42.328125 56 49.015625 48.375 \nQ 55.71875 40.765625 55.71875 27.296875 \nQ 55.71875 13.875 49.015625 6.21875 \nQ 42.328125 -1.421875 30.609375 -1.421875 \nQ 18.84375 -1.421875 12.171875 6.21875 \nQ 5.515625 13.875 5.515625 27.296875 \nQ 5.515625 40.765625 12.171875 48.375 \nQ 18.84375 56 30.609375 56 \nz\n\" id=\"DejaVuSans-111\"/>\n      <path d=\"M 48.78125 52.59375 \nL 48.78125 44.1875 \nQ 44.96875 46.296875 41.140625 47.34375 \nQ 37.3125 48.390625 33.40625 48.390625 \nQ 24.65625 48.390625 19.8125 42.84375 \nQ 14.984375 37.3125 14.984375 27.296875 \nQ 14.984375 17.28125 19.8125 11.734375 \nQ 24.65625 6.203125 33.40625 6.203125 \nQ 37.3125 6.203125 41.140625 7.25 \nQ 44.96875 8.296875 48.78125 10.40625 \nL 48.78125 2.09375 \nQ 45.015625 0.34375 40.984375 -0.53125 \nQ 36.96875 -1.421875 32.421875 -1.421875 \nQ 20.0625 -1.421875 12.78125 6.34375 \nQ 5.515625 14.109375 5.515625 27.296875 \nQ 5.515625 40.671875 12.859375 48.328125 \nQ 20.21875 56 33.015625 56 \nQ 37.15625 56 41.109375 55.140625 \nQ 45.0625 54.296875 48.78125 52.59375 \nz\n\" id=\"DejaVuSans-99\"/>\n      <path d=\"M 54.890625 33.015625 \nL 54.890625 0 \nL 45.90625 0 \nL 45.90625 32.71875 \nQ 45.90625 40.484375 42.875 44.328125 \nQ 39.84375 48.1875 33.796875 48.1875 \nQ 26.515625 48.1875 22.3125 43.546875 \nQ 18.109375 38.921875 18.109375 30.90625 \nL 18.109375 0 \nL 9.078125 0 \nL 9.078125 75.984375 \nL 18.109375 75.984375 \nL 18.109375 46.1875 \nQ 21.34375 51.125 25.703125 53.5625 \nQ 30.078125 56 35.796875 56 \nQ 45.21875 56 50.046875 50.171875 \nQ 54.890625 44.34375 54.890625 33.015625 \nz\n\" id=\"DejaVuSans-104\"/>\n      <path d=\"M 44.28125 53.078125 \nL 44.28125 44.578125 \nQ 40.484375 46.53125 36.375 47.5 \nQ 32.28125 48.484375 27.875 48.484375 \nQ 21.1875 48.484375 17.84375 46.4375 \nQ 14.5 44.390625 14.5 40.28125 \nQ 14.5 37.15625 16.890625 35.375 \nQ 19.28125 33.59375 26.515625 31.984375 \nL 29.59375 31.296875 \nQ 39.15625 29.25 43.1875 25.515625 \nQ 47.21875 21.78125 47.21875 15.09375 \nQ 47.21875 7.46875 41.1875 3.015625 \nQ 35.15625 -1.421875 24.609375 -1.421875 \nQ 20.21875 -1.421875 15.453125 -0.5625 \nQ 10.6875 0.296875 5.421875 2 \nL 5.421875 11.28125 \nQ 10.40625 8.6875 15.234375 7.390625 \nQ 20.0625 6.109375 24.8125 6.109375 \nQ 31.15625 6.109375 34.5625 8.28125 \nQ 37.984375 10.453125 37.984375 14.40625 \nQ 37.984375 18.0625 35.515625 20.015625 \nQ 33.0625 21.96875 24.703125 23.78125 \nL 21.578125 24.515625 \nQ 13.234375 26.265625 9.515625 29.90625 \nQ 5.8125 33.546875 5.8125 39.890625 \nQ 5.8125 47.609375 11.28125 51.796875 \nQ 16.75 56 26.8125 56 \nQ 31.78125 56 36.171875 55.265625 \nQ 40.578125 54.546875 44.28125 53.078125 \nz\n\" id=\"DejaVuSans-115\"/>\n     </defs>\n     <g transform=\"translate(193.265625 268.034687)scale(0.1 -0.1)\">\n      <use xlink:href=\"#DejaVuSans-69\"/>\n      <use x=\"63.183594\" xlink:href=\"#DejaVuSans-112\"/>\n      <use x=\"126.660156\" xlink:href=\"#DejaVuSans-111\"/>\n      <use x=\"187.841797\" xlink:href=\"#DejaVuSans-99\"/>\n      <use x=\"242.822266\" xlink:href=\"#DejaVuSans-104\"/>\n      <use x=\"306.201172\" xlink:href=\"#DejaVuSans-115\"/>\n     </g>\n    </g>\n   </g>\n   <g id=\"matplotlib.axis_2\">\n    <g id=\"ytick_1\">\n     <g id=\"line2d_6\">\n      <defs>\n       <path d=\"M 0 0 \nL -3.5 0 \n\" id=\"me482d7f78a\" style=\"stroke:#000000;stroke-width:0.8;\"/>\n      </defs>\n      <g>\n       <use style=\"stroke:#000000;stroke-width:0.8;\" x=\"43.78125\" xlink:href=\"#me482d7f78a\" y=\"235.115002\"/>\n      </g>\n     </g>\n     <g id=\"text_7\">\n      <!-- 0.4 -->\n      <defs>\n       <path d=\"M 10.6875 12.40625 \nL 21 12.40625 \nL 21 0 \nL 10.6875 0 \nz\n\" id=\"DejaVuSans-46\"/>\n       <path d=\"M 37.796875 64.3125 \nL 12.890625 25.390625 \nL 37.796875 25.390625 \nz\nM 35.203125 72.90625 \nL 47.609375 72.90625 \nL 47.609375 25.390625 \nL 58.015625 25.390625 \nL 58.015625 17.1875 \nL 47.609375 17.1875 \nL 47.609375 0 \nL 37.796875 0 \nL 37.796875 17.1875 \nL 4.890625 17.1875 \nL 4.890625 26.703125 \nz\n\" id=\"DejaVuSans-52\"/>\n      </defs>\n      <g transform=\"translate(20.878125 238.914221)scale(0.1 -0.1)\">\n       <use xlink:href=\"#DejaVuSans-48\"/>\n       <use x=\"63.623047\" xlink:href=\"#DejaVuSans-46\"/>\n       <use x=\"95.410156\" xlink:href=\"#DejaVuSans-52\"/>\n      </g>\n     </g>\n    </g>\n    <g id=\"ytick_2\">\n     <g id=\"line2d_7\">\n      <g>\n       <use style=\"stroke:#000000;stroke-width:0.8;\" x=\"43.78125\" xlink:href=\"#me482d7f78a\" y=\"200.459488\"/>\n      </g>\n     </g>\n     <g id=\"text_8\">\n      <!-- 0.6 -->\n      <defs>\n       <path d=\"M 33.015625 40.375 \nQ 26.375 40.375 22.484375 35.828125 \nQ 18.609375 31.296875 18.609375 23.390625 \nQ 18.609375 15.53125 22.484375 10.953125 \nQ 26.375 6.390625 33.015625 6.390625 \nQ 39.65625 6.390625 43.53125 10.953125 \nQ 47.40625 15.53125 47.40625 23.390625 \nQ 47.40625 31.296875 43.53125 35.828125 \nQ 39.65625 40.375 33.015625 40.375 \nz\nM 52.59375 71.296875 \nL 52.59375 62.3125 \nQ 48.875 64.0625 45.09375 64.984375 \nQ 41.3125 65.921875 37.59375 65.921875 \nQ 27.828125 65.921875 22.671875 59.328125 \nQ 17.53125 52.734375 16.796875 39.40625 \nQ 19.671875 43.65625 24.015625 45.921875 \nQ 28.375 48.1875 33.59375 48.1875 \nQ 44.578125 48.1875 50.953125 41.515625 \nQ 57.328125 34.859375 57.328125 23.390625 \nQ 57.328125 12.15625 50.6875 5.359375 \nQ 44.046875 -1.421875 33.015625 -1.421875 \nQ 20.359375 -1.421875 13.671875 8.265625 \nQ 6.984375 17.96875 6.984375 36.375 \nQ 6.984375 53.65625 15.1875 63.9375 \nQ 23.390625 74.21875 37.203125 74.21875 \nQ 40.921875 74.21875 44.703125 73.484375 \nQ 48.484375 72.75 52.59375 71.296875 \nz\n\" id=\"DejaVuSans-54\"/>\n      </defs>\n      <g transform=\"translate(20.878125 204.258706)scale(0.1 -0.1)\">\n       <use xlink:href=\"#DejaVuSans-48\"/>\n       <use x=\"63.623047\" xlink:href=\"#DejaVuSans-46\"/>\n       <use x=\"95.410156\" xlink:href=\"#DejaVuSans-54\"/>\n      </g>\n     </g>\n    </g>\n    <g id=\"ytick_3\">\n     <g id=\"line2d_8\">\n      <g>\n       <use style=\"stroke:#000000;stroke-width:0.8;\" x=\"43.78125\" xlink:href=\"#me482d7f78a\" y=\"165.803973\"/>\n      </g>\n     </g>\n     <g id=\"text_9\">\n      <!-- 0.8 -->\n      <defs>\n       <path d=\"M 31.78125 34.625 \nQ 24.75 34.625 20.71875 30.859375 \nQ 16.703125 27.09375 16.703125 20.515625 \nQ 16.703125 13.921875 20.71875 10.15625 \nQ 24.75 6.390625 31.78125 6.390625 \nQ 38.8125 6.390625 42.859375 10.171875 \nQ 46.921875 13.96875 46.921875 20.515625 \nQ 46.921875 27.09375 42.890625 30.859375 \nQ 38.875 34.625 31.78125 34.625 \nz\nM 21.921875 38.8125 \nQ 15.578125 40.375 12.03125 44.71875 \nQ 8.5 49.078125 8.5 55.328125 \nQ 8.5 64.0625 14.71875 69.140625 \nQ 20.953125 74.21875 31.78125 74.21875 \nQ 42.671875 74.21875 48.875 69.140625 \nQ 55.078125 64.0625 55.078125 55.328125 \nQ 55.078125 49.078125 51.53125 44.71875 \nQ 48 40.375 41.703125 38.8125 \nQ 48.828125 37.15625 52.796875 32.3125 \nQ 56.78125 27.484375 56.78125 20.515625 \nQ 56.78125 9.90625 50.3125 4.234375 \nQ 43.84375 -1.421875 31.78125 -1.421875 \nQ 19.734375 -1.421875 13.25 4.234375 \nQ 6.78125 9.90625 6.78125 20.515625 \nQ 6.78125 27.484375 10.78125 32.3125 \nQ 14.796875 37.15625 21.921875 38.8125 \nz\nM 18.3125 54.390625 \nQ 18.3125 48.734375 21.84375 45.5625 \nQ 25.390625 42.390625 31.78125 42.390625 \nQ 38.140625 42.390625 41.71875 45.5625 \nQ 45.3125 48.734375 45.3125 54.390625 \nQ 45.3125 60.0625 41.71875 63.234375 \nQ 38.140625 66.40625 31.78125 66.40625 \nQ 25.390625 66.40625 21.84375 63.234375 \nQ 18.3125 60.0625 18.3125 54.390625 \nz\n\" id=\"DejaVuSans-56\"/>\n      </defs>\n      <g transform=\"translate(20.878125 169.603192)scale(0.1 -0.1)\">\n       <use xlink:href=\"#DejaVuSans-48\"/>\n       <use x=\"63.623047\" xlink:href=\"#DejaVuSans-46\"/>\n       <use x=\"95.410156\" xlink:href=\"#DejaVuSans-56\"/>\n      </g>\n     </g>\n    </g>\n    <g id=\"ytick_4\">\n     <g id=\"line2d_9\">\n      <g>\n       <use style=\"stroke:#000000;stroke-width:0.8;\" x=\"43.78125\" xlink:href=\"#me482d7f78a\" y=\"131.148458\"/>\n      </g>\n     </g>\n     <g id=\"text_10\">\n      <!-- 1.0 -->\n      <g transform=\"translate(20.878125 134.947677)scale(0.1 -0.1)\">\n       <use xlink:href=\"#DejaVuSans-49\"/>\n       <use x=\"63.623047\" xlink:href=\"#DejaVuSans-46\"/>\n       <use x=\"95.410156\" xlink:href=\"#DejaVuSans-48\"/>\n      </g>\n     </g>\n    </g>\n    <g id=\"ytick_5\">\n     <g id=\"line2d_10\">\n      <g>\n       <use style=\"stroke:#000000;stroke-width:0.8;\" x=\"43.78125\" xlink:href=\"#me482d7f78a\" y=\"96.492943\"/>\n      </g>\n     </g>\n     <g id=\"text_11\">\n      <!-- 1.2 -->\n      <g transform=\"translate(20.878125 100.292162)scale(0.1 -0.1)\">\n       <use xlink:href=\"#DejaVuSans-49\"/>\n       <use x=\"63.623047\" xlink:href=\"#DejaVuSans-46\"/>\n       <use x=\"95.410156\" xlink:href=\"#DejaVuSans-50\"/>\n      </g>\n     </g>\n    </g>\n    <g id=\"ytick_6\">\n     <g id=\"line2d_11\">\n      <g>\n       <use style=\"stroke:#000000;stroke-width:0.8;\" x=\"43.78125\" xlink:href=\"#me482d7f78a\" y=\"61.837428\"/>\n      </g>\n     </g>\n     <g id=\"text_12\">\n      <!-- 1.4 -->\n      <g transform=\"translate(20.878125 65.636647)scale(0.1 -0.1)\">\n       <use xlink:href=\"#DejaVuSans-49\"/>\n       <use x=\"63.623047\" xlink:href=\"#DejaVuSans-46\"/>\n       <use x=\"95.410156\" xlink:href=\"#DejaVuSans-52\"/>\n      </g>\n     </g>\n    </g>\n    <g id=\"ytick_7\">\n     <g id=\"line2d_12\">\n      <g>\n       <use style=\"stroke:#000000;stroke-width:0.8;\" x=\"43.78125\" xlink:href=\"#me482d7f78a\" y=\"27.181914\"/>\n      </g>\n     </g>\n     <g id=\"text_13\">\n      <!-- 1.6 -->\n      <g transform=\"translate(20.878125 30.981132)scale(0.1 -0.1)\">\n       <use xlink:href=\"#DejaVuSans-49\"/>\n       <use x=\"63.623047\" xlink:href=\"#DejaVuSans-46\"/>\n       <use x=\"95.410156\" xlink:href=\"#DejaVuSans-54\"/>\n      </g>\n     </g>\n    </g>\n    <g id=\"text_14\">\n     <!-- loss -->\n     <defs>\n      <path d=\"M 9.421875 75.984375 \nL 18.40625 75.984375 \nL 18.40625 0 \nL 9.421875 0 \nz\n\" id=\"DejaVuSans-108\"/>\n     </defs>\n     <g transform=\"translate(14.798438 140.695937)rotate(-90)scale(0.1 -0.1)\">\n      <use xlink:href=\"#DejaVuSans-108\"/>\n      <use x=\"27.783203\" xlink:href=\"#DejaVuSans-111\"/>\n      <use x=\"88.964844\" xlink:href=\"#DejaVuSans-115\"/>\n      <use x=\"141.064453\" xlink:href=\"#DejaVuSans-115\"/>\n     </g>\n    </g>\n   </g>\n   <g id=\"line2d_13\">\n    <path clip-path=\"url(#pc725db45b9)\" d=\"M 58.999432 32.201761 \nL 73.492938 136.652246 \nL 87.986445 165.439294 \nL 102.479951 179.703169 \nL 116.973458 189.155532 \nL 131.466964 196.024732 \nL 145.960471 201.407835 \nL 160.453977 206.036973 \nL 174.947484 209.2784 \nL 189.44099 212.411227 \nL 203.934497 214.728533 \nL 218.428003 216.954858 \nL 232.92151 218.796269 \nL 247.415016 220.637835 \nL 261.908523 222.035088 \nL 276.402029 223.3089 \nL 290.895536 225.12652 \nL 305.389042 225.861068 \nL 319.882549 226.756947 \nL 334.376055 228.181984 \nL 348.869562 229.322552 \nL 363.363068 229.874489 \n\" style=\"fill:none;stroke:#1f77b4;stroke-linecap:square;stroke-width:1.5;\"/>\n   </g>\n   <g id=\"line2d_14\">\n    <path clip-path=\"url(#pc725db45b9)\" d=\"M 58.999432 107.061956 \nL 73.492938 152.193754 \nL 87.986445 169.988234 \nL 102.479951 181.127896 \nL 116.973458 188.509196 \nL 131.466964 194.293032 \nL 145.960471 198.3714 \nL 160.453977 202.833553 \nL 174.947484 201.976224 \nL 189.44099 207.979697 \nL 203.934497 207.869093 \nL 218.428003 211.800885 \nL 232.92151 213.324142 \nL 247.415016 215.167231 \nL 261.908523 215.495129 \nL 276.402029 214.701731 \nL 290.895536 217.826069 \nL 305.389042 216.36823 \nL 319.882549 220.245918 \nL 334.376055 218.521375 \nL 348.869562 219.784905 \nL 363.363068 218.923703 \n\" style=\"fill:none;stroke:#ff7f0e;stroke-linecap:square;stroke-width:1.5;\"/>\n   </g>\n   <g id=\"patch_3\">\n    <path d=\"M 43.78125 239.758125 \nL 43.78125 22.318125 \n\" style=\"fill:none;stroke:#000000;stroke-linecap:square;stroke-linejoin:miter;stroke-width:0.8;\"/>\n   </g>\n   <g id=\"patch_4\">\n    <path d=\"M 378.58125 239.758125 \nL 378.58125 22.318125 \n\" style=\"fill:none;stroke:#000000;stroke-linecap:square;stroke-linejoin:miter;stroke-width:0.8;\"/>\n   </g>\n   <g id=\"patch_5\">\n    <path d=\"M 43.78125 239.758125 \nL 378.58125 239.758125 \n\" style=\"fill:none;stroke:#000000;stroke-linecap:square;stroke-linejoin:miter;stroke-width:0.8;\"/>\n   </g>\n   <g id=\"patch_6\">\n    <path d=\"M 43.78125 22.318125 \nL 378.58125 22.318125 \n\" style=\"fill:none;stroke:#000000;stroke-linecap:square;stroke-linejoin:miter;stroke-width:0.8;\"/>\n   </g>\n   <g id=\"text_15\">\n    <!-- Training &amp; Validation - loss -->\n    <defs>\n     <path d=\"M -0.296875 72.90625 \nL 61.375 72.90625 \nL 61.375 64.59375 \nL 35.5 64.59375 \nL 35.5 0 \nL 25.59375 0 \nL 25.59375 64.59375 \nL -0.296875 64.59375 \nz\n\" id=\"DejaVuSans-84\"/>\n     <path d=\"M 41.109375 46.296875 \nQ 39.59375 47.171875 37.8125 47.578125 \nQ 36.03125 48 33.890625 48 \nQ 26.265625 48 22.1875 43.046875 \nQ 18.109375 38.09375 18.109375 28.8125 \nL 18.109375 0 \nL 9.078125 0 \nL 9.078125 54.6875 \nL 18.109375 54.6875 \nL 18.109375 46.1875 \nQ 20.953125 51.171875 25.484375 53.578125 \nQ 30.03125 56 36.53125 56 \nQ 37.453125 56 38.578125 55.875 \nQ 39.703125 55.765625 41.0625 55.515625 \nz\n\" id=\"DejaVuSans-114\"/>\n     <path d=\"M 34.28125 27.484375 \nQ 23.390625 27.484375 19.1875 25 \nQ 14.984375 22.515625 14.984375 16.5 \nQ 14.984375 11.71875 18.140625 8.90625 \nQ 21.296875 6.109375 26.703125 6.109375 \nQ 34.1875 6.109375 38.703125 11.40625 \nQ 43.21875 16.703125 43.21875 25.484375 \nL 43.21875 27.484375 \nz\nM 52.203125 31.203125 \nL 52.203125 0 \nL 43.21875 0 \nL 43.21875 8.296875 \nQ 40.140625 3.328125 35.546875 0.953125 \nQ 30.953125 -1.421875 24.3125 -1.421875 \nQ 15.921875 -1.421875 10.953125 3.296875 \nQ 6 8.015625 6 15.921875 \nQ 6 25.140625 12.171875 29.828125 \nQ 18.359375 34.515625 30.609375 34.515625 \nL 43.21875 34.515625 \nL 43.21875 35.40625 \nQ 43.21875 41.609375 39.140625 45 \nQ 35.0625 48.390625 27.6875 48.390625 \nQ 23 48.390625 18.546875 47.265625 \nQ 14.109375 46.140625 10.015625 43.890625 \nL 10.015625 52.203125 \nQ 14.9375 54.109375 19.578125 55.046875 \nQ 24.21875 56 28.609375 56 \nQ 40.484375 56 46.34375 49.84375 \nQ 52.203125 43.703125 52.203125 31.203125 \nz\n\" id=\"DejaVuSans-97\"/>\n     <path d=\"M 9.421875 54.6875 \nL 18.40625 54.6875 \nL 18.40625 0 \nL 9.421875 0 \nz\nM 9.421875 75.984375 \nL 18.40625 75.984375 \nL 18.40625 64.59375 \nL 9.421875 64.59375 \nz\n\" id=\"DejaVuSans-105\"/>\n     <path d=\"M 54.890625 33.015625 \nL 54.890625 0 \nL 45.90625 0 \nL 45.90625 32.71875 \nQ 45.90625 40.484375 42.875 44.328125 \nQ 39.84375 48.1875 33.796875 48.1875 \nQ 26.515625 48.1875 22.3125 43.546875 \nQ 18.109375 38.921875 18.109375 30.90625 \nL 18.109375 0 \nL 9.078125 0 \nL 9.078125 54.6875 \nL 18.109375 54.6875 \nL 18.109375 46.1875 \nQ 21.34375 51.125 25.703125 53.5625 \nQ 30.078125 56 35.796875 56 \nQ 45.21875 56 50.046875 50.171875 \nQ 54.890625 44.34375 54.890625 33.015625 \nz\n\" id=\"DejaVuSans-110\"/>\n     <path d=\"M 45.40625 27.984375 \nQ 45.40625 37.75 41.375 43.109375 \nQ 37.359375 48.484375 30.078125 48.484375 \nQ 22.859375 48.484375 18.828125 43.109375 \nQ 14.796875 37.75 14.796875 27.984375 \nQ 14.796875 18.265625 18.828125 12.890625 \nQ 22.859375 7.515625 30.078125 7.515625 \nQ 37.359375 7.515625 41.375 12.890625 \nQ 45.40625 18.265625 45.40625 27.984375 \nz\nM 54.390625 6.78125 \nQ 54.390625 -7.171875 48.1875 -13.984375 \nQ 42 -20.796875 29.203125 -20.796875 \nQ 24.46875 -20.796875 20.265625 -20.09375 \nQ 16.0625 -19.390625 12.109375 -17.921875 \nL 12.109375 -9.1875 \nQ 16.0625 -11.328125 19.921875 -12.34375 \nQ 23.78125 -13.375 27.78125 -13.375 \nQ 36.625 -13.375 41.015625 -8.765625 \nQ 45.40625 -4.15625 45.40625 5.171875 \nL 45.40625 9.625 \nQ 42.625 4.78125 38.28125 2.390625 \nQ 33.9375 0 27.875 0 \nQ 17.828125 0 11.671875 7.65625 \nQ 5.515625 15.328125 5.515625 27.984375 \nQ 5.515625 40.671875 11.671875 48.328125 \nQ 17.828125 56 27.875 56 \nQ 33.9375 56 38.28125 53.609375 \nQ 42.625 51.21875 45.40625 46.390625 \nL 45.40625 54.6875 \nL 54.390625 54.6875 \nz\n\" id=\"DejaVuSans-103\"/>\n     <path id=\"DejaVuSans-32\"/>\n     <path d=\"M 24.3125 39.203125 \nQ 19.875 35.25 17.796875 31.3125 \nQ 15.71875 27.390625 15.71875 23.09375 \nQ 15.71875 15.96875 20.890625 11.234375 \nQ 26.078125 6.5 33.890625 6.5 \nQ 38.53125 6.5 42.578125 8.03125 \nQ 46.625 9.578125 50.203125 12.703125 \nz\nM 31.203125 44.671875 \nL 56 19.28125 \nQ 58.890625 23.640625 60.5 28.59375 \nQ 62.109375 33.546875 62.40625 39.109375 \nL 71.484375 39.109375 \nQ 70.90625 32.671875 68.359375 26.359375 \nQ 65.828125 20.0625 61.28125 13.921875 \nL 74.90625 0 \nL 62.59375 0 \nL 55.609375 7.171875 \nQ 50.53125 2.828125 44.96875 0.703125 \nQ 39.40625 -1.421875 33.015625 -1.421875 \nQ 21.234375 -1.421875 13.765625 5.296875 \nQ 6.296875 12.015625 6.296875 22.515625 \nQ 6.296875 28.765625 9.5625 34.25 \nQ 12.84375 39.75 19.390625 44.578125 \nQ 17.046875 47.65625 15.8125 50.703125 \nQ 14.59375 53.765625 14.59375 56.6875 \nQ 14.59375 64.59375 20.015625 69.40625 \nQ 25.4375 74.21875 34.421875 74.21875 \nQ 38.484375 74.21875 42.5 73.34375 \nQ 46.53125 72.46875 50.6875 70.703125 \nL 50.6875 61.8125 \nQ 46.4375 64.109375 42.578125 65.296875 \nQ 38.71875 66.5 35.40625 66.5 \nQ 30.28125 66.5 27.078125 63.78125 \nQ 23.875 61.078125 23.875 56.78125 \nQ 23.875 54.296875 25.3125 51.78125 \nQ 26.765625 49.265625 31.203125 44.671875 \nz\n\" id=\"DejaVuSans-38\"/>\n     <path d=\"M 28.609375 0 \nL 0.78125 72.90625 \nL 11.078125 72.90625 \nL 34.1875 11.53125 \nL 57.328125 72.90625 \nL 67.578125 72.90625 \nL 39.796875 0 \nz\n\" id=\"DejaVuSans-86\"/>\n     <path d=\"M 45.40625 46.390625 \nL 45.40625 75.984375 \nL 54.390625 75.984375 \nL 54.390625 0 \nL 45.40625 0 \nL 45.40625 8.203125 \nQ 42.578125 3.328125 38.25 0.953125 \nQ 33.9375 -1.421875 27.875 -1.421875 \nQ 17.96875 -1.421875 11.734375 6.484375 \nQ 5.515625 14.40625 5.515625 27.296875 \nQ 5.515625 40.1875 11.734375 48.09375 \nQ 17.96875 56 27.875 56 \nQ 33.9375 56 38.25 53.625 \nQ 42.578125 51.265625 45.40625 46.390625 \nz\nM 14.796875 27.296875 \nQ 14.796875 17.390625 18.875 11.75 \nQ 22.953125 6.109375 30.078125 6.109375 \nQ 37.203125 6.109375 41.296875 11.75 \nQ 45.40625 17.390625 45.40625 27.296875 \nQ 45.40625 37.203125 41.296875 42.84375 \nQ 37.203125 48.484375 30.078125 48.484375 \nQ 22.953125 48.484375 18.875 42.84375 \nQ 14.796875 37.203125 14.796875 27.296875 \nz\n\" id=\"DejaVuSans-100\"/>\n     <path d=\"M 18.3125 70.21875 \nL 18.3125 54.6875 \nL 36.8125 54.6875 \nL 36.8125 47.703125 \nL 18.3125 47.703125 \nL 18.3125 18.015625 \nQ 18.3125 11.328125 20.140625 9.421875 \nQ 21.96875 7.515625 27.59375 7.515625 \nL 36.8125 7.515625 \nL 36.8125 0 \nL 27.59375 0 \nQ 17.1875 0 13.234375 3.875 \nQ 9.28125 7.765625 9.28125 18.015625 \nL 9.28125 47.703125 \nL 2.6875 47.703125 \nL 2.6875 54.6875 \nL 9.28125 54.6875 \nL 9.28125 70.21875 \nz\n\" id=\"DejaVuSans-116\"/>\n     <path d=\"M 4.890625 31.390625 \nL 31.203125 31.390625 \nL 31.203125 23.390625 \nL 4.890625 23.390625 \nz\n\" id=\"DejaVuSans-45\"/>\n    </defs>\n    <g transform=\"translate(131.820938 16.318125)scale(0.12 -0.12)\">\n     <use xlink:href=\"#DejaVuSans-84\"/>\n     <use x=\"46.333984\" xlink:href=\"#DejaVuSans-114\"/>\n     <use x=\"87.447266\" xlink:href=\"#DejaVuSans-97\"/>\n     <use x=\"148.726562\" xlink:href=\"#DejaVuSans-105\"/>\n     <use x=\"176.509766\" xlink:href=\"#DejaVuSans-110\"/>\n     <use x=\"239.888672\" xlink:href=\"#DejaVuSans-105\"/>\n     <use x=\"267.671875\" xlink:href=\"#DejaVuSans-110\"/>\n     <use x=\"331.050781\" xlink:href=\"#DejaVuSans-103\"/>\n     <use x=\"394.527344\" xlink:href=\"#DejaVuSans-32\"/>\n     <use x=\"426.314453\" xlink:href=\"#DejaVuSans-38\"/>\n     <use x=\"504.292969\" xlink:href=\"#DejaVuSans-32\"/>\n     <use x=\"536.080078\" xlink:href=\"#DejaVuSans-86\"/>\n     <use x=\"596.738281\" xlink:href=\"#DejaVuSans-97\"/>\n     <use x=\"658.017578\" xlink:href=\"#DejaVuSans-108\"/>\n     <use x=\"685.800781\" xlink:href=\"#DejaVuSans-105\"/>\n     <use x=\"713.583984\" xlink:href=\"#DejaVuSans-100\"/>\n     <use x=\"777.060547\" xlink:href=\"#DejaVuSans-97\"/>\n     <use x=\"838.339844\" xlink:href=\"#DejaVuSans-116\"/>\n     <use x=\"877.548828\" xlink:href=\"#DejaVuSans-105\"/>\n     <use x=\"905.332031\" xlink:href=\"#DejaVuSans-111\"/>\n     <use x=\"966.513672\" xlink:href=\"#DejaVuSans-110\"/>\n     <use x=\"1029.892578\" xlink:href=\"#DejaVuSans-32\"/>\n     <use x=\"1061.679688\" xlink:href=\"#DejaVuSans-45\"/>\n     <use x=\"1097.763672\" xlink:href=\"#DejaVuSans-32\"/>\n     <use x=\"1129.550781\" xlink:href=\"#DejaVuSans-108\"/>\n     <use x=\"1157.333984\" xlink:href=\"#DejaVuSans-111\"/>\n     <use x=\"1218.515625\" xlink:href=\"#DejaVuSans-115\"/>\n     <use x=\"1270.615234\" xlink:href=\"#DejaVuSans-115\"/>\n    </g>\n   </g>\n   <g id=\"legend_1\">\n    <g id=\"patch_7\">\n     <path d=\"M 291.990625 60.230625 \nL 371.58125 60.230625 \nQ 373.58125 60.230625 373.58125 58.230625 \nL 373.58125 29.318125 \nQ 373.58125 27.318125 371.58125 27.318125 \nL 291.990625 27.318125 \nQ 289.990625 27.318125 289.990625 29.318125 \nL 289.990625 58.230625 \nQ 289.990625 60.230625 291.990625 60.230625 \nz\n\" style=\"fill:#ffffff;opacity:0.8;stroke:#cccccc;stroke-linejoin:miter;\"/>\n    </g>\n    <g id=\"line2d_15\">\n     <path d=\"M 293.990625 35.416562 \nL 313.990625 35.416562 \n\" style=\"fill:none;stroke:#1f77b4;stroke-linecap:square;stroke-width:1.5;\"/>\n    </g>\n    <g id=\"line2d_16\"/>\n    <g id=\"text_16\">\n     <!-- train_loss -->\n     <defs>\n      <path d=\"M 50.984375 -16.609375 \nL 50.984375 -23.578125 \nL -0.984375 -23.578125 \nL -0.984375 -16.609375 \nz\n\" id=\"DejaVuSans-95\"/>\n     </defs>\n     <g transform=\"translate(321.990625 38.916562)scale(0.1 -0.1)\">\n      <use xlink:href=\"#DejaVuSans-116\"/>\n      <use x=\"39.208984\" xlink:href=\"#DejaVuSans-114\"/>\n      <use x=\"80.322266\" xlink:href=\"#DejaVuSans-97\"/>\n      <use x=\"141.601562\" xlink:href=\"#DejaVuSans-105\"/>\n      <use x=\"169.384766\" xlink:href=\"#DejaVuSans-110\"/>\n      <use x=\"232.763672\" xlink:href=\"#DejaVuSans-95\"/>\n      <use x=\"282.763672\" xlink:href=\"#DejaVuSans-108\"/>\n      <use x=\"310.546875\" xlink:href=\"#DejaVuSans-111\"/>\n      <use x=\"371.728516\" xlink:href=\"#DejaVuSans-115\"/>\n      <use x=\"423.828125\" xlink:href=\"#DejaVuSans-115\"/>\n     </g>\n    </g>\n    <g id=\"line2d_17\">\n     <path d=\"M 293.990625 50.372812 \nL 313.990625 50.372812 \n\" style=\"fill:none;stroke:#ff7f0e;stroke-linecap:square;stroke-width:1.5;\"/>\n    </g>\n    <g id=\"line2d_18\"/>\n    <g id=\"text_17\">\n     <!-- val_loss -->\n     <defs>\n      <path d=\"M 2.984375 54.6875 \nL 12.5 54.6875 \nL 29.59375 8.796875 \nL 46.6875 54.6875 \nL 56.203125 54.6875 \nL 35.6875 0 \nL 23.484375 0 \nz\n\" id=\"DejaVuSans-118\"/>\n     </defs>\n     <g transform=\"translate(321.990625 53.872812)scale(0.1 -0.1)\">\n      <use xlink:href=\"#DejaVuSans-118\"/>\n      <use x=\"59.179688\" xlink:href=\"#DejaVuSans-97\"/>\n      <use x=\"120.458984\" xlink:href=\"#DejaVuSans-108\"/>\n      <use x=\"148.242188\" xlink:href=\"#DejaVuSans-95\"/>\n      <use x=\"198.242188\" xlink:href=\"#DejaVuSans-108\"/>\n      <use x=\"226.025391\" xlink:href=\"#DejaVuSans-111\"/>\n      <use x=\"287.207031\" xlink:href=\"#DejaVuSans-115\"/>\n      <use x=\"339.306641\" xlink:href=\"#DejaVuSans-115\"/>\n     </g>\n    </g>\n   </g>\n  </g>\n </g>\n <defs>\n  <clipPath id=\"pc725db45b9\">\n   <rect height=\"217.44\" width=\"334.8\" x=\"43.78125\" y=\"22.318125\"/>\n  </clipPath>\n </defs>\n</svg>\n"
          },
          "metadata": {
            "needs_background": "light"
          }
        }
      ]
    },
    {
      "cell_type": "markdown",
      "metadata": {
        "id": "G2t_zmtClNnv"
      },
      "source": [
        "#### **5.2. CSVLogger**"
      ]
    },
    {
      "cell_type": "markdown",
      "metadata": {
        "id": "DkJJib3VsKG6"
      },
      "source": [
        "`CSVLogger` é um retorno de chamada que transmite os resultados da época para um arquivo CSV. \n",
        "\n",
        "Primeiro, vamos importá-lo e criar um objeto com o _CSVLogger_."
      ]
    },
    {
      "cell_type": "code",
      "metadata": {
        "id": "q-mViwQKfx0T"
      },
      "source": [
        "# importando a função\n",
        "from tensorflow.keras.callbacks import CSVLogger"
      ],
      "execution_count": null,
      "outputs": []
    },
    {
      "cell_type": "code",
      "metadata": {
        "id": "SIM7A2X_fxyA"
      },
      "source": [
        "# criando um objeto com a função importada e como argumento instanciando um arquivo \".csv\"\n",
        "csv_log = CSVLogger('results.csv')"
      ],
      "execution_count": null,
      "outputs": []
    },
    {
      "cell_type": "code",
      "metadata": {
        "id": "DLQYD8sRlFoM"
      },
      "source": [
        "# criando o modelo\n",
        "modelo = create_model()"
      ],
      "execution_count": null,
      "outputs": []
    },
    {
      "cell_type": "code",
      "metadata": {
        "colab": {
          "base_uri": "https://localhost:8080/"
        },
        "id": "TPfyFf6zlFlW",
        "outputId": "f8829cdc-a584-4dad-a984-d0e24293ef2d"
      },
      "source": [
        "# treinando o modelo\n",
        "history_csv_logger = model.fit(\n",
        "    X_train,\n",
        "    y_train,\n",
        "    epochs=10,\n",
        "    validation_split=0.20,\n",
        "    batch_size=64,\n",
        "    verbose=2,\n",
        "    callbacks=[csv_log]\n",
        ")"
      ],
      "execution_count": null,
      "outputs": [
        {
          "output_type": "stream",
          "name": "stdout",
          "text": [
            "Epoch 1/10\n",
            "125/125 - 1s - loss: 0.4226 - accuracy: 0.8559 - val_loss: 0.4799 - val_accuracy: 0.8315\n",
            "Epoch 2/10\n",
            "125/125 - 1s - loss: 0.4182 - accuracy: 0.8577 - val_loss: 0.4923 - val_accuracy: 0.8255\n",
            "Epoch 3/10\n",
            "125/125 - 1s - loss: 0.4132 - accuracy: 0.8627 - val_loss: 0.4767 - val_accuracy: 0.8375\n",
            "Epoch 4/10\n",
            "125/125 - 1s - loss: 0.4087 - accuracy: 0.8587 - val_loss: 0.4674 - val_accuracy: 0.8365\n",
            "Epoch 5/10\n",
            "125/125 - 1s - loss: 0.4035 - accuracy: 0.8629 - val_loss: 0.5027 - val_accuracy: 0.8130\n",
            "Epoch 6/10\n",
            "125/125 - 1s - loss: 0.3980 - accuracy: 0.8659 - val_loss: 0.4557 - val_accuracy: 0.8420\n",
            "Epoch 7/10\n",
            "125/125 - 1s - loss: 0.3968 - accuracy: 0.8681 - val_loss: 0.4565 - val_accuracy: 0.8405\n",
            "Epoch 8/10\n",
            "125/125 - 1s - loss: 0.3901 - accuracy: 0.8668 - val_loss: 0.4580 - val_accuracy: 0.8355\n",
            "Epoch 9/10\n",
            "125/125 - 1s - loss: 0.3886 - accuracy: 0.8677 - val_loss: 0.4676 - val_accuracy: 0.8340\n",
            "Epoch 10/10\n",
            "125/125 - 1s - loss: 0.3828 - accuracy: 0.8698 - val_loss: 0.4594 - val_accuracy: 0.8410\n"
          ]
        }
      ]
    },
    {
      "cell_type": "code",
      "metadata": {
        "id": "Oa5NezBglFjD"
      },
      "source": [
        "# importando a biblioteca pandas\n",
        "import pandas as pd"
      ],
      "execution_count": null,
      "outputs": []
    },
    {
      "cell_type": "code",
      "metadata": {
        "colab": {
          "base_uri": "https://localhost:8080/",
          "height": 390
        },
        "id": "Y-kInehAlFga",
        "outputId": "32e7ffa3-1a43-4426-b075-585e501588e0"
      },
      "source": [
        "# visualizando o arquivo \"results.csv\"\n",
        "pd.read_csv('results.csv', index_col='epoch')"
      ],
      "execution_count": null,
      "outputs": [
        {
          "output_type": "execute_result",
          "data": {
            "text/html": [
              "<div>\n",
              "<style scoped>\n",
              "    .dataframe tbody tr th:only-of-type {\n",
              "        vertical-align: middle;\n",
              "    }\n",
              "\n",
              "    .dataframe tbody tr th {\n",
              "        vertical-align: top;\n",
              "    }\n",
              "\n",
              "    .dataframe thead th {\n",
              "        text-align: right;\n",
              "    }\n",
              "</style>\n",
              "<table border=\"1\" class=\"dataframe\">\n",
              "  <thead>\n",
              "    <tr style=\"text-align: right;\">\n",
              "      <th></th>\n",
              "      <th>accuracy</th>\n",
              "      <th>loss</th>\n",
              "      <th>val_accuracy</th>\n",
              "      <th>val_loss</th>\n",
              "    </tr>\n",
              "    <tr>\n",
              "      <th>epoch</th>\n",
              "      <th></th>\n",
              "      <th></th>\n",
              "      <th></th>\n",
              "      <th></th>\n",
              "    </tr>\n",
              "  </thead>\n",
              "  <tbody>\n",
              "    <tr>\n",
              "      <th>0</th>\n",
              "      <td>0.855875</td>\n",
              "      <td>0.422626</td>\n",
              "      <td>0.8315</td>\n",
              "      <td>0.479880</td>\n",
              "    </tr>\n",
              "    <tr>\n",
              "      <th>1</th>\n",
              "      <td>0.857750</td>\n",
              "      <td>0.418176</td>\n",
              "      <td>0.8255</td>\n",
              "      <td>0.492291</td>\n",
              "    </tr>\n",
              "    <tr>\n",
              "      <th>2</th>\n",
              "      <td>0.862750</td>\n",
              "      <td>0.413203</td>\n",
              "      <td>0.8375</td>\n",
              "      <td>0.476654</td>\n",
              "    </tr>\n",
              "    <tr>\n",
              "      <th>3</th>\n",
              "      <td>0.858750</td>\n",
              "      <td>0.408651</td>\n",
              "      <td>0.8365</td>\n",
              "      <td>0.467431</td>\n",
              "    </tr>\n",
              "    <tr>\n",
              "      <th>4</th>\n",
              "      <td>0.862875</td>\n",
              "      <td>0.403476</td>\n",
              "      <td>0.8130</td>\n",
              "      <td>0.502654</td>\n",
              "    </tr>\n",
              "    <tr>\n",
              "      <th>5</th>\n",
              "      <td>0.865875</td>\n",
              "      <td>0.397972</td>\n",
              "      <td>0.8420</td>\n",
              "      <td>0.455667</td>\n",
              "    </tr>\n",
              "    <tr>\n",
              "      <th>6</th>\n",
              "      <td>0.868125</td>\n",
              "      <td>0.396842</td>\n",
              "      <td>0.8405</td>\n",
              "      <td>0.456503</td>\n",
              "    </tr>\n",
              "    <tr>\n",
              "      <th>7</th>\n",
              "      <td>0.866750</td>\n",
              "      <td>0.390097</td>\n",
              "      <td>0.8355</td>\n",
              "      <td>0.457951</td>\n",
              "    </tr>\n",
              "    <tr>\n",
              "      <th>8</th>\n",
              "      <td>0.867750</td>\n",
              "      <td>0.388576</td>\n",
              "      <td>0.8340</td>\n",
              "      <td>0.467577</td>\n",
              "    </tr>\n",
              "    <tr>\n",
              "      <th>9</th>\n",
              "      <td>0.869750</td>\n",
              "      <td>0.382808</td>\n",
              "      <td>0.8410</td>\n",
              "      <td>0.459413</td>\n",
              "    </tr>\n",
              "  </tbody>\n",
              "</table>\n",
              "</div>"
            ],
            "text/plain": [
              "       accuracy      loss  val_accuracy  val_loss\n",
              "epoch                                            \n",
              "0      0.855875  0.422626        0.8315  0.479880\n",
              "1      0.857750  0.418176        0.8255  0.492291\n",
              "2      0.862750  0.413203        0.8375  0.476654\n",
              "3      0.858750  0.408651        0.8365  0.467431\n",
              "4      0.862875  0.403476        0.8130  0.502654\n",
              "5      0.865875  0.397972        0.8420  0.455667\n",
              "6      0.868125  0.396842        0.8405  0.456503\n",
              "7      0.866750  0.390097        0.8355  0.457951\n",
              "8      0.867750  0.388576        0.8340  0.467577\n",
              "9      0.869750  0.382808        0.8410  0.459413"
            ]
          },
          "metadata": {},
          "execution_count": 31
        }
      ]
    },
    {
      "cell_type": "markdown",
      "metadata": {
        "id": "GUhU5g6pu1LJ"
      },
      "source": [
        "Além do argumento obrigatório `filename`, as outras duas opções são:\n",
        "- **`separator`**: string usada para separar elementos no arquivo CSV e, - **`append`**: é booleano e o padrão é `False`.\n",
        " - `True`: serve para anexar se o arquivo existir (útil para continuar o treinamento). \n",
        "  - `False`: substituir arquivo existente."
      ]
    },
    {
      "cell_type": "markdown",
      "metadata": {
        "id": "mrvW-ODouW4w"
      },
      "source": [
        "#### **5.3. ModelCheckpoint**"
      ]
    },
    {
      "cell_type": "markdown",
      "metadata": {
        "id": "HP2pchiUvk89"
      },
      "source": [
        "`ModelCheckpoint` é um retorno de chamada para salvar o modelo **Keras** ou o peso do modelo durante o treinamento, para que o modelo ou os pesos possam ser carregados posteriormente para continuar o treinamento a partir do estado salvo.\n",
        "\n",
        "Primeiro, vamos importá-lo e criar um objeto com o _ModelCheckpoint_."
      ]
    },
    {
      "cell_type": "code",
      "metadata": {
        "id": "2iqrGpJAlFeG"
      },
      "source": [
        "# importando a função\n",
        "from tensorflow.keras.callbacks import ModelCheckpoint"
      ],
      "execution_count": null,
      "outputs": []
    },
    {
      "cell_type": "code",
      "metadata": {
        "id": "H8-9SbcElFbe"
      },
      "source": [
        "# instanciando um \"checkpoint\"\n",
        "checkpoint_path = 'model_checkpoints/'"
      ],
      "execution_count": null,
      "outputs": []
    },
    {
      "cell_type": "code",
      "metadata": {
        "id": "DPFkktoplFZQ"
      },
      "source": [
        "# criando um objeto com a função importada e definindo o ponto de checagem com o objeto \"checkpoint_path\"\n",
        "checkpoint = ModelCheckpoint(\n",
        "    filepath=checkpoint_path,\n",
        "    save_freq='epoch',\n",
        "    save_weights_only=True,\n",
        "    verbose=1\n",
        ")"
      ],
      "execution_count": null,
      "outputs": []
    },
    {
      "cell_type": "code",
      "metadata": {
        "id": "B0cH1oePlFWh"
      },
      "source": [
        "# criando o modelo para o treinamento\n",
        "model = create_model()"
      ],
      "execution_count": null,
      "outputs": []
    },
    {
      "cell_type": "code",
      "metadata": {
        "colab": {
          "base_uri": "https://localhost:8080/"
        },
        "id": "YDorXqkklFUR",
        "outputId": "06d62c86-da8f-482c-b790-82ac93699077"
      },
      "source": [
        "# treinando o modelo\n",
        "history_checkpoint = model.fit(\n",
        "    X_train,\n",
        "    y_train,\n",
        "    epochs=5,\n",
        "    validation_split=0.20,\n",
        "    batch_size=64,\n",
        "    verbose=2,\n",
        "    callbacks=[checkpoint]\n",
        ")"
      ],
      "execution_count": null,
      "outputs": [
        {
          "output_type": "stream",
          "name": "stdout",
          "text": [
            "Epoch 1/5\n",
            "125/125 - 1s - loss: 0.5113 - accuracy: 0.8295 - val_loss: 0.5483 - val_accuracy: 0.8110\n",
            "\n",
            "Epoch 00001: saving model to model_checkpoints/\n",
            "Epoch 2/5\n",
            "125/125 - 1s - loss: 0.4977 - accuracy: 0.8338 - val_loss: 0.5654 - val_accuracy: 0.7970\n",
            "\n",
            "Epoch 00002: saving model to model_checkpoints/\n",
            "Epoch 3/5\n",
            "125/125 - 1s - loss: 0.4917 - accuracy: 0.8339 - val_loss: 0.5236 - val_accuracy: 0.8210\n",
            "\n",
            "Epoch 00003: saving model to model_checkpoints/\n",
            "Epoch 4/5\n",
            "125/125 - 1s - loss: 0.4767 - accuracy: 0.8399 - val_loss: 0.5227 - val_accuracy: 0.8175\n",
            "\n",
            "Epoch 00004: saving model to model_checkpoints/\n",
            "Epoch 5/5\n",
            "125/125 - 1s - loss: 0.4702 - accuracy: 0.8421 - val_loss: 0.5152 - val_accuracy: 0.8190\n",
            "\n",
            "Epoch 00005: saving model to model_checkpoints/\n"
          ]
        }
      ]
    },
    {
      "cell_type": "code",
      "metadata": {
        "colab": {
          "base_uri": "https://localhost:8080/"
        },
        "id": "YwmstoY7lFSh",
        "outputId": "d086189e-c078-41aa-f140-822bdce93805"
      },
      "source": [
        "# visualizando as métricas - acurácia e perda\n",
        "get_test_accuracy(model, X_test, y_test)"
      ],
      "execution_count": null,
      "outputs": [
        {
          "output_type": "stream",
          "name": "stdout",
          "text": [
            "accuracy: 0.781\n",
            "loss: 84.321\n"
          ]
        }
      ]
    },
    {
      "cell_type": "markdown",
      "metadata": {
        "id": "uGcP48uTy67T"
      },
      "source": [
        "Vamos criar um novo modelo como `new_model` para demonstrar como funcionam os pesos de carregamento. E executando `get_test_accuracy(new_model, X_test, y_test)`, obtemos a precisão do teste de **0,086** para um modelo sem carregar nenhum peso treinado."
      ]
    },
    {
      "cell_type": "markdown",
      "metadata": {
        "id": "Fik56zWvzQjR"
      },
      "source": [
        "##### **5.3.1. Criando um novo modelo e carregando os pesos**"
      ]
    },
    {
      "cell_type": "code",
      "metadata": {
        "id": "P4P7gSQYlFQX"
      },
      "source": [
        "# criando um novo modelo\n",
        "new_model = create_model()"
      ],
      "execution_count": null,
      "outputs": []
    },
    {
      "cell_type": "code",
      "metadata": {
        "colab": {
          "base_uri": "https://localhost:8080/"
        },
        "id": "hfwsZrUelFOj",
        "outputId": "a8f1ce89-917d-4585-9751-506d0bbe2232"
      },
      "source": [
        "# avaliando o modelo sem carregar os pesos\n",
        "get_test_accuracy(new_model, X_test, y_test)"
      ],
      "execution_count": null,
      "outputs": [
        {
          "output_type": "stream",
          "name": "stdout",
          "text": [
            "accuracy: 0.077\n",
            "loss: 166.999\n"
          ]
        }
      ]
    },
    {
      "cell_type": "code",
      "metadata": {
        "colab": {
          "base_uri": "https://localhost:8080/"
        },
        "id": "bcSruKTtlFNL",
        "outputId": "861fa2e1-29b8-4e4f-ac5d-3986b2818341"
      },
      "source": [
        "# carregando os pesos\n",
        "new_model.load_weights('model_checkpoints/')"
      ],
      "execution_count": null,
      "outputs": [
        {
          "output_type": "execute_result",
          "data": {
            "text/plain": [
              "<tensorflow.python.training.tracking.util.CheckpointLoadStatus at 0x7f2e77c4ec10>"
            ]
          },
          "metadata": {},
          "execution_count": 46
        }
      ]
    },
    {
      "cell_type": "code",
      "metadata": {
        "colab": {
          "base_uri": "https://localhost:8080/"
        },
        "id": "Ns-hQQRRlFKr",
        "outputId": "146f07e6-5220-484f-fbe6-0ba98b233a77"
      },
      "source": [
        "# agora teste-o e a precisão deve ser a mesma de antes\n",
        "get_test_accuracy(new_model, X_test, y_test)"
      ],
      "execution_count": null,
      "outputs": [
        {
          "output_type": "stream",
          "name": "stdout",
          "text": [
            "accuracy: 0.781\n",
            "loss: 84.321\n"
          ]
        }
      ]
    },
    {
      "cell_type": "markdown",
      "metadata": {
        "id": "SQKFsR1d0hp5"
      },
      "source": [
        "Os argumentos comumente usados ​​que você deve saber ao usar `ModelCheckpointcallback`, são eles:\n",
        "\n",
        "- **`filepath´**: string ou `PathLike`, o caminho para salvar o arquivo de modelo. \n",
        " - `filepathpode` conter opções de formatação nomeadas, por exemplo, se `filepath` for `weights.{epoch:02d}-{val_loss:.2f}`, os pontos de verificação do modelo serão salvos com o número da época e a perda de validação no nome do arquivo;\n",
        "- **`save_freq`**: `'epoch'` ou inteiro. Ao usar `'epoch'`, o retorno de chamada salva o modelo após cada época. Ao usar o número inteiro, o retorno de chamada salva o modelo no final de muitos lotes e,\n",
        "- **`save_weights_only`**: se `True`, então, apenas os pesos do modelo serão salvos (`model.save_weights(filepath)`), caso contrário, o modelo completo será salvo (`model.save(filepath)`)."
      ]
    },
    {
      "cell_type": "markdown",
      "metadata": {
        "id": "7CLCEhuU1sD2"
      },
      "source": [
        "#### **5.4. ReduceLROnPlateau**"
      ]
    },
    {
      "cell_type": "markdown",
      "metadata": {
        "id": "z7jkc0R_2DZp"
      },
      "source": [
        "`ReduceLROnPlateau` é um retorno de chamada para reduzir a taxa de aprendizado quando uma métrica para de melhorar. Esse retorno de chamada monitora uma quantidade e, se nenhuma melhoria for observada por patiencevárias épocas, a taxa de aprendizado será reduzida por um valor de `factor` (`new_lr = lr * factor`). Vamos ver como isso funciona com a ajuda de um exemplo.\n",
        "\n",
        "Primeiro, vamos importá-lo e criar um objeto com o `ReduceLROnPlateau`."
      ]
    },
    {
      "cell_type": "code",
      "metadata": {
        "id": "XN1TK9TVlFGu"
      },
      "source": [
        "# importando a função\n",
        "from tensorflow.keras.callbacks import ReduceLROnPlateau"
      ],
      "execution_count": null,
      "outputs": []
    },
    {
      "cell_type": "code",
      "metadata": {
        "id": "h699rANwlFEO"
      },
      "source": [
        "# criando um objeto com a função e instanciando os parâmetros\n",
        "reduce_lr = ReduceLROnPlateau(\n",
        "    monitor='val_loss',\n",
        "    factor=0.2,\n",
        "    patience=2,\n",
        "    min_lr=0.001,\n",
        "    verbose=2\n",
        ")"
      ],
      "execution_count": null,
      "outputs": []
    },
    {
      "cell_type": "code",
      "metadata": {
        "id": "vP5ckL2SlFBt"
      },
      "source": [
        "# criando um modelo\n",
        "model = create_model()"
      ],
      "execution_count": null,
      "outputs": []
    },
    {
      "cell_type": "code",
      "metadata": {
        "colab": {
          "base_uri": "https://localhost:8080/"
        },
        "id": "sahcy4lH1eeq",
        "outputId": "c35e0b17-4051-41d1-b813-dc929bc20e1d"
      },
      "source": [
        "# treinando o modelo\n",
        "history_reduce_lr = model.fit(\n",
        "    X_train,\n",
        "    y_train,\n",
        "    epochs=50,\n",
        "    validation_split=0.20,\n",
        "    batch_size=64,\n",
        "    verbose=2,\n",
        "    callbacks=[reduce_lr]\n",
        ")"
      ],
      "execution_count": null,
      "outputs": [
        {
          "output_type": "stream",
          "name": "stdout",
          "text": [
            "Epoch 1/50\n",
            "125/125 - 1s - loss: 1.6291 - accuracy: 0.5253 - val_loss: 1.1639 - val_accuracy: 0.6525\n",
            "Epoch 2/50\n",
            "125/125 - 1s - loss: 0.9673 - accuracy: 0.6976 - val_loss: 0.8821 - val_accuracy: 0.7260\n",
            "Epoch 3/50\n",
            "125/125 - 1s - loss: 0.7910 - accuracy: 0.7408 - val_loss: 0.7717 - val_accuracy: 0.7425\n",
            "Epoch 4/50\n",
            "125/125 - 1s - loss: 0.7116 - accuracy: 0.7654 - val_loss: 0.7067 - val_accuracy: 0.7665\n",
            "Epoch 5/50\n",
            "125/125 - 1s - loss: 0.6598 - accuracy: 0.7795 - val_loss: 0.6646 - val_accuracy: 0.7760\n",
            "Epoch 6/50\n",
            "125/125 - 1s - loss: 0.6243 - accuracy: 0.7937 - val_loss: 0.6377 - val_accuracy: 0.7760\n",
            "Epoch 7/50\n",
            "125/125 - 1s - loss: 0.5938 - accuracy: 0.8025 - val_loss: 0.6064 - val_accuracy: 0.7930\n",
            "Epoch 8/50\n",
            "125/125 - 1s - loss: 0.5700 - accuracy: 0.8101 - val_loss: 0.5943 - val_accuracy: 0.7920\n",
            "Epoch 9/50\n",
            "125/125 - 1s - loss: 0.5485 - accuracy: 0.8169 - val_loss: 0.5920 - val_accuracy: 0.7960\n",
            "Epoch 10/50\n",
            "125/125 - 1s - loss: 0.5326 - accuracy: 0.8223 - val_loss: 0.5693 - val_accuracy: 0.8020\n",
            "Epoch 11/50\n",
            "125/125 - 1s - loss: 0.5206 - accuracy: 0.8227 - val_loss: 0.5551 - val_accuracy: 0.8065\n",
            "Epoch 12/50\n",
            "125/125 - 1s - loss: 0.5093 - accuracy: 0.8316 - val_loss: 0.5377 - val_accuracy: 0.8165\n",
            "Epoch 13/50\n",
            "125/125 - 1s - loss: 0.4955 - accuracy: 0.8322 - val_loss: 0.5276 - val_accuracy: 0.8165\n",
            "Epoch 14/50\n",
            "125/125 - 1s - loss: 0.4865 - accuracy: 0.8370 - val_loss: 0.5293 - val_accuracy: 0.8165\n",
            "Epoch 15/50\n",
            "125/125 - 0s - loss: 0.4782 - accuracy: 0.8395 - val_loss: 0.5116 - val_accuracy: 0.8235\n",
            "Epoch 16/50\n",
            "125/125 - 1s - loss: 0.4671 - accuracy: 0.8440 - val_loss: 0.5125 - val_accuracy: 0.8220\n",
            "Epoch 17/50\n",
            "125/125 - 1s - loss: 0.4613 - accuracy: 0.8445 - val_loss: 0.5128 - val_accuracy: 0.8195\n",
            "\n",
            "Epoch 00017: ReduceLROnPlateau reducing learning rate to 0.0019999999552965165.\n",
            "Epoch 18/50\n",
            "125/125 - 1s - loss: 0.4453 - accuracy: 0.8518 - val_loss: 0.4947 - val_accuracy: 0.8315\n",
            "Epoch 19/50\n",
            "125/125 - 1s - loss: 0.4435 - accuracy: 0.8533 - val_loss: 0.4945 - val_accuracy: 0.8295\n",
            "Epoch 20/50\n",
            "125/125 - 1s - loss: 0.4418 - accuracy: 0.8535 - val_loss: 0.4915 - val_accuracy: 0.8340\n",
            "Epoch 21/50\n",
            "125/125 - 1s - loss: 0.4401 - accuracy: 0.8555 - val_loss: 0.4928 - val_accuracy: 0.8345\n",
            "Epoch 22/50\n",
            "125/125 - 1s - loss: 0.4388 - accuracy: 0.8539 - val_loss: 0.4913 - val_accuracy: 0.8320\n",
            "Epoch 23/50\n",
            "125/125 - 1s - loss: 0.4372 - accuracy: 0.8569 - val_loss: 0.4933 - val_accuracy: 0.8280\n",
            "Epoch 24/50\n",
            "125/125 - 1s - loss: 0.4361 - accuracy: 0.8565 - val_loss: 0.4912 - val_accuracy: 0.8295\n",
            "Epoch 25/50\n",
            "125/125 - 1s - loss: 0.4348 - accuracy: 0.8556 - val_loss: 0.4889 - val_accuracy: 0.8340\n",
            "Epoch 26/50\n",
            "125/125 - 1s - loss: 0.4336 - accuracy: 0.8571 - val_loss: 0.4865 - val_accuracy: 0.8335\n",
            "Epoch 27/50\n",
            "125/125 - 1s - loss: 0.4318 - accuracy: 0.8580 - val_loss: 0.4903 - val_accuracy: 0.8310\n",
            "Epoch 28/50\n",
            "125/125 - 1s - loss: 0.4311 - accuracy: 0.8560 - val_loss: 0.4838 - val_accuracy: 0.8360\n",
            "Epoch 29/50\n",
            "125/125 - 1s - loss: 0.4297 - accuracy: 0.8569 - val_loss: 0.4850 - val_accuracy: 0.8365\n",
            "Epoch 30/50\n",
            "125/125 - 1s - loss: 0.4286 - accuracy: 0.8559 - val_loss: 0.4838 - val_accuracy: 0.8330\n",
            "\n",
            "Epoch 00030: ReduceLROnPlateau reducing learning rate to 0.001.\n",
            "Epoch 31/50\n",
            "125/125 - 1s - loss: 0.4264 - accuracy: 0.8593 - val_loss: 0.4816 - val_accuracy: 0.8375\n",
            "Epoch 32/50\n",
            "125/125 - 1s - loss: 0.4256 - accuracy: 0.8596 - val_loss: 0.4809 - val_accuracy: 0.8380\n",
            "Epoch 33/50\n",
            "125/125 - 1s - loss: 0.4249 - accuracy: 0.8591 - val_loss: 0.4813 - val_accuracy: 0.8365\n",
            "Epoch 34/50\n",
            "125/125 - 1s - loss: 0.4245 - accuracy: 0.8601 - val_loss: 0.4808 - val_accuracy: 0.8355\n",
            "Epoch 35/50\n",
            "125/125 - 1s - loss: 0.4238 - accuracy: 0.8599 - val_loss: 0.4821 - val_accuracy: 0.8340\n",
            "Epoch 36/50\n",
            "125/125 - 1s - loss: 0.4235 - accuracy: 0.8590 - val_loss: 0.4786 - val_accuracy: 0.8380\n",
            "Epoch 37/50\n",
            "125/125 - 1s - loss: 0.4226 - accuracy: 0.8596 - val_loss: 0.4790 - val_accuracy: 0.8385\n",
            "Epoch 38/50\n",
            "125/125 - 1s - loss: 0.4222 - accuracy: 0.8593 - val_loss: 0.4797 - val_accuracy: 0.8380\n",
            "Epoch 39/50\n",
            "125/125 - 0s - loss: 0.4212 - accuracy: 0.8599 - val_loss: 0.4806 - val_accuracy: 0.8350\n",
            "Epoch 40/50\n",
            "125/125 - 1s - loss: 0.4208 - accuracy: 0.8593 - val_loss: 0.4787 - val_accuracy: 0.8375\n",
            "Epoch 41/50\n",
            "125/125 - 1s - loss: 0.4205 - accuracy: 0.8604 - val_loss: 0.4780 - val_accuracy: 0.8390\n",
            "Epoch 42/50\n",
            "125/125 - 1s - loss: 0.4198 - accuracy: 0.8609 - val_loss: 0.4782 - val_accuracy: 0.8360\n",
            "Epoch 43/50\n",
            "125/125 - 1s - loss: 0.4192 - accuracy: 0.8604 - val_loss: 0.4770 - val_accuracy: 0.8385\n",
            "Epoch 44/50\n",
            "125/125 - 1s - loss: 0.4185 - accuracy: 0.8615 - val_loss: 0.4766 - val_accuracy: 0.8380\n",
            "Epoch 45/50\n",
            "125/125 - 1s - loss: 0.4183 - accuracy: 0.8620 - val_loss: 0.4769 - val_accuracy: 0.8365\n",
            "Epoch 46/50\n",
            "125/125 - 1s - loss: 0.4176 - accuracy: 0.8609 - val_loss: 0.4761 - val_accuracy: 0.8370\n",
            "Epoch 47/50\n",
            "125/125 - 1s - loss: 0.4174 - accuracy: 0.8618 - val_loss: 0.4758 - val_accuracy: 0.8380\n",
            "Epoch 48/50\n",
            "125/125 - 1s - loss: 0.4162 - accuracy: 0.8622 - val_loss: 0.4750 - val_accuracy: 0.8380\n",
            "Epoch 49/50\n",
            "125/125 - 1s - loss: 0.4161 - accuracy: 0.8615 - val_loss: 0.4739 - val_accuracy: 0.8390\n",
            "Epoch 50/50\n",
            "125/125 - 1s - loss: 0.4153 - accuracy: 0.8615 - val_loss: 0.4732 - val_accuracy: 0.8375\n"
          ]
        }
      ]
    },
    {
      "cell_type": "markdown",
      "metadata": {
        "id": "ZYlz1La54e7j"
      },
      "source": [
        "Vamos representar graficamente a taxa de aprendizagem e a perda para obter uma imagem clara."
      ]
    },
    {
      "cell_type": "code",
      "metadata": {
        "colab": {
          "base_uri": "https://localhost:8080/",
          "height": 391
        },
        "id": "CWthPskU3adZ",
        "outputId": "72d64d33-f14e-4b7a-adb2-c92a808e2b22"
      },
      "source": [
        "# visualizando o histórico da taxa de aprendizagem\n",
        "plot_learning_rate(history_reduce_lr)"
      ],
      "execution_count": null,
      "outputs": [
        {
          "output_type": "display_data",
          "data": {
            "text/plain": [
              "<Figure size 432x288 with 1 Axes>"
            ],
            "image/svg+xml": "<?xml version=\"1.0\" encoding=\"utf-8\" standalone=\"no\"?>\n<!DOCTYPE svg PUBLIC \"-//W3C//DTD SVG 1.1//EN\"\n  \"http://www.w3.org/Graphics/SVG/1.1/DTD/svg11.dtd\">\n<!-- Created with matplotlib (https://matplotlib.org/) -->\n<svg height=\"277.314375pt\" version=\"1.1\" viewBox=\"0 0 398.50625 277.314375\" width=\"398.50625pt\" xmlns=\"http://www.w3.org/2000/svg\" xmlns:xlink=\"http://www.w3.org/1999/xlink\">\n <defs>\n  <style type=\"text/css\">\n*{stroke-linecap:butt;stroke-linejoin:round;}\n  </style>\n </defs>\n <g id=\"figure_1\">\n  <g id=\"patch_1\">\n   <path d=\"M 0 277.314375 \nL 398.50625 277.314375 \nL 398.50625 0 \nL 0 0 \nz\n\" style=\"fill:none;\"/>\n  </g>\n  <g id=\"axes_1\">\n   <g id=\"patch_2\">\n    <path d=\"M 56.50625 239.758125 \nL 391.30625 239.758125 \nL 391.30625 22.318125 \nL 56.50625 22.318125 \nz\n\" style=\"fill:#ffffff;\"/>\n   </g>\n   <g id=\"matplotlib.axis_1\">\n    <g id=\"xtick_1\">\n     <g id=\"line2d_1\">\n      <defs>\n       <path d=\"M 0 0 \nL 0 3.5 \n\" id=\"m0460595115\" style=\"stroke:#000000;stroke-width:0.8;\"/>\n      </defs>\n      <g>\n       <use style=\"stroke:#000000;stroke-width:0.8;\" x=\"65.512929\" xlink:href=\"#m0460595115\" y=\"239.758125\"/>\n      </g>\n     </g>\n     <g id=\"text_1\">\n      <!-- 0 -->\n      <defs>\n       <path d=\"M 31.78125 66.40625 \nQ 24.171875 66.40625 20.328125 58.90625 \nQ 16.5 51.421875 16.5 36.375 \nQ 16.5 21.390625 20.328125 13.890625 \nQ 24.171875 6.390625 31.78125 6.390625 \nQ 39.453125 6.390625 43.28125 13.890625 \nQ 47.125 21.390625 47.125 36.375 \nQ 47.125 51.421875 43.28125 58.90625 \nQ 39.453125 66.40625 31.78125 66.40625 \nz\nM 31.78125 74.21875 \nQ 44.046875 74.21875 50.515625 64.515625 \nQ 56.984375 54.828125 56.984375 36.375 \nQ 56.984375 17.96875 50.515625 8.265625 \nQ 44.046875 -1.421875 31.78125 -1.421875 \nQ 19.53125 -1.421875 13.0625 8.265625 \nQ 6.59375 17.96875 6.59375 36.375 \nQ 6.59375 54.828125 13.0625 64.515625 \nQ 19.53125 74.21875 31.78125 74.21875 \nz\n\" id=\"DejaVuSans-48\"/>\n      </defs>\n      <g transform=\"translate(62.331679 254.356562)scale(0.1 -0.1)\">\n       <use xlink:href=\"#DejaVuSans-48\"/>\n      </g>\n     </g>\n    </g>\n    <g id=\"xtick_2\">\n     <g id=\"line2d_2\">\n      <g>\n       <use style=\"stroke:#000000;stroke-width:0.8;\" x=\"127.627957\" xlink:href=\"#m0460595115\" y=\"239.758125\"/>\n      </g>\n     </g>\n     <g id=\"text_2\">\n      <!-- 10 -->\n      <defs>\n       <path d=\"M 12.40625 8.296875 \nL 28.515625 8.296875 \nL 28.515625 63.921875 \nL 10.984375 60.40625 \nL 10.984375 69.390625 \nL 28.421875 72.90625 \nL 38.28125 72.90625 \nL 38.28125 8.296875 \nL 54.390625 8.296875 \nL 54.390625 0 \nL 12.40625 0 \nz\n\" id=\"DejaVuSans-49\"/>\n      </defs>\n      <g transform=\"translate(121.265457 254.356562)scale(0.1 -0.1)\">\n       <use xlink:href=\"#DejaVuSans-49\"/>\n       <use x=\"63.623047\" xlink:href=\"#DejaVuSans-48\"/>\n      </g>\n     </g>\n    </g>\n    <g id=\"xtick_3\">\n     <g id=\"line2d_3\">\n      <g>\n       <use style=\"stroke:#000000;stroke-width:0.8;\" x=\"189.742985\" xlink:href=\"#m0460595115\" y=\"239.758125\"/>\n      </g>\n     </g>\n     <g id=\"text_3\">\n      <!-- 20 -->\n      <defs>\n       <path d=\"M 19.1875 8.296875 \nL 53.609375 8.296875 \nL 53.609375 0 \nL 7.328125 0 \nL 7.328125 8.296875 \nQ 12.9375 14.109375 22.625 23.890625 \nQ 32.328125 33.6875 34.8125 36.53125 \nQ 39.546875 41.84375 41.421875 45.53125 \nQ 43.3125 49.21875 43.3125 52.78125 \nQ 43.3125 58.59375 39.234375 62.25 \nQ 35.15625 65.921875 28.609375 65.921875 \nQ 23.96875 65.921875 18.8125 64.3125 \nQ 13.671875 62.703125 7.8125 59.421875 \nL 7.8125 69.390625 \nQ 13.765625 71.78125 18.9375 73 \nQ 24.125 74.21875 28.421875 74.21875 \nQ 39.75 74.21875 46.484375 68.546875 \nQ 53.21875 62.890625 53.21875 53.421875 \nQ 53.21875 48.921875 51.53125 44.890625 \nQ 49.859375 40.875 45.40625 35.40625 \nQ 44.1875 33.984375 37.640625 27.21875 \nQ 31.109375 20.453125 19.1875 8.296875 \nz\n\" id=\"DejaVuSans-50\"/>\n      </defs>\n      <g transform=\"translate(183.380485 254.356562)scale(0.1 -0.1)\">\n       <use xlink:href=\"#DejaVuSans-50\"/>\n       <use x=\"63.623047\" xlink:href=\"#DejaVuSans-48\"/>\n      </g>\n     </g>\n    </g>\n    <g id=\"xtick_4\">\n     <g id=\"line2d_4\">\n      <g>\n       <use style=\"stroke:#000000;stroke-width:0.8;\" x=\"251.858013\" xlink:href=\"#m0460595115\" y=\"239.758125\"/>\n      </g>\n     </g>\n     <g id=\"text_4\">\n      <!-- 30 -->\n      <defs>\n       <path d=\"M 40.578125 39.3125 \nQ 47.65625 37.796875 51.625 33 \nQ 55.609375 28.21875 55.609375 21.1875 \nQ 55.609375 10.40625 48.1875 4.484375 \nQ 40.765625 -1.421875 27.09375 -1.421875 \nQ 22.515625 -1.421875 17.65625 -0.515625 \nQ 12.796875 0.390625 7.625 2.203125 \nL 7.625 11.71875 \nQ 11.71875 9.328125 16.59375 8.109375 \nQ 21.484375 6.890625 26.8125 6.890625 \nQ 36.078125 6.890625 40.9375 10.546875 \nQ 45.796875 14.203125 45.796875 21.1875 \nQ 45.796875 27.640625 41.28125 31.265625 \nQ 36.765625 34.90625 28.71875 34.90625 \nL 20.21875 34.90625 \nL 20.21875 43.015625 \nL 29.109375 43.015625 \nQ 36.375 43.015625 40.234375 45.921875 \nQ 44.09375 48.828125 44.09375 54.296875 \nQ 44.09375 59.90625 40.109375 62.90625 \nQ 36.140625 65.921875 28.71875 65.921875 \nQ 24.65625 65.921875 20.015625 65.03125 \nQ 15.375 64.15625 9.8125 62.3125 \nL 9.8125 71.09375 \nQ 15.4375 72.65625 20.34375 73.4375 \nQ 25.25 74.21875 29.59375 74.21875 \nQ 40.828125 74.21875 47.359375 69.109375 \nQ 53.90625 64.015625 53.90625 55.328125 \nQ 53.90625 49.265625 50.4375 45.09375 \nQ 46.96875 40.921875 40.578125 39.3125 \nz\n\" id=\"DejaVuSans-51\"/>\n      </defs>\n      <g transform=\"translate(245.495513 254.356562)scale(0.1 -0.1)\">\n       <use xlink:href=\"#DejaVuSans-51\"/>\n       <use x=\"63.623047\" xlink:href=\"#DejaVuSans-48\"/>\n      </g>\n     </g>\n    </g>\n    <g id=\"xtick_5\">\n     <g id=\"line2d_5\">\n      <g>\n       <use style=\"stroke:#000000;stroke-width:0.8;\" x=\"313.97304\" xlink:href=\"#m0460595115\" y=\"239.758125\"/>\n      </g>\n     </g>\n     <g id=\"text_5\">\n      <!-- 40 -->\n      <defs>\n       <path d=\"M 37.796875 64.3125 \nL 12.890625 25.390625 \nL 37.796875 25.390625 \nz\nM 35.203125 72.90625 \nL 47.609375 72.90625 \nL 47.609375 25.390625 \nL 58.015625 25.390625 \nL 58.015625 17.1875 \nL 47.609375 17.1875 \nL 47.609375 0 \nL 37.796875 0 \nL 37.796875 17.1875 \nL 4.890625 17.1875 \nL 4.890625 26.703125 \nz\n\" id=\"DejaVuSans-52\"/>\n      </defs>\n      <g transform=\"translate(307.61054 254.356562)scale(0.1 -0.1)\">\n       <use xlink:href=\"#DejaVuSans-52\"/>\n       <use x=\"63.623047\" xlink:href=\"#DejaVuSans-48\"/>\n      </g>\n     </g>\n    </g>\n    <g id=\"xtick_6\">\n     <g id=\"line2d_6\">\n      <g>\n       <use style=\"stroke:#000000;stroke-width:0.8;\" x=\"376.088068\" xlink:href=\"#m0460595115\" y=\"239.758125\"/>\n      </g>\n     </g>\n     <g id=\"text_6\">\n      <!-- 50 -->\n      <defs>\n       <path d=\"M 10.796875 72.90625 \nL 49.515625 72.90625 \nL 49.515625 64.59375 \nL 19.828125 64.59375 \nL 19.828125 46.734375 \nQ 21.96875 47.46875 24.109375 47.828125 \nQ 26.265625 48.1875 28.421875 48.1875 \nQ 40.625 48.1875 47.75 41.5 \nQ 54.890625 34.8125 54.890625 23.390625 \nQ 54.890625 11.625 47.5625 5.09375 \nQ 40.234375 -1.421875 26.90625 -1.421875 \nQ 22.3125 -1.421875 17.546875 -0.640625 \nQ 12.796875 0.140625 7.71875 1.703125 \nL 7.71875 11.625 \nQ 12.109375 9.234375 16.796875 8.0625 \nQ 21.484375 6.890625 26.703125 6.890625 \nQ 35.15625 6.890625 40.078125 11.328125 \nQ 45.015625 15.765625 45.015625 23.390625 \nQ 45.015625 31 40.078125 35.4375 \nQ 35.15625 39.890625 26.703125 39.890625 \nQ 22.75 39.890625 18.8125 39.015625 \nQ 14.890625 38.140625 10.796875 36.28125 \nz\n\" id=\"DejaVuSans-53\"/>\n      </defs>\n      <g transform=\"translate(369.725568 254.356562)scale(0.1 -0.1)\">\n       <use xlink:href=\"#DejaVuSans-53\"/>\n       <use x=\"63.623047\" xlink:href=\"#DejaVuSans-48\"/>\n      </g>\n     </g>\n    </g>\n    <g id=\"text_7\">\n     <!-- Epochs -->\n     <defs>\n      <path d=\"M 9.8125 72.90625 \nL 55.90625 72.90625 \nL 55.90625 64.59375 \nL 19.671875 64.59375 \nL 19.671875 43.015625 \nL 54.390625 43.015625 \nL 54.390625 34.71875 \nL 19.671875 34.71875 \nL 19.671875 8.296875 \nL 56.78125 8.296875 \nL 56.78125 0 \nL 9.8125 0 \nz\n\" id=\"DejaVuSans-69\"/>\n      <path d=\"M 18.109375 8.203125 \nL 18.109375 -20.796875 \nL 9.078125 -20.796875 \nL 9.078125 54.6875 \nL 18.109375 54.6875 \nL 18.109375 46.390625 \nQ 20.953125 51.265625 25.265625 53.625 \nQ 29.59375 56 35.59375 56 \nQ 45.5625 56 51.78125 48.09375 \nQ 58.015625 40.1875 58.015625 27.296875 \nQ 58.015625 14.40625 51.78125 6.484375 \nQ 45.5625 -1.421875 35.59375 -1.421875 \nQ 29.59375 -1.421875 25.265625 0.953125 \nQ 20.953125 3.328125 18.109375 8.203125 \nz\nM 48.6875 27.296875 \nQ 48.6875 37.203125 44.609375 42.84375 \nQ 40.53125 48.484375 33.40625 48.484375 \nQ 26.265625 48.484375 22.1875 42.84375 \nQ 18.109375 37.203125 18.109375 27.296875 \nQ 18.109375 17.390625 22.1875 11.75 \nQ 26.265625 6.109375 33.40625 6.109375 \nQ 40.53125 6.109375 44.609375 11.75 \nQ 48.6875 17.390625 48.6875 27.296875 \nz\n\" id=\"DejaVuSans-112\"/>\n      <path d=\"M 30.609375 48.390625 \nQ 23.390625 48.390625 19.1875 42.75 \nQ 14.984375 37.109375 14.984375 27.296875 \nQ 14.984375 17.484375 19.15625 11.84375 \nQ 23.34375 6.203125 30.609375 6.203125 \nQ 37.796875 6.203125 41.984375 11.859375 \nQ 46.1875 17.53125 46.1875 27.296875 \nQ 46.1875 37.015625 41.984375 42.703125 \nQ 37.796875 48.390625 30.609375 48.390625 \nz\nM 30.609375 56 \nQ 42.328125 56 49.015625 48.375 \nQ 55.71875 40.765625 55.71875 27.296875 \nQ 55.71875 13.875 49.015625 6.21875 \nQ 42.328125 -1.421875 30.609375 -1.421875 \nQ 18.84375 -1.421875 12.171875 6.21875 \nQ 5.515625 13.875 5.515625 27.296875 \nQ 5.515625 40.765625 12.171875 48.375 \nQ 18.84375 56 30.609375 56 \nz\n\" id=\"DejaVuSans-111\"/>\n      <path d=\"M 48.78125 52.59375 \nL 48.78125 44.1875 \nQ 44.96875 46.296875 41.140625 47.34375 \nQ 37.3125 48.390625 33.40625 48.390625 \nQ 24.65625 48.390625 19.8125 42.84375 \nQ 14.984375 37.3125 14.984375 27.296875 \nQ 14.984375 17.28125 19.8125 11.734375 \nQ 24.65625 6.203125 33.40625 6.203125 \nQ 37.3125 6.203125 41.140625 7.25 \nQ 44.96875 8.296875 48.78125 10.40625 \nL 48.78125 2.09375 \nQ 45.015625 0.34375 40.984375 -0.53125 \nQ 36.96875 -1.421875 32.421875 -1.421875 \nQ 20.0625 -1.421875 12.78125 6.34375 \nQ 5.515625 14.109375 5.515625 27.296875 \nQ 5.515625 40.671875 12.859375 48.328125 \nQ 20.21875 56 33.015625 56 \nQ 37.15625 56 41.109375 55.140625 \nQ 45.0625 54.296875 48.78125 52.59375 \nz\n\" id=\"DejaVuSans-99\"/>\n      <path d=\"M 54.890625 33.015625 \nL 54.890625 0 \nL 45.90625 0 \nL 45.90625 32.71875 \nQ 45.90625 40.484375 42.875 44.328125 \nQ 39.84375 48.1875 33.796875 48.1875 \nQ 26.515625 48.1875 22.3125 43.546875 \nQ 18.109375 38.921875 18.109375 30.90625 \nL 18.109375 0 \nL 9.078125 0 \nL 9.078125 75.984375 \nL 18.109375 75.984375 \nL 18.109375 46.1875 \nQ 21.34375 51.125 25.703125 53.5625 \nQ 30.078125 56 35.796875 56 \nQ 45.21875 56 50.046875 50.171875 \nQ 54.890625 44.34375 54.890625 33.015625 \nz\n\" id=\"DejaVuSans-104\"/>\n      <path d=\"M 44.28125 53.078125 \nL 44.28125 44.578125 \nQ 40.484375 46.53125 36.375 47.5 \nQ 32.28125 48.484375 27.875 48.484375 \nQ 21.1875 48.484375 17.84375 46.4375 \nQ 14.5 44.390625 14.5 40.28125 \nQ 14.5 37.15625 16.890625 35.375 \nQ 19.28125 33.59375 26.515625 31.984375 \nL 29.59375 31.296875 \nQ 39.15625 29.25 43.1875 25.515625 \nQ 47.21875 21.78125 47.21875 15.09375 \nQ 47.21875 7.46875 41.1875 3.015625 \nQ 35.15625 -1.421875 24.609375 -1.421875 \nQ 20.21875 -1.421875 15.453125 -0.5625 \nQ 10.6875 0.296875 5.421875 2 \nL 5.421875 11.28125 \nQ 10.40625 8.6875 15.234375 7.390625 \nQ 20.0625 6.109375 24.8125 6.109375 \nQ 31.15625 6.109375 34.5625 8.28125 \nQ 37.984375 10.453125 37.984375 14.40625 \nQ 37.984375 18.0625 35.515625 20.015625 \nQ 33.0625 21.96875 24.703125 23.78125 \nL 21.578125 24.515625 \nQ 13.234375 26.265625 9.515625 29.90625 \nQ 5.8125 33.546875 5.8125 39.890625 \nQ 5.8125 47.609375 11.28125 51.796875 \nQ 16.75 56 26.8125 56 \nQ 31.78125 56 36.171875 55.265625 \nQ 40.578125 54.546875 44.28125 53.078125 \nz\n\" id=\"DejaVuSans-115\"/>\n     </defs>\n     <g transform=\"translate(205.990625 268.034687)scale(0.1 -0.1)\">\n      <use xlink:href=\"#DejaVuSans-69\"/>\n      <use x=\"63.183594\" xlink:href=\"#DejaVuSans-112\"/>\n      <use x=\"126.660156\" xlink:href=\"#DejaVuSans-111\"/>\n      <use x=\"187.841797\" xlink:href=\"#DejaVuSans-99\"/>\n      <use x=\"242.822266\" xlink:href=\"#DejaVuSans-104\"/>\n      <use x=\"306.201172\" xlink:href=\"#DejaVuSans-115\"/>\n     </g>\n    </g>\n   </g>\n   <g id=\"matplotlib.axis_2\">\n    <g id=\"ytick_1\">\n     <g id=\"line2d_7\">\n      <defs>\n       <path d=\"M 0 0 \nL -3.5 0 \n\" id=\"m642b99009d\" style=\"stroke:#000000;stroke-width:0.8;\"/>\n      </defs>\n      <g>\n       <use style=\"stroke:#000000;stroke-width:0.8;\" x=\"56.50625\" xlink:href=\"#m642b99009d\" y=\"207.910853\"/>\n      </g>\n     </g>\n     <g id=\"text_8\">\n      <!-- 0.002 -->\n      <defs>\n       <path d=\"M 10.6875 12.40625 \nL 21 12.40625 \nL 21 0 \nL 10.6875 0 \nz\n\" id=\"DejaVuSans-46\"/>\n      </defs>\n      <g transform=\"translate(20.878125 211.710071)scale(0.1 -0.1)\">\n       <use xlink:href=\"#DejaVuSans-48\"/>\n       <use x=\"63.623047\" xlink:href=\"#DejaVuSans-46\"/>\n       <use x=\"95.410156\" xlink:href=\"#DejaVuSans-48\"/>\n       <use x=\"159.033203\" xlink:href=\"#DejaVuSans-48\"/>\n       <use x=\"222.65625\" xlink:href=\"#DejaVuSans-50\"/>\n      </g>\n     </g>\n    </g>\n    <g id=\"ytick_2\">\n     <g id=\"line2d_8\">\n      <g>\n       <use style=\"stroke:#000000;stroke-width:0.8;\" x=\"56.50625\" xlink:href=\"#m642b99009d\" y=\"163.983579\"/>\n      </g>\n     </g>\n     <g id=\"text_9\">\n      <!-- 0.004 -->\n      <g transform=\"translate(20.878125 167.782797)scale(0.1 -0.1)\">\n       <use xlink:href=\"#DejaVuSans-48\"/>\n       <use x=\"63.623047\" xlink:href=\"#DejaVuSans-46\"/>\n       <use x=\"95.410156\" xlink:href=\"#DejaVuSans-48\"/>\n       <use x=\"159.033203\" xlink:href=\"#DejaVuSans-48\"/>\n       <use x=\"222.65625\" xlink:href=\"#DejaVuSans-52\"/>\n      </g>\n     </g>\n    </g>\n    <g id=\"ytick_3\">\n     <g id=\"line2d_9\">\n      <g>\n       <use style=\"stroke:#000000;stroke-width:0.8;\" x=\"56.50625\" xlink:href=\"#m642b99009d\" y=\"120.056305\"/>\n      </g>\n     </g>\n     <g id=\"text_10\">\n      <!-- 0.006 -->\n      <defs>\n       <path d=\"M 33.015625 40.375 \nQ 26.375 40.375 22.484375 35.828125 \nQ 18.609375 31.296875 18.609375 23.390625 \nQ 18.609375 15.53125 22.484375 10.953125 \nQ 26.375 6.390625 33.015625 6.390625 \nQ 39.65625 6.390625 43.53125 10.953125 \nQ 47.40625 15.53125 47.40625 23.390625 \nQ 47.40625 31.296875 43.53125 35.828125 \nQ 39.65625 40.375 33.015625 40.375 \nz\nM 52.59375 71.296875 \nL 52.59375 62.3125 \nQ 48.875 64.0625 45.09375 64.984375 \nQ 41.3125 65.921875 37.59375 65.921875 \nQ 27.828125 65.921875 22.671875 59.328125 \nQ 17.53125 52.734375 16.796875 39.40625 \nQ 19.671875 43.65625 24.015625 45.921875 \nQ 28.375 48.1875 33.59375 48.1875 \nQ 44.578125 48.1875 50.953125 41.515625 \nQ 57.328125 34.859375 57.328125 23.390625 \nQ 57.328125 12.15625 50.6875 5.359375 \nQ 44.046875 -1.421875 33.015625 -1.421875 \nQ 20.359375 -1.421875 13.671875 8.265625 \nQ 6.984375 17.96875 6.984375 36.375 \nQ 6.984375 53.65625 15.1875 63.9375 \nQ 23.390625 74.21875 37.203125 74.21875 \nQ 40.921875 74.21875 44.703125 73.484375 \nQ 48.484375 72.75 52.59375 71.296875 \nz\n\" id=\"DejaVuSans-54\"/>\n      </defs>\n      <g transform=\"translate(20.878125 123.855523)scale(0.1 -0.1)\">\n       <use xlink:href=\"#DejaVuSans-48\"/>\n       <use x=\"63.623047\" xlink:href=\"#DejaVuSans-46\"/>\n       <use x=\"95.410156\" xlink:href=\"#DejaVuSans-48\"/>\n       <use x=\"159.033203\" xlink:href=\"#DejaVuSans-48\"/>\n       <use x=\"222.65625\" xlink:href=\"#DejaVuSans-54\"/>\n      </g>\n     </g>\n    </g>\n    <g id=\"ytick_4\">\n     <g id=\"line2d_10\">\n      <g>\n       <use style=\"stroke:#000000;stroke-width:0.8;\" x=\"56.50625\" xlink:href=\"#m642b99009d\" y=\"76.129031\"/>\n      </g>\n     </g>\n     <g id=\"text_11\">\n      <!-- 0.008 -->\n      <defs>\n       <path d=\"M 31.78125 34.625 \nQ 24.75 34.625 20.71875 30.859375 \nQ 16.703125 27.09375 16.703125 20.515625 \nQ 16.703125 13.921875 20.71875 10.15625 \nQ 24.75 6.390625 31.78125 6.390625 \nQ 38.8125 6.390625 42.859375 10.171875 \nQ 46.921875 13.96875 46.921875 20.515625 \nQ 46.921875 27.09375 42.890625 30.859375 \nQ 38.875 34.625 31.78125 34.625 \nz\nM 21.921875 38.8125 \nQ 15.578125 40.375 12.03125 44.71875 \nQ 8.5 49.078125 8.5 55.328125 \nQ 8.5 64.0625 14.71875 69.140625 \nQ 20.953125 74.21875 31.78125 74.21875 \nQ 42.671875 74.21875 48.875 69.140625 \nQ 55.078125 64.0625 55.078125 55.328125 \nQ 55.078125 49.078125 51.53125 44.71875 \nQ 48 40.375 41.703125 38.8125 \nQ 48.828125 37.15625 52.796875 32.3125 \nQ 56.78125 27.484375 56.78125 20.515625 \nQ 56.78125 9.90625 50.3125 4.234375 \nQ 43.84375 -1.421875 31.78125 -1.421875 \nQ 19.734375 -1.421875 13.25 4.234375 \nQ 6.78125 9.90625 6.78125 20.515625 \nQ 6.78125 27.484375 10.78125 32.3125 \nQ 14.796875 37.15625 21.921875 38.8125 \nz\nM 18.3125 54.390625 \nQ 18.3125 48.734375 21.84375 45.5625 \nQ 25.390625 42.390625 31.78125 42.390625 \nQ 38.140625 42.390625 41.71875 45.5625 \nQ 45.3125 48.734375 45.3125 54.390625 \nQ 45.3125 60.0625 41.71875 63.234375 \nQ 38.140625 66.40625 31.78125 66.40625 \nQ 25.390625 66.40625 21.84375 63.234375 \nQ 18.3125 60.0625 18.3125 54.390625 \nz\n\" id=\"DejaVuSans-56\"/>\n      </defs>\n      <g transform=\"translate(20.878125 79.928249)scale(0.1 -0.1)\">\n       <use xlink:href=\"#DejaVuSans-48\"/>\n       <use x=\"63.623047\" xlink:href=\"#DejaVuSans-46\"/>\n       <use x=\"95.410156\" xlink:href=\"#DejaVuSans-48\"/>\n       <use x=\"159.033203\" xlink:href=\"#DejaVuSans-48\"/>\n       <use x=\"222.65625\" xlink:href=\"#DejaVuSans-56\"/>\n      </g>\n     </g>\n    </g>\n    <g id=\"ytick_5\">\n     <g id=\"line2d_11\">\n      <g>\n       <use style=\"stroke:#000000;stroke-width:0.8;\" x=\"56.50625\" xlink:href=\"#m642b99009d\" y=\"32.201756\"/>\n      </g>\n     </g>\n     <g id=\"text_12\">\n      <!-- 0.010 -->\n      <g transform=\"translate(20.878125 36.000975)scale(0.1 -0.1)\">\n       <use xlink:href=\"#DejaVuSans-48\"/>\n       <use x=\"63.623047\" xlink:href=\"#DejaVuSans-46\"/>\n       <use x=\"95.410156\" xlink:href=\"#DejaVuSans-48\"/>\n       <use x=\"159.033203\" xlink:href=\"#DejaVuSans-49\"/>\n       <use x=\"222.65625\" xlink:href=\"#DejaVuSans-48\"/>\n      </g>\n     </g>\n    </g>\n    <g id=\"text_13\">\n     <!-- Learning rate -->\n     <defs>\n      <path d=\"M 9.8125 72.90625 \nL 19.671875 72.90625 \nL 19.671875 8.296875 \nL 55.171875 8.296875 \nL 55.171875 0 \nL 9.8125 0 \nz\n\" id=\"DejaVuSans-76\"/>\n      <path d=\"M 56.203125 29.59375 \nL 56.203125 25.203125 \nL 14.890625 25.203125 \nQ 15.484375 15.921875 20.484375 11.0625 \nQ 25.484375 6.203125 34.421875 6.203125 \nQ 39.59375 6.203125 44.453125 7.46875 \nQ 49.3125 8.734375 54.109375 11.28125 \nL 54.109375 2.78125 \nQ 49.265625 0.734375 44.1875 -0.34375 \nQ 39.109375 -1.421875 33.890625 -1.421875 \nQ 20.796875 -1.421875 13.15625 6.1875 \nQ 5.515625 13.8125 5.515625 26.8125 \nQ 5.515625 40.234375 12.765625 48.109375 \nQ 20.015625 56 32.328125 56 \nQ 43.359375 56 49.78125 48.890625 \nQ 56.203125 41.796875 56.203125 29.59375 \nz\nM 47.21875 32.234375 \nQ 47.125 39.59375 43.09375 43.984375 \nQ 39.0625 48.390625 32.421875 48.390625 \nQ 24.90625 48.390625 20.390625 44.140625 \nQ 15.875 39.890625 15.1875 32.171875 \nz\n\" id=\"DejaVuSans-101\"/>\n      <path d=\"M 34.28125 27.484375 \nQ 23.390625 27.484375 19.1875 25 \nQ 14.984375 22.515625 14.984375 16.5 \nQ 14.984375 11.71875 18.140625 8.90625 \nQ 21.296875 6.109375 26.703125 6.109375 \nQ 34.1875 6.109375 38.703125 11.40625 \nQ 43.21875 16.703125 43.21875 25.484375 \nL 43.21875 27.484375 \nz\nM 52.203125 31.203125 \nL 52.203125 0 \nL 43.21875 0 \nL 43.21875 8.296875 \nQ 40.140625 3.328125 35.546875 0.953125 \nQ 30.953125 -1.421875 24.3125 -1.421875 \nQ 15.921875 -1.421875 10.953125 3.296875 \nQ 6 8.015625 6 15.921875 \nQ 6 25.140625 12.171875 29.828125 \nQ 18.359375 34.515625 30.609375 34.515625 \nL 43.21875 34.515625 \nL 43.21875 35.40625 \nQ 43.21875 41.609375 39.140625 45 \nQ 35.0625 48.390625 27.6875 48.390625 \nQ 23 48.390625 18.546875 47.265625 \nQ 14.109375 46.140625 10.015625 43.890625 \nL 10.015625 52.203125 \nQ 14.9375 54.109375 19.578125 55.046875 \nQ 24.21875 56 28.609375 56 \nQ 40.484375 56 46.34375 49.84375 \nQ 52.203125 43.703125 52.203125 31.203125 \nz\n\" id=\"DejaVuSans-97\"/>\n      <path d=\"M 41.109375 46.296875 \nQ 39.59375 47.171875 37.8125 47.578125 \nQ 36.03125 48 33.890625 48 \nQ 26.265625 48 22.1875 43.046875 \nQ 18.109375 38.09375 18.109375 28.8125 \nL 18.109375 0 \nL 9.078125 0 \nL 9.078125 54.6875 \nL 18.109375 54.6875 \nL 18.109375 46.1875 \nQ 20.953125 51.171875 25.484375 53.578125 \nQ 30.03125 56 36.53125 56 \nQ 37.453125 56 38.578125 55.875 \nQ 39.703125 55.765625 41.0625 55.515625 \nz\n\" id=\"DejaVuSans-114\"/>\n      <path d=\"M 54.890625 33.015625 \nL 54.890625 0 \nL 45.90625 0 \nL 45.90625 32.71875 \nQ 45.90625 40.484375 42.875 44.328125 \nQ 39.84375 48.1875 33.796875 48.1875 \nQ 26.515625 48.1875 22.3125 43.546875 \nQ 18.109375 38.921875 18.109375 30.90625 \nL 18.109375 0 \nL 9.078125 0 \nL 9.078125 54.6875 \nL 18.109375 54.6875 \nL 18.109375 46.1875 \nQ 21.34375 51.125 25.703125 53.5625 \nQ 30.078125 56 35.796875 56 \nQ 45.21875 56 50.046875 50.171875 \nQ 54.890625 44.34375 54.890625 33.015625 \nz\n\" id=\"DejaVuSans-110\"/>\n      <path d=\"M 9.421875 54.6875 \nL 18.40625 54.6875 \nL 18.40625 0 \nL 9.421875 0 \nz\nM 9.421875 75.984375 \nL 18.40625 75.984375 \nL 18.40625 64.59375 \nL 9.421875 64.59375 \nz\n\" id=\"DejaVuSans-105\"/>\n      <path d=\"M 45.40625 27.984375 \nQ 45.40625 37.75 41.375 43.109375 \nQ 37.359375 48.484375 30.078125 48.484375 \nQ 22.859375 48.484375 18.828125 43.109375 \nQ 14.796875 37.75 14.796875 27.984375 \nQ 14.796875 18.265625 18.828125 12.890625 \nQ 22.859375 7.515625 30.078125 7.515625 \nQ 37.359375 7.515625 41.375 12.890625 \nQ 45.40625 18.265625 45.40625 27.984375 \nz\nM 54.390625 6.78125 \nQ 54.390625 -7.171875 48.1875 -13.984375 \nQ 42 -20.796875 29.203125 -20.796875 \nQ 24.46875 -20.796875 20.265625 -20.09375 \nQ 16.0625 -19.390625 12.109375 -17.921875 \nL 12.109375 -9.1875 \nQ 16.0625 -11.328125 19.921875 -12.34375 \nQ 23.78125 -13.375 27.78125 -13.375 \nQ 36.625 -13.375 41.015625 -8.765625 \nQ 45.40625 -4.15625 45.40625 5.171875 \nL 45.40625 9.625 \nQ 42.625 4.78125 38.28125 2.390625 \nQ 33.9375 0 27.875 0 \nQ 17.828125 0 11.671875 7.65625 \nQ 5.515625 15.328125 5.515625 27.984375 \nQ 5.515625 40.671875 11.671875 48.328125 \nQ 17.828125 56 27.875 56 \nQ 33.9375 56 38.28125 53.609375 \nQ 42.625 51.21875 45.40625 46.390625 \nL 45.40625 54.6875 \nL 54.390625 54.6875 \nz\n\" id=\"DejaVuSans-103\"/>\n      <path id=\"DejaVuSans-32\"/>\n      <path d=\"M 18.3125 70.21875 \nL 18.3125 54.6875 \nL 36.8125 54.6875 \nL 36.8125 47.703125 \nL 18.3125 47.703125 \nL 18.3125 18.015625 \nQ 18.3125 11.328125 20.140625 9.421875 \nQ 21.96875 7.515625 27.59375 7.515625 \nL 36.8125 7.515625 \nL 36.8125 0 \nL 27.59375 0 \nQ 17.1875 0 13.234375 3.875 \nQ 9.28125 7.765625 9.28125 18.015625 \nL 9.28125 47.703125 \nL 2.6875 47.703125 \nL 2.6875 54.6875 \nL 9.28125 54.6875 \nL 9.28125 70.21875 \nz\n\" id=\"DejaVuSans-116\"/>\n     </defs>\n     <g transform=\"translate(14.798437 164.49125)rotate(-90)scale(0.1 -0.1)\">\n      <use xlink:href=\"#DejaVuSans-76\"/>\n      <use x=\"53.962891\" xlink:href=\"#DejaVuSans-101\"/>\n      <use x=\"115.486328\" xlink:href=\"#DejaVuSans-97\"/>\n      <use x=\"176.765625\" xlink:href=\"#DejaVuSans-114\"/>\n      <use x=\"216.128906\" xlink:href=\"#DejaVuSans-110\"/>\n      <use x=\"279.507812\" xlink:href=\"#DejaVuSans-105\"/>\n      <use x=\"307.291016\" xlink:href=\"#DejaVuSans-110\"/>\n      <use x=\"370.669922\" xlink:href=\"#DejaVuSans-103\"/>\n      <use x=\"434.146484\" xlink:href=\"#DejaVuSans-32\"/>\n      <use x=\"465.933594\" xlink:href=\"#DejaVuSans-114\"/>\n      <use x=\"507.046875\" xlink:href=\"#DejaVuSans-97\"/>\n      <use x=\"568.326172\" xlink:href=\"#DejaVuSans-116\"/>\n      <use x=\"607.535156\" xlink:href=\"#DejaVuSans-101\"/>\n     </g>\n    </g>\n   </g>\n   <g id=\"line2d_12\">\n    <path clip-path=\"url(#p83a52085b8)\" d=\"M 71.724432 32.201761 \nL 77.935935 32.201761 \nL 84.147437 32.201761 \nL 90.35894 32.201761 \nL 96.570443 32.201761 \nL 102.781946 32.201761 \nL 108.993449 32.201761 \nL 115.204951 32.201761 \nL 121.416454 32.201761 \nL 127.627957 32.201761 \nL 133.83946 32.201761 \nL 140.050962 32.201761 \nL 146.262465 32.201761 \nL 152.473968 32.201761 \nL 158.685471 32.201761 \nL 164.896974 32.201761 \nL 171.108476 32.201761 \nL 177.319979 207.910856 \nL 183.531482 207.910856 \nL 189.742985 207.910856 \nL 195.954487 207.910856 \nL 202.16599 207.910856 \nL 208.377493 207.910856 \nL 214.588996 207.910856 \nL 220.800499 207.910856 \nL 227.012001 207.910856 \nL 233.223504 207.910856 \nL 239.435007 207.910856 \nL 245.64651 207.910856 \nL 251.858013 207.910856 \nL 258.069515 229.874489 \nL 264.281018 229.874489 \nL 270.492521 229.874489 \nL 276.704024 229.874489 \nL 282.915526 229.874489 \nL 289.127029 229.874489 \nL 295.338532 229.874489 \nL 301.550035 229.874489 \nL 307.761538 229.874489 \nL 313.97304 229.874489 \nL 320.184543 229.874489 \nL 326.396046 229.874489 \nL 332.607549 229.874489 \nL 338.819051 229.874489 \nL 345.030554 229.874489 \nL 351.242057 229.874489 \nL 357.45356 229.874489 \nL 363.665063 229.874489 \nL 369.876565 229.874489 \nL 376.088068 229.874489 \n\" style=\"fill:none;stroke:#1f77b4;stroke-linecap:square;stroke-width:1.5;\"/>\n   </g>\n   <g id=\"patch_3\">\n    <path d=\"M 56.50625 239.758125 \nL 56.50625 22.318125 \n\" style=\"fill:none;stroke:#000000;stroke-linecap:square;stroke-linejoin:miter;stroke-width:0.8;\"/>\n   </g>\n   <g id=\"patch_4\">\n    <path d=\"M 391.30625 239.758125 \nL 391.30625 22.318125 \n\" style=\"fill:none;stroke:#000000;stroke-linecap:square;stroke-linejoin:miter;stroke-width:0.8;\"/>\n   </g>\n   <g id=\"patch_5\">\n    <path d=\"M 56.50625 239.758125 \nL 391.30625 239.758125 \n\" style=\"fill:none;stroke:#000000;stroke-linecap:square;stroke-linejoin:miter;stroke-width:0.8;\"/>\n   </g>\n   <g id=\"patch_6\">\n    <path d=\"M 56.50625 22.318125 \nL 391.30625 22.318125 \n\" style=\"fill:none;stroke:#000000;stroke-linecap:square;stroke-linejoin:miter;stroke-width:0.8;\"/>\n   </g>\n   <g id=\"text_14\">\n    <!-- Learning rate -->\n    <g transform=\"translate(183.7625 16.318125)scale(0.12 -0.12)\">\n     <use xlink:href=\"#DejaVuSans-76\"/>\n     <use x=\"53.962891\" xlink:href=\"#DejaVuSans-101\"/>\n     <use x=\"115.486328\" xlink:href=\"#DejaVuSans-97\"/>\n     <use x=\"176.765625\" xlink:href=\"#DejaVuSans-114\"/>\n     <use x=\"216.128906\" xlink:href=\"#DejaVuSans-110\"/>\n     <use x=\"279.507812\" xlink:href=\"#DejaVuSans-105\"/>\n     <use x=\"307.291016\" xlink:href=\"#DejaVuSans-110\"/>\n     <use x=\"370.669922\" xlink:href=\"#DejaVuSans-103\"/>\n     <use x=\"434.146484\" xlink:href=\"#DejaVuSans-32\"/>\n     <use x=\"465.933594\" xlink:href=\"#DejaVuSans-114\"/>\n     <use x=\"507.046875\" xlink:href=\"#DejaVuSans-97\"/>\n     <use x=\"568.326172\" xlink:href=\"#DejaVuSans-116\"/>\n     <use x=\"607.535156\" xlink:href=\"#DejaVuSans-101\"/>\n    </g>\n   </g>\n  </g>\n </g>\n <defs>\n  <clipPath id=\"p83a52085b8\">\n   <rect height=\"217.44\" width=\"334.8\" x=\"56.50625\" y=\"22.318125\"/>\n  </clipPath>\n </defs>\n</svg>\n"
          },
          "metadata": {
            "needs_background": "light"
          }
        }
      ]
    },
    {
      "cell_type": "code",
      "metadata": {
        "colab": {
          "base_uri": "https://localhost:8080/",
          "height": 391
        },
        "id": "6iCKfWc11lmL",
        "outputId": "f93212b3-a39d-4f1e-9b1e-285c0d23b404"
      },
      "source": [
        "# plotando o gráfico da perda - treinamento e validação\n",
        "plot_metric(history_reduce_lr, 'loss')"
      ],
      "execution_count": null,
      "outputs": [
        {
          "output_type": "display_data",
          "data": {
            "text/plain": [
              "<Figure size 432x288 with 1 Axes>"
            ],
            "image/svg+xml": "<?xml version=\"1.0\" encoding=\"utf-8\" standalone=\"no\"?>\n<!DOCTYPE svg PUBLIC \"-//W3C//DTD SVG 1.1//EN\"\n  \"http://www.w3.org/Graphics/SVG/1.1/DTD/svg11.dtd\">\n<!-- Created with matplotlib (https://matplotlib.org/) -->\n<svg height=\"277.314375pt\" version=\"1.1\" viewBox=\"0 0 385.78125 277.314375\" width=\"385.78125pt\" xmlns=\"http://www.w3.org/2000/svg\" xmlns:xlink=\"http://www.w3.org/1999/xlink\">\n <defs>\n  <style type=\"text/css\">\n*{stroke-linecap:butt;stroke-linejoin:round;}\n  </style>\n </defs>\n <g id=\"figure_1\">\n  <g id=\"patch_1\">\n   <path d=\"M 0 277.314375 \nL 385.78125 277.314375 \nL 385.78125 0 \nL 0 0 \nz\n\" style=\"fill:none;\"/>\n  </g>\n  <g id=\"axes_1\">\n   <g id=\"patch_2\">\n    <path d=\"M 43.78125 239.758125 \nL 378.58125 239.758125 \nL 378.58125 22.318125 \nL 43.78125 22.318125 \nz\n\" style=\"fill:#ffffff;\"/>\n   </g>\n   <g id=\"matplotlib.axis_1\">\n    <g id=\"xtick_1\">\n     <g id=\"line2d_1\">\n      <defs>\n       <path d=\"M 0 0 \nL 0 3.5 \n\" id=\"mfa1e5f9c44\" style=\"stroke:#000000;stroke-width:0.8;\"/>\n      </defs>\n      <g>\n       <use style=\"stroke:#000000;stroke-width:0.8;\" x=\"52.787929\" xlink:href=\"#mfa1e5f9c44\" y=\"239.758125\"/>\n      </g>\n     </g>\n     <g id=\"text_1\">\n      <!-- 0 -->\n      <defs>\n       <path d=\"M 31.78125 66.40625 \nQ 24.171875 66.40625 20.328125 58.90625 \nQ 16.5 51.421875 16.5 36.375 \nQ 16.5 21.390625 20.328125 13.890625 \nQ 24.171875 6.390625 31.78125 6.390625 \nQ 39.453125 6.390625 43.28125 13.890625 \nQ 47.125 21.390625 47.125 36.375 \nQ 47.125 51.421875 43.28125 58.90625 \nQ 39.453125 66.40625 31.78125 66.40625 \nz\nM 31.78125 74.21875 \nQ 44.046875 74.21875 50.515625 64.515625 \nQ 56.984375 54.828125 56.984375 36.375 \nQ 56.984375 17.96875 50.515625 8.265625 \nQ 44.046875 -1.421875 31.78125 -1.421875 \nQ 19.53125 -1.421875 13.0625 8.265625 \nQ 6.59375 17.96875 6.59375 36.375 \nQ 6.59375 54.828125 13.0625 64.515625 \nQ 19.53125 74.21875 31.78125 74.21875 \nz\n\" id=\"DejaVuSans-48\"/>\n      </defs>\n      <g transform=\"translate(49.606679 254.356562)scale(0.1 -0.1)\">\n       <use xlink:href=\"#DejaVuSans-48\"/>\n      </g>\n     </g>\n    </g>\n    <g id=\"xtick_2\">\n     <g id=\"line2d_2\">\n      <g>\n       <use style=\"stroke:#000000;stroke-width:0.8;\" x=\"114.902957\" xlink:href=\"#mfa1e5f9c44\" y=\"239.758125\"/>\n      </g>\n     </g>\n     <g id=\"text_2\">\n      <!-- 10 -->\n      <defs>\n       <path d=\"M 12.40625 8.296875 \nL 28.515625 8.296875 \nL 28.515625 63.921875 \nL 10.984375 60.40625 \nL 10.984375 69.390625 \nL 28.421875 72.90625 \nL 38.28125 72.90625 \nL 38.28125 8.296875 \nL 54.390625 8.296875 \nL 54.390625 0 \nL 12.40625 0 \nz\n\" id=\"DejaVuSans-49\"/>\n      </defs>\n      <g transform=\"translate(108.540457 254.356562)scale(0.1 -0.1)\">\n       <use xlink:href=\"#DejaVuSans-49\"/>\n       <use x=\"63.623047\" xlink:href=\"#DejaVuSans-48\"/>\n      </g>\n     </g>\n    </g>\n    <g id=\"xtick_3\">\n     <g id=\"line2d_3\">\n      <g>\n       <use style=\"stroke:#000000;stroke-width:0.8;\" x=\"177.017985\" xlink:href=\"#mfa1e5f9c44\" y=\"239.758125\"/>\n      </g>\n     </g>\n     <g id=\"text_3\">\n      <!-- 20 -->\n      <defs>\n       <path d=\"M 19.1875 8.296875 \nL 53.609375 8.296875 \nL 53.609375 0 \nL 7.328125 0 \nL 7.328125 8.296875 \nQ 12.9375 14.109375 22.625 23.890625 \nQ 32.328125 33.6875 34.8125 36.53125 \nQ 39.546875 41.84375 41.421875 45.53125 \nQ 43.3125 49.21875 43.3125 52.78125 \nQ 43.3125 58.59375 39.234375 62.25 \nQ 35.15625 65.921875 28.609375 65.921875 \nQ 23.96875 65.921875 18.8125 64.3125 \nQ 13.671875 62.703125 7.8125 59.421875 \nL 7.8125 69.390625 \nQ 13.765625 71.78125 18.9375 73 \nQ 24.125 74.21875 28.421875 74.21875 \nQ 39.75 74.21875 46.484375 68.546875 \nQ 53.21875 62.890625 53.21875 53.421875 \nQ 53.21875 48.921875 51.53125 44.890625 \nQ 49.859375 40.875 45.40625 35.40625 \nQ 44.1875 33.984375 37.640625 27.21875 \nQ 31.109375 20.453125 19.1875 8.296875 \nz\n\" id=\"DejaVuSans-50\"/>\n      </defs>\n      <g transform=\"translate(170.655485 254.356562)scale(0.1 -0.1)\">\n       <use xlink:href=\"#DejaVuSans-50\"/>\n       <use x=\"63.623047\" xlink:href=\"#DejaVuSans-48\"/>\n      </g>\n     </g>\n    </g>\n    <g id=\"xtick_4\">\n     <g id=\"line2d_4\">\n      <g>\n       <use style=\"stroke:#000000;stroke-width:0.8;\" x=\"239.133013\" xlink:href=\"#mfa1e5f9c44\" y=\"239.758125\"/>\n      </g>\n     </g>\n     <g id=\"text_4\">\n      <!-- 30 -->\n      <defs>\n       <path d=\"M 40.578125 39.3125 \nQ 47.65625 37.796875 51.625 33 \nQ 55.609375 28.21875 55.609375 21.1875 \nQ 55.609375 10.40625 48.1875 4.484375 \nQ 40.765625 -1.421875 27.09375 -1.421875 \nQ 22.515625 -1.421875 17.65625 -0.515625 \nQ 12.796875 0.390625 7.625 2.203125 \nL 7.625 11.71875 \nQ 11.71875 9.328125 16.59375 8.109375 \nQ 21.484375 6.890625 26.8125 6.890625 \nQ 36.078125 6.890625 40.9375 10.546875 \nQ 45.796875 14.203125 45.796875 21.1875 \nQ 45.796875 27.640625 41.28125 31.265625 \nQ 36.765625 34.90625 28.71875 34.90625 \nL 20.21875 34.90625 \nL 20.21875 43.015625 \nL 29.109375 43.015625 \nQ 36.375 43.015625 40.234375 45.921875 \nQ 44.09375 48.828125 44.09375 54.296875 \nQ 44.09375 59.90625 40.109375 62.90625 \nQ 36.140625 65.921875 28.71875 65.921875 \nQ 24.65625 65.921875 20.015625 65.03125 \nQ 15.375 64.15625 9.8125 62.3125 \nL 9.8125 71.09375 \nQ 15.4375 72.65625 20.34375 73.4375 \nQ 25.25 74.21875 29.59375 74.21875 \nQ 40.828125 74.21875 47.359375 69.109375 \nQ 53.90625 64.015625 53.90625 55.328125 \nQ 53.90625 49.265625 50.4375 45.09375 \nQ 46.96875 40.921875 40.578125 39.3125 \nz\n\" id=\"DejaVuSans-51\"/>\n      </defs>\n      <g transform=\"translate(232.770513 254.356562)scale(0.1 -0.1)\">\n       <use xlink:href=\"#DejaVuSans-51\"/>\n       <use x=\"63.623047\" xlink:href=\"#DejaVuSans-48\"/>\n      </g>\n     </g>\n    </g>\n    <g id=\"xtick_5\">\n     <g id=\"line2d_5\">\n      <g>\n       <use style=\"stroke:#000000;stroke-width:0.8;\" x=\"301.24804\" xlink:href=\"#mfa1e5f9c44\" y=\"239.758125\"/>\n      </g>\n     </g>\n     <g id=\"text_5\">\n      <!-- 40 -->\n      <defs>\n       <path d=\"M 37.796875 64.3125 \nL 12.890625 25.390625 \nL 37.796875 25.390625 \nz\nM 35.203125 72.90625 \nL 47.609375 72.90625 \nL 47.609375 25.390625 \nL 58.015625 25.390625 \nL 58.015625 17.1875 \nL 47.609375 17.1875 \nL 47.609375 0 \nL 37.796875 0 \nL 37.796875 17.1875 \nL 4.890625 17.1875 \nL 4.890625 26.703125 \nz\n\" id=\"DejaVuSans-52\"/>\n      </defs>\n      <g transform=\"translate(294.88554 254.356562)scale(0.1 -0.1)\">\n       <use xlink:href=\"#DejaVuSans-52\"/>\n       <use x=\"63.623047\" xlink:href=\"#DejaVuSans-48\"/>\n      </g>\n     </g>\n    </g>\n    <g id=\"xtick_6\">\n     <g id=\"line2d_6\">\n      <g>\n       <use style=\"stroke:#000000;stroke-width:0.8;\" x=\"363.363068\" xlink:href=\"#mfa1e5f9c44\" y=\"239.758125\"/>\n      </g>\n     </g>\n     <g id=\"text_6\">\n      <!-- 50 -->\n      <defs>\n       <path d=\"M 10.796875 72.90625 \nL 49.515625 72.90625 \nL 49.515625 64.59375 \nL 19.828125 64.59375 \nL 19.828125 46.734375 \nQ 21.96875 47.46875 24.109375 47.828125 \nQ 26.265625 48.1875 28.421875 48.1875 \nQ 40.625 48.1875 47.75 41.5 \nQ 54.890625 34.8125 54.890625 23.390625 \nQ 54.890625 11.625 47.5625 5.09375 \nQ 40.234375 -1.421875 26.90625 -1.421875 \nQ 22.3125 -1.421875 17.546875 -0.640625 \nQ 12.796875 0.140625 7.71875 1.703125 \nL 7.71875 11.625 \nQ 12.109375 9.234375 16.796875 8.0625 \nQ 21.484375 6.890625 26.703125 6.890625 \nQ 35.15625 6.890625 40.078125 11.328125 \nQ 45.015625 15.765625 45.015625 23.390625 \nQ 45.015625 31 40.078125 35.4375 \nQ 35.15625 39.890625 26.703125 39.890625 \nQ 22.75 39.890625 18.8125 39.015625 \nQ 14.890625 38.140625 10.796875 36.28125 \nz\n\" id=\"DejaVuSans-53\"/>\n      </defs>\n      <g transform=\"translate(357.000568 254.356562)scale(0.1 -0.1)\">\n       <use xlink:href=\"#DejaVuSans-53\"/>\n       <use x=\"63.623047\" xlink:href=\"#DejaVuSans-48\"/>\n      </g>\n     </g>\n    </g>\n    <g id=\"text_7\">\n     <!-- Epochs -->\n     <defs>\n      <path d=\"M 9.8125 72.90625 \nL 55.90625 72.90625 \nL 55.90625 64.59375 \nL 19.671875 64.59375 \nL 19.671875 43.015625 \nL 54.390625 43.015625 \nL 54.390625 34.71875 \nL 19.671875 34.71875 \nL 19.671875 8.296875 \nL 56.78125 8.296875 \nL 56.78125 0 \nL 9.8125 0 \nz\n\" id=\"DejaVuSans-69\"/>\n      <path d=\"M 18.109375 8.203125 \nL 18.109375 -20.796875 \nL 9.078125 -20.796875 \nL 9.078125 54.6875 \nL 18.109375 54.6875 \nL 18.109375 46.390625 \nQ 20.953125 51.265625 25.265625 53.625 \nQ 29.59375 56 35.59375 56 \nQ 45.5625 56 51.78125 48.09375 \nQ 58.015625 40.1875 58.015625 27.296875 \nQ 58.015625 14.40625 51.78125 6.484375 \nQ 45.5625 -1.421875 35.59375 -1.421875 \nQ 29.59375 -1.421875 25.265625 0.953125 \nQ 20.953125 3.328125 18.109375 8.203125 \nz\nM 48.6875 27.296875 \nQ 48.6875 37.203125 44.609375 42.84375 \nQ 40.53125 48.484375 33.40625 48.484375 \nQ 26.265625 48.484375 22.1875 42.84375 \nQ 18.109375 37.203125 18.109375 27.296875 \nQ 18.109375 17.390625 22.1875 11.75 \nQ 26.265625 6.109375 33.40625 6.109375 \nQ 40.53125 6.109375 44.609375 11.75 \nQ 48.6875 17.390625 48.6875 27.296875 \nz\n\" id=\"DejaVuSans-112\"/>\n      <path d=\"M 30.609375 48.390625 \nQ 23.390625 48.390625 19.1875 42.75 \nQ 14.984375 37.109375 14.984375 27.296875 \nQ 14.984375 17.484375 19.15625 11.84375 \nQ 23.34375 6.203125 30.609375 6.203125 \nQ 37.796875 6.203125 41.984375 11.859375 \nQ 46.1875 17.53125 46.1875 27.296875 \nQ 46.1875 37.015625 41.984375 42.703125 \nQ 37.796875 48.390625 30.609375 48.390625 \nz\nM 30.609375 56 \nQ 42.328125 56 49.015625 48.375 \nQ 55.71875 40.765625 55.71875 27.296875 \nQ 55.71875 13.875 49.015625 6.21875 \nQ 42.328125 -1.421875 30.609375 -1.421875 \nQ 18.84375 -1.421875 12.171875 6.21875 \nQ 5.515625 13.875 5.515625 27.296875 \nQ 5.515625 40.765625 12.171875 48.375 \nQ 18.84375 56 30.609375 56 \nz\n\" id=\"DejaVuSans-111\"/>\n      <path d=\"M 48.78125 52.59375 \nL 48.78125 44.1875 \nQ 44.96875 46.296875 41.140625 47.34375 \nQ 37.3125 48.390625 33.40625 48.390625 \nQ 24.65625 48.390625 19.8125 42.84375 \nQ 14.984375 37.3125 14.984375 27.296875 \nQ 14.984375 17.28125 19.8125 11.734375 \nQ 24.65625 6.203125 33.40625 6.203125 \nQ 37.3125 6.203125 41.140625 7.25 \nQ 44.96875 8.296875 48.78125 10.40625 \nL 48.78125 2.09375 \nQ 45.015625 0.34375 40.984375 -0.53125 \nQ 36.96875 -1.421875 32.421875 -1.421875 \nQ 20.0625 -1.421875 12.78125 6.34375 \nQ 5.515625 14.109375 5.515625 27.296875 \nQ 5.515625 40.671875 12.859375 48.328125 \nQ 20.21875 56 33.015625 56 \nQ 37.15625 56 41.109375 55.140625 \nQ 45.0625 54.296875 48.78125 52.59375 \nz\n\" id=\"DejaVuSans-99\"/>\n      <path d=\"M 54.890625 33.015625 \nL 54.890625 0 \nL 45.90625 0 \nL 45.90625 32.71875 \nQ 45.90625 40.484375 42.875 44.328125 \nQ 39.84375 48.1875 33.796875 48.1875 \nQ 26.515625 48.1875 22.3125 43.546875 \nQ 18.109375 38.921875 18.109375 30.90625 \nL 18.109375 0 \nL 9.078125 0 \nL 9.078125 75.984375 \nL 18.109375 75.984375 \nL 18.109375 46.1875 \nQ 21.34375 51.125 25.703125 53.5625 \nQ 30.078125 56 35.796875 56 \nQ 45.21875 56 50.046875 50.171875 \nQ 54.890625 44.34375 54.890625 33.015625 \nz\n\" id=\"DejaVuSans-104\"/>\n      <path d=\"M 44.28125 53.078125 \nL 44.28125 44.578125 \nQ 40.484375 46.53125 36.375 47.5 \nQ 32.28125 48.484375 27.875 48.484375 \nQ 21.1875 48.484375 17.84375 46.4375 \nQ 14.5 44.390625 14.5 40.28125 \nQ 14.5 37.15625 16.890625 35.375 \nQ 19.28125 33.59375 26.515625 31.984375 \nL 29.59375 31.296875 \nQ 39.15625 29.25 43.1875 25.515625 \nQ 47.21875 21.78125 47.21875 15.09375 \nQ 47.21875 7.46875 41.1875 3.015625 \nQ 35.15625 -1.421875 24.609375 -1.421875 \nQ 20.21875 -1.421875 15.453125 -0.5625 \nQ 10.6875 0.296875 5.421875 2 \nL 5.421875 11.28125 \nQ 10.40625 8.6875 15.234375 7.390625 \nQ 20.0625 6.109375 24.8125 6.109375 \nQ 31.15625 6.109375 34.5625 8.28125 \nQ 37.984375 10.453125 37.984375 14.40625 \nQ 37.984375 18.0625 35.515625 20.015625 \nQ 33.0625 21.96875 24.703125 23.78125 \nL 21.578125 24.515625 \nQ 13.234375 26.265625 9.515625 29.90625 \nQ 5.8125 33.546875 5.8125 39.890625 \nQ 5.8125 47.609375 11.28125 51.796875 \nQ 16.75 56 26.8125 56 \nQ 31.78125 56 36.171875 55.265625 \nQ 40.578125 54.546875 44.28125 53.078125 \nz\n\" id=\"DejaVuSans-115\"/>\n     </defs>\n     <g transform=\"translate(193.265625 268.034687)scale(0.1 -0.1)\">\n      <use xlink:href=\"#DejaVuSans-69\"/>\n      <use x=\"63.183594\" xlink:href=\"#DejaVuSans-112\"/>\n      <use x=\"126.660156\" xlink:href=\"#DejaVuSans-111\"/>\n      <use x=\"187.841797\" xlink:href=\"#DejaVuSans-99\"/>\n      <use x=\"242.822266\" xlink:href=\"#DejaVuSans-104\"/>\n      <use x=\"306.201172\" xlink:href=\"#DejaVuSans-115\"/>\n     </g>\n    </g>\n   </g>\n   <g id=\"matplotlib.axis_2\">\n    <g id=\"ytick_1\">\n     <g id=\"line2d_7\">\n      <defs>\n       <path d=\"M 0 0 \nL -3.5 0 \n\" id=\"m623a94f3a3\" style=\"stroke:#000000;stroke-width:0.8;\"/>\n      </defs>\n      <g>\n       <use style=\"stroke:#000000;stroke-width:0.8;\" x=\"43.78125\" xlink:href=\"#m623a94f3a3\" y=\"232.367506\"/>\n      </g>\n     </g>\n     <g id=\"text_8\">\n      <!-- 0.4 -->\n      <defs>\n       <path d=\"M 10.6875 12.40625 \nL 21 12.40625 \nL 21 0 \nL 10.6875 0 \nz\n\" id=\"DejaVuSans-46\"/>\n      </defs>\n      <g transform=\"translate(20.878125 236.166725)scale(0.1 -0.1)\">\n       <use xlink:href=\"#DejaVuSans-48\"/>\n       <use x=\"63.623047\" xlink:href=\"#DejaVuSans-46\"/>\n       <use x=\"95.410156\" xlink:href=\"#DejaVuSans-52\"/>\n      </g>\n     </g>\n    </g>\n    <g id=\"ytick_2\">\n     <g id=\"line2d_8\">\n      <g>\n       <use style=\"stroke:#000000;stroke-width:0.8;\" x=\"43.78125\" xlink:href=\"#m623a94f3a3\" y=\"199.797528\"/>\n      </g>\n     </g>\n     <g id=\"text_9\">\n      <!-- 0.6 -->\n      <defs>\n       <path d=\"M 33.015625 40.375 \nQ 26.375 40.375 22.484375 35.828125 \nQ 18.609375 31.296875 18.609375 23.390625 \nQ 18.609375 15.53125 22.484375 10.953125 \nQ 26.375 6.390625 33.015625 6.390625 \nQ 39.65625 6.390625 43.53125 10.953125 \nQ 47.40625 15.53125 47.40625 23.390625 \nQ 47.40625 31.296875 43.53125 35.828125 \nQ 39.65625 40.375 33.015625 40.375 \nz\nM 52.59375 71.296875 \nL 52.59375 62.3125 \nQ 48.875 64.0625 45.09375 64.984375 \nQ 41.3125 65.921875 37.59375 65.921875 \nQ 27.828125 65.921875 22.671875 59.328125 \nQ 17.53125 52.734375 16.796875 39.40625 \nQ 19.671875 43.65625 24.015625 45.921875 \nQ 28.375 48.1875 33.59375 48.1875 \nQ 44.578125 48.1875 50.953125 41.515625 \nQ 57.328125 34.859375 57.328125 23.390625 \nQ 57.328125 12.15625 50.6875 5.359375 \nQ 44.046875 -1.421875 33.015625 -1.421875 \nQ 20.359375 -1.421875 13.671875 8.265625 \nQ 6.984375 17.96875 6.984375 36.375 \nQ 6.984375 53.65625 15.1875 63.9375 \nQ 23.390625 74.21875 37.203125 74.21875 \nQ 40.921875 74.21875 44.703125 73.484375 \nQ 48.484375 72.75 52.59375 71.296875 \nz\n\" id=\"DejaVuSans-54\"/>\n      </defs>\n      <g transform=\"translate(20.878125 203.596747)scale(0.1 -0.1)\">\n       <use xlink:href=\"#DejaVuSans-48\"/>\n       <use x=\"63.623047\" xlink:href=\"#DejaVuSans-46\"/>\n       <use x=\"95.410156\" xlink:href=\"#DejaVuSans-54\"/>\n      </g>\n     </g>\n    </g>\n    <g id=\"ytick_3\">\n     <g id=\"line2d_9\">\n      <g>\n       <use style=\"stroke:#000000;stroke-width:0.8;\" x=\"43.78125\" xlink:href=\"#m623a94f3a3\" y=\"167.22755\"/>\n      </g>\n     </g>\n     <g id=\"text_10\">\n      <!-- 0.8 -->\n      <defs>\n       <path d=\"M 31.78125 34.625 \nQ 24.75 34.625 20.71875 30.859375 \nQ 16.703125 27.09375 16.703125 20.515625 \nQ 16.703125 13.921875 20.71875 10.15625 \nQ 24.75 6.390625 31.78125 6.390625 \nQ 38.8125 6.390625 42.859375 10.171875 \nQ 46.921875 13.96875 46.921875 20.515625 \nQ 46.921875 27.09375 42.890625 30.859375 \nQ 38.875 34.625 31.78125 34.625 \nz\nM 21.921875 38.8125 \nQ 15.578125 40.375 12.03125 44.71875 \nQ 8.5 49.078125 8.5 55.328125 \nQ 8.5 64.0625 14.71875 69.140625 \nQ 20.953125 74.21875 31.78125 74.21875 \nQ 42.671875 74.21875 48.875 69.140625 \nQ 55.078125 64.0625 55.078125 55.328125 \nQ 55.078125 49.078125 51.53125 44.71875 \nQ 48 40.375 41.703125 38.8125 \nQ 48.828125 37.15625 52.796875 32.3125 \nQ 56.78125 27.484375 56.78125 20.515625 \nQ 56.78125 9.90625 50.3125 4.234375 \nQ 43.84375 -1.421875 31.78125 -1.421875 \nQ 19.734375 -1.421875 13.25 4.234375 \nQ 6.78125 9.90625 6.78125 20.515625 \nQ 6.78125 27.484375 10.78125 32.3125 \nQ 14.796875 37.15625 21.921875 38.8125 \nz\nM 18.3125 54.390625 \nQ 18.3125 48.734375 21.84375 45.5625 \nQ 25.390625 42.390625 31.78125 42.390625 \nQ 38.140625 42.390625 41.71875 45.5625 \nQ 45.3125 48.734375 45.3125 54.390625 \nQ 45.3125 60.0625 41.71875 63.234375 \nQ 38.140625 66.40625 31.78125 66.40625 \nQ 25.390625 66.40625 21.84375 63.234375 \nQ 18.3125 60.0625 18.3125 54.390625 \nz\n\" id=\"DejaVuSans-56\"/>\n      </defs>\n      <g transform=\"translate(20.878125 171.026769)scale(0.1 -0.1)\">\n       <use xlink:href=\"#DejaVuSans-48\"/>\n       <use x=\"63.623047\" xlink:href=\"#DejaVuSans-46\"/>\n       <use x=\"95.410156\" xlink:href=\"#DejaVuSans-56\"/>\n      </g>\n     </g>\n    </g>\n    <g id=\"ytick_4\">\n     <g id=\"line2d_10\">\n      <g>\n       <use style=\"stroke:#000000;stroke-width:0.8;\" x=\"43.78125\" xlink:href=\"#m623a94f3a3\" y=\"134.657572\"/>\n      </g>\n     </g>\n     <g id=\"text_11\">\n      <!-- 1.0 -->\n      <g transform=\"translate(20.878125 138.456791)scale(0.1 -0.1)\">\n       <use xlink:href=\"#DejaVuSans-49\"/>\n       <use x=\"63.623047\" xlink:href=\"#DejaVuSans-46\"/>\n       <use x=\"95.410156\" xlink:href=\"#DejaVuSans-48\"/>\n      </g>\n     </g>\n    </g>\n    <g id=\"ytick_5\">\n     <g id=\"line2d_11\">\n      <g>\n       <use style=\"stroke:#000000;stroke-width:0.8;\" x=\"43.78125\" xlink:href=\"#m623a94f3a3\" y=\"102.087594\"/>\n      </g>\n     </g>\n     <g id=\"text_12\">\n      <!-- 1.2 -->\n      <g transform=\"translate(20.878125 105.886812)scale(0.1 -0.1)\">\n       <use xlink:href=\"#DejaVuSans-49\"/>\n       <use x=\"63.623047\" xlink:href=\"#DejaVuSans-46\"/>\n       <use x=\"95.410156\" xlink:href=\"#DejaVuSans-50\"/>\n      </g>\n     </g>\n    </g>\n    <g id=\"ytick_6\">\n     <g id=\"line2d_12\">\n      <g>\n       <use style=\"stroke:#000000;stroke-width:0.8;\" x=\"43.78125\" xlink:href=\"#m623a94f3a3\" y=\"69.517616\"/>\n      </g>\n     </g>\n     <g id=\"text_13\">\n      <!-- 1.4 -->\n      <g transform=\"translate(20.878125 73.316834)scale(0.1 -0.1)\">\n       <use xlink:href=\"#DejaVuSans-49\"/>\n       <use x=\"63.623047\" xlink:href=\"#DejaVuSans-46\"/>\n       <use x=\"95.410156\" xlink:href=\"#DejaVuSans-52\"/>\n      </g>\n     </g>\n    </g>\n    <g id=\"ytick_7\">\n     <g id=\"line2d_13\">\n      <g>\n       <use style=\"stroke:#000000;stroke-width:0.8;\" x=\"43.78125\" xlink:href=\"#m623a94f3a3\" y=\"36.947637\"/>\n      </g>\n     </g>\n     <g id=\"text_14\">\n      <!-- 1.6 -->\n      <g transform=\"translate(20.878125 40.746856)scale(0.1 -0.1)\">\n       <use xlink:href=\"#DejaVuSans-49\"/>\n       <use x=\"63.623047\" xlink:href=\"#DejaVuSans-46\"/>\n       <use x=\"95.410156\" xlink:href=\"#DejaVuSans-54\"/>\n      </g>\n     </g>\n    </g>\n    <g id=\"text_15\">\n     <!-- loss -->\n     <defs>\n      <path d=\"M 9.421875 75.984375 \nL 18.40625 75.984375 \nL 18.40625 0 \nL 9.421875 0 \nz\n\" id=\"DejaVuSans-108\"/>\n     </defs>\n     <g transform=\"translate(14.798438 140.695937)rotate(-90)scale(0.1 -0.1)\">\n      <use xlink:href=\"#DejaVuSans-108\"/>\n      <use x=\"27.783203\" xlink:href=\"#DejaVuSans-111\"/>\n      <use x=\"88.964844\" xlink:href=\"#DejaVuSans-115\"/>\n      <use x=\"141.064453\" xlink:href=\"#DejaVuSans-115\"/>\n     </g>\n    </g>\n   </g>\n   <g id=\"line2d_14\">\n    <path clip-path=\"url(#pd77f741acb)\" d=\"M 58.999432 32.201761 \nL 65.210935 139.982667 \nL 71.422437 168.69776 \nL 77.63394 181.625294 \nL 83.845443 190.064046 \nL 90.056946 195.842352 \nL 96.268449 200.799198 \nL 102.479951 204.688083 \nL 108.691454 208.180434 \nL 114.902957 210.768527 \nL 121.11446 212.723166 \nL 127.325962 214.570392 \nL 133.537465 216.816793 \nL 139.748968 218.279239 \nL 145.960471 219.625114 \nL 152.171974 221.442303 \nL 158.383476 222.385781 \nL 164.594979 224.993219 \nL 170.806482 225.290047 \nL 177.017985 225.566385 \nL 183.229487 225.836777 \nL 189.44099 226.048677 \nL 195.652493 226.316613 \nL 201.863996 226.495249 \nL 208.075499 226.707625 \nL 214.287001 226.901136 \nL 220.498504 227.185374 \nL 226.710007 227.306226 \nL 232.92151 227.534667 \nL 239.133013 227.70727 \nL 245.344515 228.062187 \nL 251.556018 228.205588 \nL 257.767521 228.311991 \nL 263.979024 228.377817 \nL 270.190526 228.490137 \nL 276.402029 228.54181 \nL 282.613532 228.682536 \nL 288.825035 228.753652 \nL 295.036538 228.917616 \nL 301.24804 228.975749 \nL 307.459543 229.027878 \nL 313.671046 229.142795 \nL 319.882549 229.24536 \nL 326.094051 229.352681 \nL 332.305554 229.389304 \nL 338.517057 229.502245 \nL 344.72856 229.53104 \nL 350.940063 229.735801 \nL 357.151565 229.7393 \nL 363.363068 229.874489 \n\" style=\"fill:none;stroke:#1f77b4;stroke-linecap:square;stroke-width:1.5;\"/>\n   </g>\n   <g id=\"line2d_15\">\n    <path clip-path=\"url(#pd77f741acb)\" d=\"M 58.999432 107.958571 \nL 65.210935 153.851199 \nL 71.422437 171.835033 \nL 77.63394 182.416975 \nL 83.845443 189.272259 \nL 90.056946 193.653541 \nL 96.268449 198.753996 \nL 102.479951 200.727116 \nL 108.691454 201.101015 \nL 114.902957 204.794516 \nL 121.11446 207.114522 \nL 127.325962 209.946843 \nL 133.537465 211.588444 \nL 139.748968 211.311155 \nL 145.960471 214.197028 \nL 152.171974 214.039004 \nL 158.383476 213.99745 \nL 164.594979 216.952899 \nL 170.806482 216.971434 \nL 177.017985 217.471785 \nL 183.229487 217.259016 \nL 189.44099 217.494077 \nL 195.652493 217.177568 \nL 201.863996 217.513315 \nL 208.075499 217.892363 \nL 214.287001 218.275925 \nL 220.498504 217.661826 \nL 226.710007 218.720555 \nL 232.92151 218.525574 \nL 239.133013 218.726205 \nL 245.344515 219.077157 \nL 251.556018 219.195747 \nL 257.767521 219.131019 \nL 263.979024 219.209812 \nL 270.190526 219.001319 \nL 276.402029 219.56009 \nL 282.613532 219.499321 \nL 288.825035 219.382939 \nL 295.036538 219.240267 \nL 301.24804 219.551839 \nL 307.459543 219.669808 \nL 313.671046 219.62805 \nL 319.882549 219.820921 \nL 326.094051 219.885678 \nL 332.305554 219.844168 \nL 338.517057 219.967369 \nL 344.72856 220.022309 \nL 350.940063 220.151135 \nL 357.151565 220.330761 \nL 363.363068 220.451113 \n\" style=\"fill:none;stroke:#ff7f0e;stroke-linecap:square;stroke-width:1.5;\"/>\n   </g>\n   <g id=\"patch_3\">\n    <path d=\"M 43.78125 239.758125 \nL 43.78125 22.318125 \n\" style=\"fill:none;stroke:#000000;stroke-linecap:square;stroke-linejoin:miter;stroke-width:0.8;\"/>\n   </g>\n   <g id=\"patch_4\">\n    <path d=\"M 378.58125 239.758125 \nL 378.58125 22.318125 \n\" style=\"fill:none;stroke:#000000;stroke-linecap:square;stroke-linejoin:miter;stroke-width:0.8;\"/>\n   </g>\n   <g id=\"patch_5\">\n    <path d=\"M 43.78125 239.758125 \nL 378.58125 239.758125 \n\" style=\"fill:none;stroke:#000000;stroke-linecap:square;stroke-linejoin:miter;stroke-width:0.8;\"/>\n   </g>\n   <g id=\"patch_6\">\n    <path d=\"M 43.78125 22.318125 \nL 378.58125 22.318125 \n\" style=\"fill:none;stroke:#000000;stroke-linecap:square;stroke-linejoin:miter;stroke-width:0.8;\"/>\n   </g>\n   <g id=\"text_16\">\n    <!-- Training &amp; Validation - loss -->\n    <defs>\n     <path d=\"M -0.296875 72.90625 \nL 61.375 72.90625 \nL 61.375 64.59375 \nL 35.5 64.59375 \nL 35.5 0 \nL 25.59375 0 \nL 25.59375 64.59375 \nL -0.296875 64.59375 \nz\n\" id=\"DejaVuSans-84\"/>\n     <path d=\"M 41.109375 46.296875 \nQ 39.59375 47.171875 37.8125 47.578125 \nQ 36.03125 48 33.890625 48 \nQ 26.265625 48 22.1875 43.046875 \nQ 18.109375 38.09375 18.109375 28.8125 \nL 18.109375 0 \nL 9.078125 0 \nL 9.078125 54.6875 \nL 18.109375 54.6875 \nL 18.109375 46.1875 \nQ 20.953125 51.171875 25.484375 53.578125 \nQ 30.03125 56 36.53125 56 \nQ 37.453125 56 38.578125 55.875 \nQ 39.703125 55.765625 41.0625 55.515625 \nz\n\" id=\"DejaVuSans-114\"/>\n     <path d=\"M 34.28125 27.484375 \nQ 23.390625 27.484375 19.1875 25 \nQ 14.984375 22.515625 14.984375 16.5 \nQ 14.984375 11.71875 18.140625 8.90625 \nQ 21.296875 6.109375 26.703125 6.109375 \nQ 34.1875 6.109375 38.703125 11.40625 \nQ 43.21875 16.703125 43.21875 25.484375 \nL 43.21875 27.484375 \nz\nM 52.203125 31.203125 \nL 52.203125 0 \nL 43.21875 0 \nL 43.21875 8.296875 \nQ 40.140625 3.328125 35.546875 0.953125 \nQ 30.953125 -1.421875 24.3125 -1.421875 \nQ 15.921875 -1.421875 10.953125 3.296875 \nQ 6 8.015625 6 15.921875 \nQ 6 25.140625 12.171875 29.828125 \nQ 18.359375 34.515625 30.609375 34.515625 \nL 43.21875 34.515625 \nL 43.21875 35.40625 \nQ 43.21875 41.609375 39.140625 45 \nQ 35.0625 48.390625 27.6875 48.390625 \nQ 23 48.390625 18.546875 47.265625 \nQ 14.109375 46.140625 10.015625 43.890625 \nL 10.015625 52.203125 \nQ 14.9375 54.109375 19.578125 55.046875 \nQ 24.21875 56 28.609375 56 \nQ 40.484375 56 46.34375 49.84375 \nQ 52.203125 43.703125 52.203125 31.203125 \nz\n\" id=\"DejaVuSans-97\"/>\n     <path d=\"M 9.421875 54.6875 \nL 18.40625 54.6875 \nL 18.40625 0 \nL 9.421875 0 \nz\nM 9.421875 75.984375 \nL 18.40625 75.984375 \nL 18.40625 64.59375 \nL 9.421875 64.59375 \nz\n\" id=\"DejaVuSans-105\"/>\n     <path d=\"M 54.890625 33.015625 \nL 54.890625 0 \nL 45.90625 0 \nL 45.90625 32.71875 \nQ 45.90625 40.484375 42.875 44.328125 \nQ 39.84375 48.1875 33.796875 48.1875 \nQ 26.515625 48.1875 22.3125 43.546875 \nQ 18.109375 38.921875 18.109375 30.90625 \nL 18.109375 0 \nL 9.078125 0 \nL 9.078125 54.6875 \nL 18.109375 54.6875 \nL 18.109375 46.1875 \nQ 21.34375 51.125 25.703125 53.5625 \nQ 30.078125 56 35.796875 56 \nQ 45.21875 56 50.046875 50.171875 \nQ 54.890625 44.34375 54.890625 33.015625 \nz\n\" id=\"DejaVuSans-110\"/>\n     <path d=\"M 45.40625 27.984375 \nQ 45.40625 37.75 41.375 43.109375 \nQ 37.359375 48.484375 30.078125 48.484375 \nQ 22.859375 48.484375 18.828125 43.109375 \nQ 14.796875 37.75 14.796875 27.984375 \nQ 14.796875 18.265625 18.828125 12.890625 \nQ 22.859375 7.515625 30.078125 7.515625 \nQ 37.359375 7.515625 41.375 12.890625 \nQ 45.40625 18.265625 45.40625 27.984375 \nz\nM 54.390625 6.78125 \nQ 54.390625 -7.171875 48.1875 -13.984375 \nQ 42 -20.796875 29.203125 -20.796875 \nQ 24.46875 -20.796875 20.265625 -20.09375 \nQ 16.0625 -19.390625 12.109375 -17.921875 \nL 12.109375 -9.1875 \nQ 16.0625 -11.328125 19.921875 -12.34375 \nQ 23.78125 -13.375 27.78125 -13.375 \nQ 36.625 -13.375 41.015625 -8.765625 \nQ 45.40625 -4.15625 45.40625 5.171875 \nL 45.40625 9.625 \nQ 42.625 4.78125 38.28125 2.390625 \nQ 33.9375 0 27.875 0 \nQ 17.828125 0 11.671875 7.65625 \nQ 5.515625 15.328125 5.515625 27.984375 \nQ 5.515625 40.671875 11.671875 48.328125 \nQ 17.828125 56 27.875 56 \nQ 33.9375 56 38.28125 53.609375 \nQ 42.625 51.21875 45.40625 46.390625 \nL 45.40625 54.6875 \nL 54.390625 54.6875 \nz\n\" id=\"DejaVuSans-103\"/>\n     <path id=\"DejaVuSans-32\"/>\n     <path d=\"M 24.3125 39.203125 \nQ 19.875 35.25 17.796875 31.3125 \nQ 15.71875 27.390625 15.71875 23.09375 \nQ 15.71875 15.96875 20.890625 11.234375 \nQ 26.078125 6.5 33.890625 6.5 \nQ 38.53125 6.5 42.578125 8.03125 \nQ 46.625 9.578125 50.203125 12.703125 \nz\nM 31.203125 44.671875 \nL 56 19.28125 \nQ 58.890625 23.640625 60.5 28.59375 \nQ 62.109375 33.546875 62.40625 39.109375 \nL 71.484375 39.109375 \nQ 70.90625 32.671875 68.359375 26.359375 \nQ 65.828125 20.0625 61.28125 13.921875 \nL 74.90625 0 \nL 62.59375 0 \nL 55.609375 7.171875 \nQ 50.53125 2.828125 44.96875 0.703125 \nQ 39.40625 -1.421875 33.015625 -1.421875 \nQ 21.234375 -1.421875 13.765625 5.296875 \nQ 6.296875 12.015625 6.296875 22.515625 \nQ 6.296875 28.765625 9.5625 34.25 \nQ 12.84375 39.75 19.390625 44.578125 \nQ 17.046875 47.65625 15.8125 50.703125 \nQ 14.59375 53.765625 14.59375 56.6875 \nQ 14.59375 64.59375 20.015625 69.40625 \nQ 25.4375 74.21875 34.421875 74.21875 \nQ 38.484375 74.21875 42.5 73.34375 \nQ 46.53125 72.46875 50.6875 70.703125 \nL 50.6875 61.8125 \nQ 46.4375 64.109375 42.578125 65.296875 \nQ 38.71875 66.5 35.40625 66.5 \nQ 30.28125 66.5 27.078125 63.78125 \nQ 23.875 61.078125 23.875 56.78125 \nQ 23.875 54.296875 25.3125 51.78125 \nQ 26.765625 49.265625 31.203125 44.671875 \nz\n\" id=\"DejaVuSans-38\"/>\n     <path d=\"M 28.609375 0 \nL 0.78125 72.90625 \nL 11.078125 72.90625 \nL 34.1875 11.53125 \nL 57.328125 72.90625 \nL 67.578125 72.90625 \nL 39.796875 0 \nz\n\" id=\"DejaVuSans-86\"/>\n     <path d=\"M 45.40625 46.390625 \nL 45.40625 75.984375 \nL 54.390625 75.984375 \nL 54.390625 0 \nL 45.40625 0 \nL 45.40625 8.203125 \nQ 42.578125 3.328125 38.25 0.953125 \nQ 33.9375 -1.421875 27.875 -1.421875 \nQ 17.96875 -1.421875 11.734375 6.484375 \nQ 5.515625 14.40625 5.515625 27.296875 \nQ 5.515625 40.1875 11.734375 48.09375 \nQ 17.96875 56 27.875 56 \nQ 33.9375 56 38.25 53.625 \nQ 42.578125 51.265625 45.40625 46.390625 \nz\nM 14.796875 27.296875 \nQ 14.796875 17.390625 18.875 11.75 \nQ 22.953125 6.109375 30.078125 6.109375 \nQ 37.203125 6.109375 41.296875 11.75 \nQ 45.40625 17.390625 45.40625 27.296875 \nQ 45.40625 37.203125 41.296875 42.84375 \nQ 37.203125 48.484375 30.078125 48.484375 \nQ 22.953125 48.484375 18.875 42.84375 \nQ 14.796875 37.203125 14.796875 27.296875 \nz\n\" id=\"DejaVuSans-100\"/>\n     <path d=\"M 18.3125 70.21875 \nL 18.3125 54.6875 \nL 36.8125 54.6875 \nL 36.8125 47.703125 \nL 18.3125 47.703125 \nL 18.3125 18.015625 \nQ 18.3125 11.328125 20.140625 9.421875 \nQ 21.96875 7.515625 27.59375 7.515625 \nL 36.8125 7.515625 \nL 36.8125 0 \nL 27.59375 0 \nQ 17.1875 0 13.234375 3.875 \nQ 9.28125 7.765625 9.28125 18.015625 \nL 9.28125 47.703125 \nL 2.6875 47.703125 \nL 2.6875 54.6875 \nL 9.28125 54.6875 \nL 9.28125 70.21875 \nz\n\" id=\"DejaVuSans-116\"/>\n     <path d=\"M 4.890625 31.390625 \nL 31.203125 31.390625 \nL 31.203125 23.390625 \nL 4.890625 23.390625 \nz\n\" id=\"DejaVuSans-45\"/>\n    </defs>\n    <g transform=\"translate(131.820938 16.318125)scale(0.12 -0.12)\">\n     <use xlink:href=\"#DejaVuSans-84\"/>\n     <use x=\"46.333984\" xlink:href=\"#DejaVuSans-114\"/>\n     <use x=\"87.447266\" xlink:href=\"#DejaVuSans-97\"/>\n     <use x=\"148.726562\" xlink:href=\"#DejaVuSans-105\"/>\n     <use x=\"176.509766\" xlink:href=\"#DejaVuSans-110\"/>\n     <use x=\"239.888672\" xlink:href=\"#DejaVuSans-105\"/>\n     <use x=\"267.671875\" xlink:href=\"#DejaVuSans-110\"/>\n     <use x=\"331.050781\" xlink:href=\"#DejaVuSans-103\"/>\n     <use x=\"394.527344\" xlink:href=\"#DejaVuSans-32\"/>\n     <use x=\"426.314453\" xlink:href=\"#DejaVuSans-38\"/>\n     <use x=\"504.292969\" xlink:href=\"#DejaVuSans-32\"/>\n     <use x=\"536.080078\" xlink:href=\"#DejaVuSans-86\"/>\n     <use x=\"596.738281\" xlink:href=\"#DejaVuSans-97\"/>\n     <use x=\"658.017578\" xlink:href=\"#DejaVuSans-108\"/>\n     <use x=\"685.800781\" xlink:href=\"#DejaVuSans-105\"/>\n     <use x=\"713.583984\" xlink:href=\"#DejaVuSans-100\"/>\n     <use x=\"777.060547\" xlink:href=\"#DejaVuSans-97\"/>\n     <use x=\"838.339844\" xlink:href=\"#DejaVuSans-116\"/>\n     <use x=\"877.548828\" xlink:href=\"#DejaVuSans-105\"/>\n     <use x=\"905.332031\" xlink:href=\"#DejaVuSans-111\"/>\n     <use x=\"966.513672\" xlink:href=\"#DejaVuSans-110\"/>\n     <use x=\"1029.892578\" xlink:href=\"#DejaVuSans-32\"/>\n     <use x=\"1061.679688\" xlink:href=\"#DejaVuSans-45\"/>\n     <use x=\"1097.763672\" xlink:href=\"#DejaVuSans-32\"/>\n     <use x=\"1129.550781\" xlink:href=\"#DejaVuSans-108\"/>\n     <use x=\"1157.333984\" xlink:href=\"#DejaVuSans-111\"/>\n     <use x=\"1218.515625\" xlink:href=\"#DejaVuSans-115\"/>\n     <use x=\"1270.615234\" xlink:href=\"#DejaVuSans-115\"/>\n    </g>\n   </g>\n   <g id=\"legend_1\">\n    <g id=\"patch_7\">\n     <path d=\"M 291.990625 60.230625 \nL 371.58125 60.230625 \nQ 373.58125 60.230625 373.58125 58.230625 \nL 373.58125 29.318125 \nQ 373.58125 27.318125 371.58125 27.318125 \nL 291.990625 27.318125 \nQ 289.990625 27.318125 289.990625 29.318125 \nL 289.990625 58.230625 \nQ 289.990625 60.230625 291.990625 60.230625 \nz\n\" style=\"fill:#ffffff;opacity:0.8;stroke:#cccccc;stroke-linejoin:miter;\"/>\n    </g>\n    <g id=\"line2d_16\">\n     <path d=\"M 293.990625 35.416562 \nL 313.990625 35.416562 \n\" style=\"fill:none;stroke:#1f77b4;stroke-linecap:square;stroke-width:1.5;\"/>\n    </g>\n    <g id=\"line2d_17\"/>\n    <g id=\"text_17\">\n     <!-- train_loss -->\n     <defs>\n      <path d=\"M 50.984375 -16.609375 \nL 50.984375 -23.578125 \nL -0.984375 -23.578125 \nL -0.984375 -16.609375 \nz\n\" id=\"DejaVuSans-95\"/>\n     </defs>\n     <g transform=\"translate(321.990625 38.916562)scale(0.1 -0.1)\">\n      <use xlink:href=\"#DejaVuSans-116\"/>\n      <use x=\"39.208984\" xlink:href=\"#DejaVuSans-114\"/>\n      <use x=\"80.322266\" xlink:href=\"#DejaVuSans-97\"/>\n      <use x=\"141.601562\" xlink:href=\"#DejaVuSans-105\"/>\n      <use x=\"169.384766\" xlink:href=\"#DejaVuSans-110\"/>\n      <use x=\"232.763672\" xlink:href=\"#DejaVuSans-95\"/>\n      <use x=\"282.763672\" xlink:href=\"#DejaVuSans-108\"/>\n      <use x=\"310.546875\" xlink:href=\"#DejaVuSans-111\"/>\n      <use x=\"371.728516\" xlink:href=\"#DejaVuSans-115\"/>\n      <use x=\"423.828125\" xlink:href=\"#DejaVuSans-115\"/>\n     </g>\n    </g>\n    <g id=\"line2d_18\">\n     <path d=\"M 293.990625 50.372812 \nL 313.990625 50.372812 \n\" style=\"fill:none;stroke:#ff7f0e;stroke-linecap:square;stroke-width:1.5;\"/>\n    </g>\n    <g id=\"line2d_19\"/>\n    <g id=\"text_18\">\n     <!-- val_loss -->\n     <defs>\n      <path d=\"M 2.984375 54.6875 \nL 12.5 54.6875 \nL 29.59375 8.796875 \nL 46.6875 54.6875 \nL 56.203125 54.6875 \nL 35.6875 0 \nL 23.484375 0 \nz\n\" id=\"DejaVuSans-118\"/>\n     </defs>\n     <g transform=\"translate(321.990625 53.872812)scale(0.1 -0.1)\">\n      <use xlink:href=\"#DejaVuSans-118\"/>\n      <use x=\"59.179688\" xlink:href=\"#DejaVuSans-97\"/>\n      <use x=\"120.458984\" xlink:href=\"#DejaVuSans-108\"/>\n      <use x=\"148.242188\" xlink:href=\"#DejaVuSans-95\"/>\n      <use x=\"198.242188\" xlink:href=\"#DejaVuSans-108\"/>\n      <use x=\"226.025391\" xlink:href=\"#DejaVuSans-111\"/>\n      <use x=\"287.207031\" xlink:href=\"#DejaVuSans-115\"/>\n      <use x=\"339.306641\" xlink:href=\"#DejaVuSans-115\"/>\n     </g>\n    </g>\n   </g>\n  </g>\n </g>\n <defs>\n  <clipPath id=\"pd77f741acb\">\n   <rect height=\"217.44\" width=\"334.8\" x=\"43.78125\" y=\"22.318125\"/>\n  </clipPath>\n </defs>\n</svg>\n"
          },
          "metadata": {
            "needs_background": "light"
          }
        }
      ]
    },
    {
      "cell_type": "markdown",
      "metadata": {
        "id": "Brdtdtpm44R-"
      },
      "source": [
        "> **Argumentos**\n",
        "\n",
        "Abaixo estão os argumentos comumente usados ​​que você deve saber ao usar `ReduceLROnPlateau` callback, segue:\n",
        "\n",
        "- **`monitor='val_loss'`**: para usar a perda de validação como medida de desempenho para reduzir a taxa de aprendizagem;\n",
        "- **`factor:`** o fator pelo qual a taxa de aprendizagem será reduzida. `new_lr = lr * factor`;\n",
        "- **`patience:`** é o número de épocas sem melhora;\n",
        "- **`min_delta`**: mudança mínima na quantidade monitorada para qualificar como uma melhoria, ou seja, uma mudança absoluta menor que `min_delta`, contará como nenhuma melhoria;\n",
        "- **`mode='auto'`**: deve ser um de `auto`, `min` ou `max`. No modo `'min'`, a taxa de aprendizado será reduzida quando a quantidade monitorada parar de diminuir; no modo `'max'` de aprendizagem, a taxa será reduzida quando a quantidade monitorada parar de aumentar; no modo `'auto'`, a direção é inferida automaticamente a partir do nome da quantidade monitorada e,\n",
        "- **`min_lr`**: limite inferior da taxa de aprendizagem."
      ]
    },
    {
      "cell_type": "markdown",
      "metadata": {
        "id": "cSxFHXAK6zts"
      },
      "source": [
        "#### **5.5. LearningRateScheduler**"
      ]
    },
    {
      "cell_type": "markdown",
      "metadata": {
        "id": "Qdy6cA607B_A"
      },
      "source": [
        "Ao treinar uma rede neural, geralmente é útil reduzir a taxa de aprendizado à medida que o treinamento avança. Isso pode ser feito usando **programações de taxa de aprendizagem ou taxa de aprendizagem adaptativa**. \n",
        "\n",
        "`LearningRateScheduler` é um retorno de chamada integrado para **programações de taxas de aprendizagem**.\n",
        "\n",
        "Vamos ver como `LearningRateScheduler` funciona com a ajuda de um exemplo.\n",
        "\n",
        "Primeiro, vamos importá-lo e criar uma função de programação"
      ]
    },
    {
      "cell_type": "code",
      "metadata": {
        "id": "qGx5XVs61ljN"
      },
      "source": [
        "# importando a função\n",
        "from tensorflow.keras.callbacks import LearningRateScheduler"
      ],
      "execution_count": null,
      "outputs": []
    },
    {
      "cell_type": "code",
      "metadata": {
        "id": "s46wH1RD4fgd"
      },
      "source": [
        "# criando uma função\n",
        "def lr_decay(epoch, lr):\n",
        "    if epoch != 0 and epoch % 5 == 0:\n",
        "        return lr * 0.2\n",
        "\n",
        "    return lr"
      ],
      "execution_count": null,
      "outputs": []
    },
    {
      "cell_type": "code",
      "metadata": {
        "id": "vc-1Gbkw1leo"
      },
      "source": [
        "# criando um modelo\n",
        "model = create_model()"
      ],
      "execution_count": null,
      "outputs": []
    },
    {
      "cell_type": "code",
      "metadata": {
        "colab": {
          "base_uri": "https://localhost:8080/"
        },
        "id": "Fd5FPgFx1lYX",
        "outputId": "818454e6-a1c7-4322-d737-d04ece772112"
      },
      "source": [
        "# treinando o modelo criado\n",
        "history_lr_schedule = model.fit(\n",
        "    X_train,\n",
        "    y_train,\n",
        "    epochs=20,\n",
        "    validation_split= 0.20,\n",
        "    batch_size=64,\n",
        "    verbose=2,\n",
        "    callbacks=[LearningRateScheduler(lr_decay, \n",
        "                                     verbose=1)]\n",
        ")"
      ],
      "execution_count": null,
      "outputs": [
        {
          "output_type": "stream",
          "name": "stdout",
          "text": [
            "Epoch 1/20\n",
            "\n",
            "Epoch 00001: LearningRateScheduler setting learning rate to 0.009999999776482582.\n",
            "125/125 - 1s - loss: 1.6032 - accuracy: 0.5384 - val_loss: 1.1554 - val_accuracy: 0.6545\n",
            "Epoch 2/20\n",
            "\n",
            "Epoch 00002: LearningRateScheduler setting learning rate to 0.009999999776482582.\n",
            "125/125 - 1s - loss: 0.9704 - accuracy: 0.6910 - val_loss: 0.8810 - val_accuracy: 0.7030\n",
            "Epoch 3/20\n",
            "\n",
            "Epoch 00003: LearningRateScheduler setting learning rate to 0.009999999776482582.\n",
            "125/125 - 1s - loss: 0.7965 - accuracy: 0.7362 - val_loss: 0.7720 - val_accuracy: 0.7510\n",
            "Epoch 4/20\n",
            "\n",
            "Epoch 00004: LearningRateScheduler setting learning rate to 0.009999999776482582.\n",
            "125/125 - 0s - loss: 0.7105 - accuracy: 0.7675 - val_loss: 0.7120 - val_accuracy: 0.7610\n",
            "Epoch 5/20\n",
            "\n",
            "Epoch 00005: LearningRateScheduler setting learning rate to 0.009999999776482582.\n",
            "125/125 - 1s - loss: 0.6575 - accuracy: 0.7826 - val_loss: 0.6641 - val_accuracy: 0.7780\n",
            "Epoch 6/20\n",
            "\n",
            "Epoch 00006: LearningRateScheduler setting learning rate to 0.0019999999552965165.\n",
            "125/125 - 1s - loss: 0.6247 - accuracy: 0.7951 - val_loss: 0.6462 - val_accuracy: 0.7910\n",
            "Epoch 7/20\n",
            "\n",
            "Epoch 00007: LearningRateScheduler setting learning rate to 0.001999999862164259.\n",
            "125/125 - 0s - loss: 0.6164 - accuracy: 0.7966 - val_loss: 0.6419 - val_accuracy: 0.7935\n",
            "Epoch 8/20\n",
            "\n",
            "Epoch 00008: LearningRateScheduler setting learning rate to 0.001999999862164259.\n",
            "125/125 - 1s - loss: 0.6096 - accuracy: 0.7993 - val_loss: 0.6332 - val_accuracy: 0.7920\n",
            "Epoch 9/20\n",
            "\n",
            "Epoch 00009: LearningRateScheduler setting learning rate to 0.001999999862164259.\n",
            "125/125 - 1s - loss: 0.6025 - accuracy: 0.8031 - val_loss: 0.6277 - val_accuracy: 0.7935\n",
            "Epoch 10/20\n",
            "\n",
            "Epoch 00010: LearningRateScheduler setting learning rate to 0.001999999862164259.\n",
            "125/125 - 1s - loss: 0.5968 - accuracy: 0.8059 - val_loss: 0.6214 - val_accuracy: 0.7985\n",
            "Epoch 11/20\n",
            "\n",
            "Epoch 00011: LearningRateScheduler setting learning rate to 0.0003999999724328518.\n",
            "125/125 - 1s - loss: 0.5907 - accuracy: 0.8080 - val_loss: 0.6201 - val_accuracy: 0.7960\n",
            "Epoch 12/20\n",
            "\n",
            "Epoch 00012: LearningRateScheduler setting learning rate to 0.0003999999607913196.\n",
            "125/125 - 1s - loss: 0.5894 - accuracy: 0.8084 - val_loss: 0.6193 - val_accuracy: 0.7970\n",
            "Epoch 13/20\n",
            "\n",
            "Epoch 00013: LearningRateScheduler setting learning rate to 0.0003999999607913196.\n",
            "125/125 - 1s - loss: 0.5882 - accuracy: 0.8083 - val_loss: 0.6180 - val_accuracy: 0.8000\n",
            "Epoch 14/20\n",
            "\n",
            "Epoch 00014: LearningRateScheduler setting learning rate to 0.0003999999607913196.\n",
            "125/125 - 1s - loss: 0.5870 - accuracy: 0.8081 - val_loss: 0.6168 - val_accuracy: 0.8000\n",
            "Epoch 15/20\n",
            "\n",
            "Epoch 00015: LearningRateScheduler setting learning rate to 0.0003999999607913196.\n",
            "125/125 - 0s - loss: 0.5858 - accuracy: 0.8102 - val_loss: 0.6155 - val_accuracy: 0.8000\n",
            "Epoch 16/20\n",
            "\n",
            "Epoch 00016: LearningRateScheduler setting learning rate to 7.999999215826393e-05.\n",
            "125/125 - 0s - loss: 0.5847 - accuracy: 0.8092 - val_loss: 0.6153 - val_accuracy: 0.8000\n",
            "Epoch 17/20\n",
            "\n",
            "Epoch 00017: LearningRateScheduler setting learning rate to 7.99999907030724e-05.\n",
            "125/125 - 1s - loss: 0.5844 - accuracy: 0.8101 - val_loss: 0.6151 - val_accuracy: 0.8020\n",
            "Epoch 18/20\n",
            "\n",
            "Epoch 00018: LearningRateScheduler setting learning rate to 7.99999907030724e-05.\n",
            "125/125 - 1s - loss: 0.5842 - accuracy: 0.8109 - val_loss: 0.6149 - val_accuracy: 0.8020\n",
            "Epoch 19/20\n",
            "\n",
            "Epoch 00019: LearningRateScheduler setting learning rate to 7.99999907030724e-05.\n",
            "125/125 - 1s - loss: 0.5840 - accuracy: 0.8101 - val_loss: 0.6146 - val_accuracy: 0.8020\n",
            "Epoch 20/20\n",
            "\n",
            "Epoch 00020: LearningRateScheduler setting learning rate to 7.99999907030724e-05.\n",
            "125/125 - 1s - loss: 0.5837 - accuracy: 0.8106 - val_loss: 0.6144 - val_accuracy: 0.8020\n"
          ]
        }
      ]
    },
    {
      "cell_type": "code",
      "metadata": {
        "colab": {
          "base_uri": "https://localhost:8080/",
          "height": 391
        },
        "id": "ZPzYRbNZ8Fep",
        "outputId": "8f0dd694-0219-4a02-e2c0-6e14e89fda19"
      },
      "source": [
        "# visualizando o histŕico da taxa de aprendizagem\n",
        "plot_learning_rate(history_lr_schedule)"
      ],
      "execution_count": null,
      "outputs": [
        {
          "output_type": "display_data",
          "data": {
            "text/plain": [
              "<Figure size 432x288 with 1 Axes>"
            ],
            "image/svg+xml": "<?xml version=\"1.0\" encoding=\"utf-8\" standalone=\"no\"?>\n<!DOCTYPE svg PUBLIC \"-//W3C//DTD SVG 1.1//EN\"\n  \"http://www.w3.org/Graphics/SVG/1.1/DTD/svg11.dtd\">\n<!-- Created with matplotlib (https://matplotlib.org/) -->\n<svg height=\"277.314375pt\" version=\"1.1\" viewBox=\"0 0 398.50625 277.314375\" width=\"398.50625pt\" xmlns=\"http://www.w3.org/2000/svg\" xmlns:xlink=\"http://www.w3.org/1999/xlink\">\n <defs>\n  <style type=\"text/css\">\n*{stroke-linecap:butt;stroke-linejoin:round;}\n  </style>\n </defs>\n <g id=\"figure_1\">\n  <g id=\"patch_1\">\n   <path d=\"M 0 277.314375 \nL 398.50625 277.314375 \nL 398.50625 0 \nL 0 0 \nz\n\" style=\"fill:none;\"/>\n  </g>\n  <g id=\"axes_1\">\n   <g id=\"patch_2\">\n    <path d=\"M 56.50625 239.758125 \nL 391.30625 239.758125 \nL 391.30625 22.318125 \nL 56.50625 22.318125 \nz\n\" style=\"fill:#ffffff;\"/>\n   </g>\n   <g id=\"matplotlib.axis_1\">\n    <g id=\"xtick_1\">\n     <g id=\"line2d_1\">\n      <defs>\n       <path d=\"M 0 0 \nL 0 3.5 \n\" id=\"m36d14a2c62\" style=\"stroke:#000000;stroke-width:0.8;\"/>\n      </defs>\n      <g>\n       <use style=\"stroke:#000000;stroke-width:0.8;\" x=\"95.75314\" xlink:href=\"#m36d14a2c62\" y=\"239.758125\"/>\n      </g>\n     </g>\n     <g id=\"text_1\">\n      <!-- 2.5 -->\n      <defs>\n       <path d=\"M 19.1875 8.296875 \nL 53.609375 8.296875 \nL 53.609375 0 \nL 7.328125 0 \nL 7.328125 8.296875 \nQ 12.9375 14.109375 22.625 23.890625 \nQ 32.328125 33.6875 34.8125 36.53125 \nQ 39.546875 41.84375 41.421875 45.53125 \nQ 43.3125 49.21875 43.3125 52.78125 \nQ 43.3125 58.59375 39.234375 62.25 \nQ 35.15625 65.921875 28.609375 65.921875 \nQ 23.96875 65.921875 18.8125 64.3125 \nQ 13.671875 62.703125 7.8125 59.421875 \nL 7.8125 69.390625 \nQ 13.765625 71.78125 18.9375 73 \nQ 24.125 74.21875 28.421875 74.21875 \nQ 39.75 74.21875 46.484375 68.546875 \nQ 53.21875 62.890625 53.21875 53.421875 \nQ 53.21875 48.921875 51.53125 44.890625 \nQ 49.859375 40.875 45.40625 35.40625 \nQ 44.1875 33.984375 37.640625 27.21875 \nQ 31.109375 20.453125 19.1875 8.296875 \nz\n\" id=\"DejaVuSans-50\"/>\n       <path d=\"M 10.6875 12.40625 \nL 21 12.40625 \nL 21 0 \nL 10.6875 0 \nz\n\" id=\"DejaVuSans-46\"/>\n       <path d=\"M 10.796875 72.90625 \nL 49.515625 72.90625 \nL 49.515625 64.59375 \nL 19.828125 64.59375 \nL 19.828125 46.734375 \nQ 21.96875 47.46875 24.109375 47.828125 \nQ 26.265625 48.1875 28.421875 48.1875 \nQ 40.625 48.1875 47.75 41.5 \nQ 54.890625 34.8125 54.890625 23.390625 \nQ 54.890625 11.625 47.5625 5.09375 \nQ 40.234375 -1.421875 26.90625 -1.421875 \nQ 22.3125 -1.421875 17.546875 -0.640625 \nQ 12.796875 0.140625 7.71875 1.703125 \nL 7.71875 11.625 \nQ 12.109375 9.234375 16.796875 8.0625 \nQ 21.484375 6.890625 26.703125 6.890625 \nQ 35.15625 6.890625 40.078125 11.328125 \nQ 45.015625 15.765625 45.015625 23.390625 \nQ 45.015625 31 40.078125 35.4375 \nQ 35.15625 39.890625 26.703125 39.890625 \nQ 22.75 39.890625 18.8125 39.015625 \nQ 14.890625 38.140625 10.796875 36.28125 \nz\n\" id=\"DejaVuSans-53\"/>\n      </defs>\n      <g transform=\"translate(87.801577 254.356562)scale(0.1 -0.1)\">\n       <use xlink:href=\"#DejaVuSans-50\"/>\n       <use x=\"63.623047\" xlink:href=\"#DejaVuSans-46\"/>\n       <use x=\"95.410156\" xlink:href=\"#DejaVuSans-53\"/>\n      </g>\n     </g>\n    </g>\n    <g id=\"xtick_2\">\n     <g id=\"line2d_2\">\n      <g>\n       <use style=\"stroke:#000000;stroke-width:0.8;\" x=\"135.800987\" xlink:href=\"#m36d14a2c62\" y=\"239.758125\"/>\n      </g>\n     </g>\n     <g id=\"text_2\">\n      <!-- 5.0 -->\n      <defs>\n       <path d=\"M 31.78125 66.40625 \nQ 24.171875 66.40625 20.328125 58.90625 \nQ 16.5 51.421875 16.5 36.375 \nQ 16.5 21.390625 20.328125 13.890625 \nQ 24.171875 6.390625 31.78125 6.390625 \nQ 39.453125 6.390625 43.28125 13.890625 \nQ 47.125 21.390625 47.125 36.375 \nQ 47.125 51.421875 43.28125 58.90625 \nQ 39.453125 66.40625 31.78125 66.40625 \nz\nM 31.78125 74.21875 \nQ 44.046875 74.21875 50.515625 64.515625 \nQ 56.984375 54.828125 56.984375 36.375 \nQ 56.984375 17.96875 50.515625 8.265625 \nQ 44.046875 -1.421875 31.78125 -1.421875 \nQ 19.53125 -1.421875 13.0625 8.265625 \nQ 6.59375 17.96875 6.59375 36.375 \nQ 6.59375 54.828125 13.0625 64.515625 \nQ 19.53125 74.21875 31.78125 74.21875 \nz\n\" id=\"DejaVuSans-48\"/>\n      </defs>\n      <g transform=\"translate(127.849424 254.356562)scale(0.1 -0.1)\">\n       <use xlink:href=\"#DejaVuSans-53\"/>\n       <use x=\"63.623047\" xlink:href=\"#DejaVuSans-46\"/>\n       <use x=\"95.410156\" xlink:href=\"#DejaVuSans-48\"/>\n      </g>\n     </g>\n    </g>\n    <g id=\"xtick_3\">\n     <g id=\"line2d_3\">\n      <g>\n       <use style=\"stroke:#000000;stroke-width:0.8;\" x=\"175.848834\" xlink:href=\"#m36d14a2c62\" y=\"239.758125\"/>\n      </g>\n     </g>\n     <g id=\"text_3\">\n      <!-- 7.5 -->\n      <defs>\n       <path d=\"M 8.203125 72.90625 \nL 55.078125 72.90625 \nL 55.078125 68.703125 \nL 28.609375 0 \nL 18.3125 0 \nL 43.21875 64.59375 \nL 8.203125 64.59375 \nz\n\" id=\"DejaVuSans-55\"/>\n      </defs>\n      <g transform=\"translate(167.897271 254.356562)scale(0.1 -0.1)\">\n       <use xlink:href=\"#DejaVuSans-55\"/>\n       <use x=\"63.623047\" xlink:href=\"#DejaVuSans-46\"/>\n       <use x=\"95.410156\" xlink:href=\"#DejaVuSans-53\"/>\n      </g>\n     </g>\n    </g>\n    <g id=\"xtick_4\">\n     <g id=\"line2d_4\">\n      <g>\n       <use style=\"stroke:#000000;stroke-width:0.8;\" x=\"215.896681\" xlink:href=\"#m36d14a2c62\" y=\"239.758125\"/>\n      </g>\n     </g>\n     <g id=\"text_4\">\n      <!-- 10.0 -->\n      <defs>\n       <path d=\"M 12.40625 8.296875 \nL 28.515625 8.296875 \nL 28.515625 63.921875 \nL 10.984375 60.40625 \nL 10.984375 69.390625 \nL 28.421875 72.90625 \nL 38.28125 72.90625 \nL 38.28125 8.296875 \nL 54.390625 8.296875 \nL 54.390625 0 \nL 12.40625 0 \nz\n\" id=\"DejaVuSans-49\"/>\n      </defs>\n      <g transform=\"translate(204.763868 254.356562)scale(0.1 -0.1)\">\n       <use xlink:href=\"#DejaVuSans-49\"/>\n       <use x=\"63.623047\" xlink:href=\"#DejaVuSans-48\"/>\n       <use x=\"127.246094\" xlink:href=\"#DejaVuSans-46\"/>\n       <use x=\"159.033203\" xlink:href=\"#DejaVuSans-48\"/>\n      </g>\n     </g>\n    </g>\n    <g id=\"xtick_5\">\n     <g id=\"line2d_5\">\n      <g>\n       <use style=\"stroke:#000000;stroke-width:0.8;\" x=\"255.944528\" xlink:href=\"#m36d14a2c62\" y=\"239.758125\"/>\n      </g>\n     </g>\n     <g id=\"text_5\">\n      <!-- 12.5 -->\n      <g transform=\"translate(244.811715 254.356562)scale(0.1 -0.1)\">\n       <use xlink:href=\"#DejaVuSans-49\"/>\n       <use x=\"63.623047\" xlink:href=\"#DejaVuSans-50\"/>\n       <use x=\"127.246094\" xlink:href=\"#DejaVuSans-46\"/>\n       <use x=\"159.033203\" xlink:href=\"#DejaVuSans-53\"/>\n      </g>\n     </g>\n    </g>\n    <g id=\"xtick_6\">\n     <g id=\"line2d_6\">\n      <g>\n       <use style=\"stroke:#000000;stroke-width:0.8;\" x=\"295.992374\" xlink:href=\"#m36d14a2c62\" y=\"239.758125\"/>\n      </g>\n     </g>\n     <g id=\"text_6\">\n      <!-- 15.0 -->\n      <g transform=\"translate(284.859562 254.356562)scale(0.1 -0.1)\">\n       <use xlink:href=\"#DejaVuSans-49\"/>\n       <use x=\"63.623047\" xlink:href=\"#DejaVuSans-53\"/>\n       <use x=\"127.246094\" xlink:href=\"#DejaVuSans-46\"/>\n       <use x=\"159.033203\" xlink:href=\"#DejaVuSans-48\"/>\n      </g>\n     </g>\n    </g>\n    <g id=\"xtick_7\">\n     <g id=\"line2d_7\">\n      <g>\n       <use style=\"stroke:#000000;stroke-width:0.8;\" x=\"336.040221\" xlink:href=\"#m36d14a2c62\" y=\"239.758125\"/>\n      </g>\n     </g>\n     <g id=\"text_7\">\n      <!-- 17.5 -->\n      <g transform=\"translate(324.907409 254.356562)scale(0.1 -0.1)\">\n       <use xlink:href=\"#DejaVuSans-49\"/>\n       <use x=\"63.623047\" xlink:href=\"#DejaVuSans-55\"/>\n       <use x=\"127.246094\" xlink:href=\"#DejaVuSans-46\"/>\n       <use x=\"159.033203\" xlink:href=\"#DejaVuSans-53\"/>\n      </g>\n     </g>\n    </g>\n    <g id=\"xtick_8\">\n     <g id=\"line2d_8\">\n      <g>\n       <use style=\"stroke:#000000;stroke-width:0.8;\" x=\"376.088068\" xlink:href=\"#m36d14a2c62\" y=\"239.758125\"/>\n      </g>\n     </g>\n     <g id=\"text_8\">\n      <!-- 20.0 -->\n      <g transform=\"translate(364.955256 254.356562)scale(0.1 -0.1)\">\n       <use xlink:href=\"#DejaVuSans-50\"/>\n       <use x=\"63.623047\" xlink:href=\"#DejaVuSans-48\"/>\n       <use x=\"127.246094\" xlink:href=\"#DejaVuSans-46\"/>\n       <use x=\"159.033203\" xlink:href=\"#DejaVuSans-48\"/>\n      </g>\n     </g>\n    </g>\n    <g id=\"text_9\">\n     <!-- Epochs -->\n     <defs>\n      <path d=\"M 9.8125 72.90625 \nL 55.90625 72.90625 \nL 55.90625 64.59375 \nL 19.671875 64.59375 \nL 19.671875 43.015625 \nL 54.390625 43.015625 \nL 54.390625 34.71875 \nL 19.671875 34.71875 \nL 19.671875 8.296875 \nL 56.78125 8.296875 \nL 56.78125 0 \nL 9.8125 0 \nz\n\" id=\"DejaVuSans-69\"/>\n      <path d=\"M 18.109375 8.203125 \nL 18.109375 -20.796875 \nL 9.078125 -20.796875 \nL 9.078125 54.6875 \nL 18.109375 54.6875 \nL 18.109375 46.390625 \nQ 20.953125 51.265625 25.265625 53.625 \nQ 29.59375 56 35.59375 56 \nQ 45.5625 56 51.78125 48.09375 \nQ 58.015625 40.1875 58.015625 27.296875 \nQ 58.015625 14.40625 51.78125 6.484375 \nQ 45.5625 -1.421875 35.59375 -1.421875 \nQ 29.59375 -1.421875 25.265625 0.953125 \nQ 20.953125 3.328125 18.109375 8.203125 \nz\nM 48.6875 27.296875 \nQ 48.6875 37.203125 44.609375 42.84375 \nQ 40.53125 48.484375 33.40625 48.484375 \nQ 26.265625 48.484375 22.1875 42.84375 \nQ 18.109375 37.203125 18.109375 27.296875 \nQ 18.109375 17.390625 22.1875 11.75 \nQ 26.265625 6.109375 33.40625 6.109375 \nQ 40.53125 6.109375 44.609375 11.75 \nQ 48.6875 17.390625 48.6875 27.296875 \nz\n\" id=\"DejaVuSans-112\"/>\n      <path d=\"M 30.609375 48.390625 \nQ 23.390625 48.390625 19.1875 42.75 \nQ 14.984375 37.109375 14.984375 27.296875 \nQ 14.984375 17.484375 19.15625 11.84375 \nQ 23.34375 6.203125 30.609375 6.203125 \nQ 37.796875 6.203125 41.984375 11.859375 \nQ 46.1875 17.53125 46.1875 27.296875 \nQ 46.1875 37.015625 41.984375 42.703125 \nQ 37.796875 48.390625 30.609375 48.390625 \nz\nM 30.609375 56 \nQ 42.328125 56 49.015625 48.375 \nQ 55.71875 40.765625 55.71875 27.296875 \nQ 55.71875 13.875 49.015625 6.21875 \nQ 42.328125 -1.421875 30.609375 -1.421875 \nQ 18.84375 -1.421875 12.171875 6.21875 \nQ 5.515625 13.875 5.515625 27.296875 \nQ 5.515625 40.765625 12.171875 48.375 \nQ 18.84375 56 30.609375 56 \nz\n\" id=\"DejaVuSans-111\"/>\n      <path d=\"M 48.78125 52.59375 \nL 48.78125 44.1875 \nQ 44.96875 46.296875 41.140625 47.34375 \nQ 37.3125 48.390625 33.40625 48.390625 \nQ 24.65625 48.390625 19.8125 42.84375 \nQ 14.984375 37.3125 14.984375 27.296875 \nQ 14.984375 17.28125 19.8125 11.734375 \nQ 24.65625 6.203125 33.40625 6.203125 \nQ 37.3125 6.203125 41.140625 7.25 \nQ 44.96875 8.296875 48.78125 10.40625 \nL 48.78125 2.09375 \nQ 45.015625 0.34375 40.984375 -0.53125 \nQ 36.96875 -1.421875 32.421875 -1.421875 \nQ 20.0625 -1.421875 12.78125 6.34375 \nQ 5.515625 14.109375 5.515625 27.296875 \nQ 5.515625 40.671875 12.859375 48.328125 \nQ 20.21875 56 33.015625 56 \nQ 37.15625 56 41.109375 55.140625 \nQ 45.0625 54.296875 48.78125 52.59375 \nz\n\" id=\"DejaVuSans-99\"/>\n      <path d=\"M 54.890625 33.015625 \nL 54.890625 0 \nL 45.90625 0 \nL 45.90625 32.71875 \nQ 45.90625 40.484375 42.875 44.328125 \nQ 39.84375 48.1875 33.796875 48.1875 \nQ 26.515625 48.1875 22.3125 43.546875 \nQ 18.109375 38.921875 18.109375 30.90625 \nL 18.109375 0 \nL 9.078125 0 \nL 9.078125 75.984375 \nL 18.109375 75.984375 \nL 18.109375 46.1875 \nQ 21.34375 51.125 25.703125 53.5625 \nQ 30.078125 56 35.796875 56 \nQ 45.21875 56 50.046875 50.171875 \nQ 54.890625 44.34375 54.890625 33.015625 \nz\n\" id=\"DejaVuSans-104\"/>\n      <path d=\"M 44.28125 53.078125 \nL 44.28125 44.578125 \nQ 40.484375 46.53125 36.375 47.5 \nQ 32.28125 48.484375 27.875 48.484375 \nQ 21.1875 48.484375 17.84375 46.4375 \nQ 14.5 44.390625 14.5 40.28125 \nQ 14.5 37.15625 16.890625 35.375 \nQ 19.28125 33.59375 26.515625 31.984375 \nL 29.59375 31.296875 \nQ 39.15625 29.25 43.1875 25.515625 \nQ 47.21875 21.78125 47.21875 15.09375 \nQ 47.21875 7.46875 41.1875 3.015625 \nQ 35.15625 -1.421875 24.609375 -1.421875 \nQ 20.21875 -1.421875 15.453125 -0.5625 \nQ 10.6875 0.296875 5.421875 2 \nL 5.421875 11.28125 \nQ 10.40625 8.6875 15.234375 7.390625 \nQ 20.0625 6.109375 24.8125 6.109375 \nQ 31.15625 6.109375 34.5625 8.28125 \nQ 37.984375 10.453125 37.984375 14.40625 \nQ 37.984375 18.0625 35.515625 20.015625 \nQ 33.0625 21.96875 24.703125 23.78125 \nL 21.578125 24.515625 \nQ 13.234375 26.265625 9.515625 29.90625 \nQ 5.8125 33.546875 5.8125 39.890625 \nQ 5.8125 47.609375 11.28125 51.796875 \nQ 16.75 56 26.8125 56 \nQ 31.78125 56 36.171875 55.265625 \nQ 40.578125 54.546875 44.28125 53.078125 \nz\n\" id=\"DejaVuSans-115\"/>\n     </defs>\n     <g transform=\"translate(205.990625 268.034687)scale(0.1 -0.1)\">\n      <use xlink:href=\"#DejaVuSans-69\"/>\n      <use x=\"63.183594\" xlink:href=\"#DejaVuSans-112\"/>\n      <use x=\"126.660156\" xlink:href=\"#DejaVuSans-111\"/>\n      <use x=\"187.841797\" xlink:href=\"#DejaVuSans-99\"/>\n      <use x=\"242.822266\" xlink:href=\"#DejaVuSans-104\"/>\n      <use x=\"306.201172\" xlink:href=\"#DejaVuSans-115\"/>\n     </g>\n    </g>\n   </g>\n   <g id=\"matplotlib.axis_2\">\n    <g id=\"ytick_1\">\n     <g id=\"line2d_9\">\n      <defs>\n       <path d=\"M 0 0 \nL -3.5 0 \n\" id=\"m81e6ae3e29\" style=\"stroke:#000000;stroke-width:0.8;\"/>\n      </defs>\n      <g>\n       <use style=\"stroke:#000000;stroke-width:0.8;\" x=\"56.50625\" xlink:href=\"#m81e6ae3e29\" y=\"231.468623\"/>\n      </g>\n     </g>\n     <g id=\"text_10\">\n      <!-- 0.000 -->\n      <g transform=\"translate(20.878125 235.267842)scale(0.1 -0.1)\">\n       <use xlink:href=\"#DejaVuSans-48\"/>\n       <use x=\"63.623047\" xlink:href=\"#DejaVuSans-46\"/>\n       <use x=\"95.410156\" xlink:href=\"#DejaVuSans-48\"/>\n       <use x=\"159.033203\" xlink:href=\"#DejaVuSans-48\"/>\n       <use x=\"222.65625\" xlink:href=\"#DejaVuSans-48\"/>\n      </g>\n     </g>\n    </g>\n    <g id=\"ytick_2\">\n     <g id=\"line2d_10\">\n      <g>\n       <use style=\"stroke:#000000;stroke-width:0.8;\" x=\"56.50625\" xlink:href=\"#m81e6ae3e29\" y=\"191.61525\"/>\n      </g>\n     </g>\n     <g id=\"text_11\">\n      <!-- 0.002 -->\n      <g transform=\"translate(20.878125 195.414469)scale(0.1 -0.1)\">\n       <use xlink:href=\"#DejaVuSans-48\"/>\n       <use x=\"63.623047\" xlink:href=\"#DejaVuSans-46\"/>\n       <use x=\"95.410156\" xlink:href=\"#DejaVuSans-48\"/>\n       <use x=\"159.033203\" xlink:href=\"#DejaVuSans-48\"/>\n       <use x=\"222.65625\" xlink:href=\"#DejaVuSans-50\"/>\n      </g>\n     </g>\n    </g>\n    <g id=\"ytick_3\">\n     <g id=\"line2d_11\">\n      <g>\n       <use style=\"stroke:#000000;stroke-width:0.8;\" x=\"56.50625\" xlink:href=\"#m81e6ae3e29\" y=\"151.761877\"/>\n      </g>\n     </g>\n     <g id=\"text_12\">\n      <!-- 0.004 -->\n      <defs>\n       <path d=\"M 37.796875 64.3125 \nL 12.890625 25.390625 \nL 37.796875 25.390625 \nz\nM 35.203125 72.90625 \nL 47.609375 72.90625 \nL 47.609375 25.390625 \nL 58.015625 25.390625 \nL 58.015625 17.1875 \nL 47.609375 17.1875 \nL 47.609375 0 \nL 37.796875 0 \nL 37.796875 17.1875 \nL 4.890625 17.1875 \nL 4.890625 26.703125 \nz\n\" id=\"DejaVuSans-52\"/>\n      </defs>\n      <g transform=\"translate(20.878125 155.561096)scale(0.1 -0.1)\">\n       <use xlink:href=\"#DejaVuSans-48\"/>\n       <use x=\"63.623047\" xlink:href=\"#DejaVuSans-46\"/>\n       <use x=\"95.410156\" xlink:href=\"#DejaVuSans-48\"/>\n       <use x=\"159.033203\" xlink:href=\"#DejaVuSans-48\"/>\n       <use x=\"222.65625\" xlink:href=\"#DejaVuSans-52\"/>\n      </g>\n     </g>\n    </g>\n    <g id=\"ytick_4\">\n     <g id=\"line2d_12\">\n      <g>\n       <use style=\"stroke:#000000;stroke-width:0.8;\" x=\"56.50625\" xlink:href=\"#m81e6ae3e29\" y=\"111.908503\"/>\n      </g>\n     </g>\n     <g id=\"text_13\">\n      <!-- 0.006 -->\n      <defs>\n       <path d=\"M 33.015625 40.375 \nQ 26.375 40.375 22.484375 35.828125 \nQ 18.609375 31.296875 18.609375 23.390625 \nQ 18.609375 15.53125 22.484375 10.953125 \nQ 26.375 6.390625 33.015625 6.390625 \nQ 39.65625 6.390625 43.53125 10.953125 \nQ 47.40625 15.53125 47.40625 23.390625 \nQ 47.40625 31.296875 43.53125 35.828125 \nQ 39.65625 40.375 33.015625 40.375 \nz\nM 52.59375 71.296875 \nL 52.59375 62.3125 \nQ 48.875 64.0625 45.09375 64.984375 \nQ 41.3125 65.921875 37.59375 65.921875 \nQ 27.828125 65.921875 22.671875 59.328125 \nQ 17.53125 52.734375 16.796875 39.40625 \nQ 19.671875 43.65625 24.015625 45.921875 \nQ 28.375 48.1875 33.59375 48.1875 \nQ 44.578125 48.1875 50.953125 41.515625 \nQ 57.328125 34.859375 57.328125 23.390625 \nQ 57.328125 12.15625 50.6875 5.359375 \nQ 44.046875 -1.421875 33.015625 -1.421875 \nQ 20.359375 -1.421875 13.671875 8.265625 \nQ 6.984375 17.96875 6.984375 36.375 \nQ 6.984375 53.65625 15.1875 63.9375 \nQ 23.390625 74.21875 37.203125 74.21875 \nQ 40.921875 74.21875 44.703125 73.484375 \nQ 48.484375 72.75 52.59375 71.296875 \nz\n\" id=\"DejaVuSans-54\"/>\n      </defs>\n      <g transform=\"translate(20.878125 115.707722)scale(0.1 -0.1)\">\n       <use xlink:href=\"#DejaVuSans-48\"/>\n       <use x=\"63.623047\" xlink:href=\"#DejaVuSans-46\"/>\n       <use x=\"95.410156\" xlink:href=\"#DejaVuSans-48\"/>\n       <use x=\"159.033203\" xlink:href=\"#DejaVuSans-48\"/>\n       <use x=\"222.65625\" xlink:href=\"#DejaVuSans-54\"/>\n      </g>\n     </g>\n    </g>\n    <g id=\"ytick_5\">\n     <g id=\"line2d_13\">\n      <g>\n       <use style=\"stroke:#000000;stroke-width:0.8;\" x=\"56.50625\" xlink:href=\"#m81e6ae3e29\" y=\"72.05513\"/>\n      </g>\n     </g>\n     <g id=\"text_14\">\n      <!-- 0.008 -->\n      <defs>\n       <path d=\"M 31.78125 34.625 \nQ 24.75 34.625 20.71875 30.859375 \nQ 16.703125 27.09375 16.703125 20.515625 \nQ 16.703125 13.921875 20.71875 10.15625 \nQ 24.75 6.390625 31.78125 6.390625 \nQ 38.8125 6.390625 42.859375 10.171875 \nQ 46.921875 13.96875 46.921875 20.515625 \nQ 46.921875 27.09375 42.890625 30.859375 \nQ 38.875 34.625 31.78125 34.625 \nz\nM 21.921875 38.8125 \nQ 15.578125 40.375 12.03125 44.71875 \nQ 8.5 49.078125 8.5 55.328125 \nQ 8.5 64.0625 14.71875 69.140625 \nQ 20.953125 74.21875 31.78125 74.21875 \nQ 42.671875 74.21875 48.875 69.140625 \nQ 55.078125 64.0625 55.078125 55.328125 \nQ 55.078125 49.078125 51.53125 44.71875 \nQ 48 40.375 41.703125 38.8125 \nQ 48.828125 37.15625 52.796875 32.3125 \nQ 56.78125 27.484375 56.78125 20.515625 \nQ 56.78125 9.90625 50.3125 4.234375 \nQ 43.84375 -1.421875 31.78125 -1.421875 \nQ 19.734375 -1.421875 13.25 4.234375 \nQ 6.78125 9.90625 6.78125 20.515625 \nQ 6.78125 27.484375 10.78125 32.3125 \nQ 14.796875 37.15625 21.921875 38.8125 \nz\nM 18.3125 54.390625 \nQ 18.3125 48.734375 21.84375 45.5625 \nQ 25.390625 42.390625 31.78125 42.390625 \nQ 38.140625 42.390625 41.71875 45.5625 \nQ 45.3125 48.734375 45.3125 54.390625 \nQ 45.3125 60.0625 41.71875 63.234375 \nQ 38.140625 66.40625 31.78125 66.40625 \nQ 25.390625 66.40625 21.84375 63.234375 \nQ 18.3125 60.0625 18.3125 54.390625 \nz\n\" id=\"DejaVuSans-56\"/>\n      </defs>\n      <g transform=\"translate(20.878125 75.854349)scale(0.1 -0.1)\">\n       <use xlink:href=\"#DejaVuSans-48\"/>\n       <use x=\"63.623047\" xlink:href=\"#DejaVuSans-46\"/>\n       <use x=\"95.410156\" xlink:href=\"#DejaVuSans-48\"/>\n       <use x=\"159.033203\" xlink:href=\"#DejaVuSans-48\"/>\n       <use x=\"222.65625\" xlink:href=\"#DejaVuSans-56\"/>\n      </g>\n     </g>\n    </g>\n    <g id=\"ytick_6\">\n     <g id=\"line2d_14\">\n      <g>\n       <use style=\"stroke:#000000;stroke-width:0.8;\" x=\"56.50625\" xlink:href=\"#m81e6ae3e29\" y=\"32.201757\"/>\n      </g>\n     </g>\n     <g id=\"text_15\">\n      <!-- 0.010 -->\n      <g transform=\"translate(20.878125 36.000976)scale(0.1 -0.1)\">\n       <use xlink:href=\"#DejaVuSans-48\"/>\n       <use x=\"63.623047\" xlink:href=\"#DejaVuSans-46\"/>\n       <use x=\"95.410156\" xlink:href=\"#DejaVuSans-48\"/>\n       <use x=\"159.033203\" xlink:href=\"#DejaVuSans-49\"/>\n       <use x=\"222.65625\" xlink:href=\"#DejaVuSans-48\"/>\n      </g>\n     </g>\n    </g>\n    <g id=\"text_16\">\n     <!-- Learning rate -->\n     <defs>\n      <path d=\"M 9.8125 72.90625 \nL 19.671875 72.90625 \nL 19.671875 8.296875 \nL 55.171875 8.296875 \nL 55.171875 0 \nL 9.8125 0 \nz\n\" id=\"DejaVuSans-76\"/>\n      <path d=\"M 56.203125 29.59375 \nL 56.203125 25.203125 \nL 14.890625 25.203125 \nQ 15.484375 15.921875 20.484375 11.0625 \nQ 25.484375 6.203125 34.421875 6.203125 \nQ 39.59375 6.203125 44.453125 7.46875 \nQ 49.3125 8.734375 54.109375 11.28125 \nL 54.109375 2.78125 \nQ 49.265625 0.734375 44.1875 -0.34375 \nQ 39.109375 -1.421875 33.890625 -1.421875 \nQ 20.796875 -1.421875 13.15625 6.1875 \nQ 5.515625 13.8125 5.515625 26.8125 \nQ 5.515625 40.234375 12.765625 48.109375 \nQ 20.015625 56 32.328125 56 \nQ 43.359375 56 49.78125 48.890625 \nQ 56.203125 41.796875 56.203125 29.59375 \nz\nM 47.21875 32.234375 \nQ 47.125 39.59375 43.09375 43.984375 \nQ 39.0625 48.390625 32.421875 48.390625 \nQ 24.90625 48.390625 20.390625 44.140625 \nQ 15.875 39.890625 15.1875 32.171875 \nz\n\" id=\"DejaVuSans-101\"/>\n      <path d=\"M 34.28125 27.484375 \nQ 23.390625 27.484375 19.1875 25 \nQ 14.984375 22.515625 14.984375 16.5 \nQ 14.984375 11.71875 18.140625 8.90625 \nQ 21.296875 6.109375 26.703125 6.109375 \nQ 34.1875 6.109375 38.703125 11.40625 \nQ 43.21875 16.703125 43.21875 25.484375 \nL 43.21875 27.484375 \nz\nM 52.203125 31.203125 \nL 52.203125 0 \nL 43.21875 0 \nL 43.21875 8.296875 \nQ 40.140625 3.328125 35.546875 0.953125 \nQ 30.953125 -1.421875 24.3125 -1.421875 \nQ 15.921875 -1.421875 10.953125 3.296875 \nQ 6 8.015625 6 15.921875 \nQ 6 25.140625 12.171875 29.828125 \nQ 18.359375 34.515625 30.609375 34.515625 \nL 43.21875 34.515625 \nL 43.21875 35.40625 \nQ 43.21875 41.609375 39.140625 45 \nQ 35.0625 48.390625 27.6875 48.390625 \nQ 23 48.390625 18.546875 47.265625 \nQ 14.109375 46.140625 10.015625 43.890625 \nL 10.015625 52.203125 \nQ 14.9375 54.109375 19.578125 55.046875 \nQ 24.21875 56 28.609375 56 \nQ 40.484375 56 46.34375 49.84375 \nQ 52.203125 43.703125 52.203125 31.203125 \nz\n\" id=\"DejaVuSans-97\"/>\n      <path d=\"M 41.109375 46.296875 \nQ 39.59375 47.171875 37.8125 47.578125 \nQ 36.03125 48 33.890625 48 \nQ 26.265625 48 22.1875 43.046875 \nQ 18.109375 38.09375 18.109375 28.8125 \nL 18.109375 0 \nL 9.078125 0 \nL 9.078125 54.6875 \nL 18.109375 54.6875 \nL 18.109375 46.1875 \nQ 20.953125 51.171875 25.484375 53.578125 \nQ 30.03125 56 36.53125 56 \nQ 37.453125 56 38.578125 55.875 \nQ 39.703125 55.765625 41.0625 55.515625 \nz\n\" id=\"DejaVuSans-114\"/>\n      <path d=\"M 54.890625 33.015625 \nL 54.890625 0 \nL 45.90625 0 \nL 45.90625 32.71875 \nQ 45.90625 40.484375 42.875 44.328125 \nQ 39.84375 48.1875 33.796875 48.1875 \nQ 26.515625 48.1875 22.3125 43.546875 \nQ 18.109375 38.921875 18.109375 30.90625 \nL 18.109375 0 \nL 9.078125 0 \nL 9.078125 54.6875 \nL 18.109375 54.6875 \nL 18.109375 46.1875 \nQ 21.34375 51.125 25.703125 53.5625 \nQ 30.078125 56 35.796875 56 \nQ 45.21875 56 50.046875 50.171875 \nQ 54.890625 44.34375 54.890625 33.015625 \nz\n\" id=\"DejaVuSans-110\"/>\n      <path d=\"M 9.421875 54.6875 \nL 18.40625 54.6875 \nL 18.40625 0 \nL 9.421875 0 \nz\nM 9.421875 75.984375 \nL 18.40625 75.984375 \nL 18.40625 64.59375 \nL 9.421875 64.59375 \nz\n\" id=\"DejaVuSans-105\"/>\n      <path d=\"M 45.40625 27.984375 \nQ 45.40625 37.75 41.375 43.109375 \nQ 37.359375 48.484375 30.078125 48.484375 \nQ 22.859375 48.484375 18.828125 43.109375 \nQ 14.796875 37.75 14.796875 27.984375 \nQ 14.796875 18.265625 18.828125 12.890625 \nQ 22.859375 7.515625 30.078125 7.515625 \nQ 37.359375 7.515625 41.375 12.890625 \nQ 45.40625 18.265625 45.40625 27.984375 \nz\nM 54.390625 6.78125 \nQ 54.390625 -7.171875 48.1875 -13.984375 \nQ 42 -20.796875 29.203125 -20.796875 \nQ 24.46875 -20.796875 20.265625 -20.09375 \nQ 16.0625 -19.390625 12.109375 -17.921875 \nL 12.109375 -9.1875 \nQ 16.0625 -11.328125 19.921875 -12.34375 \nQ 23.78125 -13.375 27.78125 -13.375 \nQ 36.625 -13.375 41.015625 -8.765625 \nQ 45.40625 -4.15625 45.40625 5.171875 \nL 45.40625 9.625 \nQ 42.625 4.78125 38.28125 2.390625 \nQ 33.9375 0 27.875 0 \nQ 17.828125 0 11.671875 7.65625 \nQ 5.515625 15.328125 5.515625 27.984375 \nQ 5.515625 40.671875 11.671875 48.328125 \nQ 17.828125 56 27.875 56 \nQ 33.9375 56 38.28125 53.609375 \nQ 42.625 51.21875 45.40625 46.390625 \nL 45.40625 54.6875 \nL 54.390625 54.6875 \nz\n\" id=\"DejaVuSans-103\"/>\n      <path id=\"DejaVuSans-32\"/>\n      <path d=\"M 18.3125 70.21875 \nL 18.3125 54.6875 \nL 36.8125 54.6875 \nL 36.8125 47.703125 \nL 18.3125 47.703125 \nL 18.3125 18.015625 \nQ 18.3125 11.328125 20.140625 9.421875 \nQ 21.96875 7.515625 27.59375 7.515625 \nL 36.8125 7.515625 \nL 36.8125 0 \nL 27.59375 0 \nQ 17.1875 0 13.234375 3.875 \nQ 9.28125 7.765625 9.28125 18.015625 \nL 9.28125 47.703125 \nL 2.6875 47.703125 \nL 2.6875 54.6875 \nL 9.28125 54.6875 \nL 9.28125 70.21875 \nz\n\" id=\"DejaVuSans-116\"/>\n     </defs>\n     <g transform=\"translate(14.798437 164.49125)rotate(-90)scale(0.1 -0.1)\">\n      <use xlink:href=\"#DejaVuSans-76\"/>\n      <use x=\"53.962891\" xlink:href=\"#DejaVuSans-101\"/>\n      <use x=\"115.486328\" xlink:href=\"#DejaVuSans-97\"/>\n      <use x=\"176.765625\" xlink:href=\"#DejaVuSans-114\"/>\n      <use x=\"216.128906\" xlink:href=\"#DejaVuSans-110\"/>\n      <use x=\"279.507812\" xlink:href=\"#DejaVuSans-105\"/>\n      <use x=\"307.291016\" xlink:href=\"#DejaVuSans-110\"/>\n      <use x=\"370.669922\" xlink:href=\"#DejaVuSans-103\"/>\n      <use x=\"434.146484\" xlink:href=\"#DejaVuSans-32\"/>\n      <use x=\"465.933594\" xlink:href=\"#DejaVuSans-114\"/>\n      <use x=\"507.046875\" xlink:href=\"#DejaVuSans-97\"/>\n      <use x=\"568.326172\" xlink:href=\"#DejaVuSans-116\"/>\n      <use x=\"607.535156\" xlink:href=\"#DejaVuSans-101\"/>\n     </g>\n    </g>\n   </g>\n   <g id=\"line2d_15\">\n    <path clip-path=\"url(#p180d5f841d)\" d=\"M 71.724432 32.201761 \nL 87.743571 32.201761 \nL 103.762709 32.201761 \nL 119.781848 32.201761 \nL 135.800987 32.201761 \nL 151.820126 191.615253 \nL 167.839264 191.615253 \nL 183.858403 191.615253 \nL 199.877542 191.615253 \nL 215.896681 191.615253 \nL 231.915819 223.49795 \nL 247.934958 223.49795 \nL 263.954097 223.49795 \nL 279.973236 223.49795 \nL 295.992374 223.49795 \nL 312.011513 229.874489 \nL 328.030652 229.874489 \nL 344.049791 229.874489 \nL 360.068929 229.874489 \nL 376.088068 229.874489 \n\" style=\"fill:none;stroke:#1f77b4;stroke-linecap:square;stroke-width:1.5;\"/>\n   </g>\n   <g id=\"patch_3\">\n    <path d=\"M 56.50625 239.758125 \nL 56.50625 22.318125 \n\" style=\"fill:none;stroke:#000000;stroke-linecap:square;stroke-linejoin:miter;stroke-width:0.8;\"/>\n   </g>\n   <g id=\"patch_4\">\n    <path d=\"M 391.30625 239.758125 \nL 391.30625 22.318125 \n\" style=\"fill:none;stroke:#000000;stroke-linecap:square;stroke-linejoin:miter;stroke-width:0.8;\"/>\n   </g>\n   <g id=\"patch_5\">\n    <path d=\"M 56.50625 239.758125 \nL 391.30625 239.758125 \n\" style=\"fill:none;stroke:#000000;stroke-linecap:square;stroke-linejoin:miter;stroke-width:0.8;\"/>\n   </g>\n   <g id=\"patch_6\">\n    <path d=\"M 56.50625 22.318125 \nL 391.30625 22.318125 \n\" style=\"fill:none;stroke:#000000;stroke-linecap:square;stroke-linejoin:miter;stroke-width:0.8;\"/>\n   </g>\n   <g id=\"text_17\">\n    <!-- Learning rate -->\n    <g transform=\"translate(183.7625 16.318125)scale(0.12 -0.12)\">\n     <use xlink:href=\"#DejaVuSans-76\"/>\n     <use x=\"53.962891\" xlink:href=\"#DejaVuSans-101\"/>\n     <use x=\"115.486328\" xlink:href=\"#DejaVuSans-97\"/>\n     <use x=\"176.765625\" xlink:href=\"#DejaVuSans-114\"/>\n     <use x=\"216.128906\" xlink:href=\"#DejaVuSans-110\"/>\n     <use x=\"279.507812\" xlink:href=\"#DejaVuSans-105\"/>\n     <use x=\"307.291016\" xlink:href=\"#DejaVuSans-110\"/>\n     <use x=\"370.669922\" xlink:href=\"#DejaVuSans-103\"/>\n     <use x=\"434.146484\" xlink:href=\"#DejaVuSans-32\"/>\n     <use x=\"465.933594\" xlink:href=\"#DejaVuSans-114\"/>\n     <use x=\"507.046875\" xlink:href=\"#DejaVuSans-97\"/>\n     <use x=\"568.326172\" xlink:href=\"#DejaVuSans-116\"/>\n     <use x=\"607.535156\" xlink:href=\"#DejaVuSans-101\"/>\n    </g>\n   </g>\n  </g>\n </g>\n <defs>\n  <clipPath id=\"p180d5f841d\">\n   <rect height=\"217.44\" width=\"334.8\" x=\"56.50625\" y=\"22.318125\"/>\n  </clipPath>\n </defs>\n</svg>\n"
          },
          "metadata": {
            "needs_background": "light"
          }
        }
      ]
    },
    {
      "cell_type": "markdown",
      "metadata": {
        "id": "9YnW8zhS9DOP"
      },
      "source": [
        "#### **5.6. LambdaCallback**"
      ]
    },
    {
      "cell_type": "markdown",
      "metadata": {
        "id": "naWt4qB79v41"
      },
      "source": [
        "Outro retorno de chamada útil é `LambdaCallback`. É semelhante a `Callback` e nos permite construir retornos de chamada personalizados dinamicamente."
      ]
    },
    {
      "cell_type": "markdown",
      "metadata": {
        "id": "BbphtMYE924v"
      },
      "source": [
        "`LambdaCallback` é construído com as seguintes funções anônimas que serão chamadas no momento apropriado.\n",
        "\n",
        "- **`on_epoch_begin`**: chamado no início de cada época;\n",
        "- **`on_epoch_end`**: chamado no final de cada época;\n",
        "- **`on_batch_begin`**: chamado no início de cada lote;\n",
        "- **`on_batch_end`**: chamado no final de cada lote;\n",
        "- **`on_train_begin`**: chamado no início do treinamento do modelo;\n",
        "- **`on_train_end`**: chamado no final do treinamento do modelo;\n",
        "\n",
        " - **`on_epoch_begin`** e **`on_epoch_end`** espera dois argumentos posicionais: `epoch` e `logs`;\n",
        " - **`on_batch_begin`** e **`on_batch_end`** espera dois argumentos posicionais: `batch` e `logs` e,\n",
        " - **`on_train_begin`** e **`on_train_end`** espera um argumento posicional: `logs`."
      ]
    },
    {
      "cell_type": "markdown",
      "metadata": {
        "id": "WnJrHegv-_zL"
      },
      "source": [
        "Primeiro, vamos importá-lo e criar 3 diferentes `LambdaCallback`."
      ]
    },
    {
      "cell_type": "code",
      "metadata": {
        "id": "K1MWieV1_WHV"
      },
      "source": [
        "# importando a função\n",
        "from tensorflow.keras.callbacks import LambdaCallback"
      ],
      "execution_count": null,
      "outputs": []
    },
    {
      "cell_type": "code",
      "metadata": {
        "id": "WSXzRqj01lVe"
      },
      "source": [
        "# instanciando 3 tipos de \"LambdaCallback\"\n",
        "epoch_callback = LambdaCallback(\n",
        "    on_epoch_begin=lambda epoch, logs: print('Starting epoch {}!'.\n",
        "                                             format(epoch + 1))\n",
        ")\n",
        "\n",
        "batch_loss_callback = LambdaCallback(\n",
        "    on_batck_end=lambda batch, logs: print('\\nAfter batch {}, the loss is {:7.2f}.'.\n",
        "                                           format(batch, logs['loss']))\n",
        ")\n",
        "\n",
        "train_finish_callback = LambdaCallback(\n",
        "    on_train_end=lambda logs: print('Training finished!')\n",
        ")"
      ],
      "execution_count": null,
      "outputs": []
    },
    {
      "cell_type": "code",
      "metadata": {
        "id": "57cuU8Op_Ywa"
      },
      "source": [
        "# criando um modelo\n",
        "model = create_model()"
      ],
      "execution_count": null,
      "outputs": []
    },
    {
      "cell_type": "code",
      "metadata": {
        "colab": {
          "base_uri": "https://localhost:8080/"
        },
        "id": "Q0-ma-Go_YuJ",
        "outputId": "24b879a3-6cbe-424e-a29a-5c2bf213a13f"
      },
      "source": [
        "# treinando o modelo\n",
        "history_lambda_callback = model.fit(\n",
        "    X_train,\n",
        "    y_test,\n",
        "    epochs=50,              # mude a época para 2 para fins de demonstração\n",
        "    validation_split=0.20,  \n",
        "    batch_size=64,          # mudar para 2000 para fins de demonstração\n",
        "    verbose=False,\n",
        "    callbacks=[epoch_callback, \n",
        "               batch_loss_callback, \n",
        "               train_finish_callback]\n",
        ")"
      ],
      "execution_count": null,
      "outputs": [
        {
          "output_type": "stream",
          "name": "stdout",
          "text": [
            "Starting epoch 1!\n",
            "Starting epoch 2!\n",
            "Starting epoch 3!\n",
            "Starting epoch 4!\n",
            "Starting epoch 5!\n",
            "Starting epoch 6!\n",
            "Starting epoch 7!\n",
            "Starting epoch 8!\n",
            "Starting epoch 9!\n",
            "Starting epoch 10!\n",
            "Starting epoch 11!\n",
            "Starting epoch 12!\n",
            "Starting epoch 13!\n",
            "Starting epoch 14!\n",
            "Starting epoch 15!\n",
            "Starting epoch 16!\n",
            "Starting epoch 17!\n",
            "Starting epoch 18!\n",
            "Starting epoch 19!\n",
            "Starting epoch 20!\n",
            "Starting epoch 21!\n",
            "Starting epoch 22!\n",
            "Starting epoch 23!\n",
            "Starting epoch 24!\n",
            "Starting epoch 25!\n",
            "Starting epoch 26!\n",
            "Starting epoch 27!\n",
            "Starting epoch 28!\n",
            "Starting epoch 29!\n",
            "Starting epoch 30!\n",
            "Starting epoch 31!\n",
            "Starting epoch 32!\n",
            "Starting epoch 33!\n",
            "Starting epoch 34!\n",
            "Starting epoch 35!\n",
            "Starting epoch 36!\n",
            "Starting epoch 37!\n",
            "Starting epoch 38!\n",
            "Starting epoch 39!\n",
            "Starting epoch 40!\n",
            "Starting epoch 41!\n",
            "Starting epoch 42!\n",
            "Starting epoch 43!\n",
            "Starting epoch 44!\n",
            "Starting epoch 45!\n",
            "Starting epoch 46!\n",
            "Starting epoch 47!\n",
            "Starting epoch 48!\n",
            "Starting epoch 49!\n",
            "Starting epoch 50!\n",
            "Training finished!\n"
          ]
        }
      ]
    },
    {
      "cell_type": "markdown",
      "metadata": {
        "id": "BTUqNsq5ER1K"
      },
      "source": [
        "### **6. Outras funções de retorno de chamada**\n",
        "\n",
        "Junto com as funções acima, existem outros retornos de chamada que você pode encontrar ou usar em seu projeto de Aprendizado Profundo:\n",
        "\n",
        "- **`Callback`**: esta é a classe base usada para construir um retorno de chamada personalizado. É semelhante, `LambdaCallback` mas muito poderoso;\n",
        "- **`TensorBoard`**: um retorno de chamada grava um _log_ para `TensorBoard`, que é a excelente ferramenta de visualização do **TensorFlow** e, \n",
        "- **`RemoteMonitor`**: um retorno de chamada usado para transmitir eventos para um servidor."
      ]
    },
    {
      "cell_type": "markdown",
      "metadata": {
        "id": "LBv8OUzrDOQS"
      },
      "source": [
        "**Chegamos ao fim!**"
      ]
    },
    {
      "cell_type": "markdown",
      "metadata": {
        "id": "LxugXxoZDSfm"
      },
      "source": [
        "- Este é tutorial, parte dele foi extraído do `medium` do artigo - [A practical introduction to Keras Callbacks](https://medium.com/@bindiatwork/a-practical-introduction-to-keras-callbacks-in-tensorflow-2-705d0c584966)\n"
      ]
    },
    {
      "cell_type": "code",
      "metadata": {
        "id": "aPdm9K8T_Yr3"
      },
      "source": [
        ""
      ],
      "execution_count": null,
      "outputs": []
    },
    {
      "cell_type": "code",
      "metadata": {
        "id": "o2w4NG4l_Ypx"
      },
      "source": [
        ""
      ],
      "execution_count": null,
      "outputs": []
    },
    {
      "cell_type": "code",
      "metadata": {
        "id": "k_8oYG_a_Ym5"
      },
      "source": [
        ""
      ],
      "execution_count": null,
      "outputs": []
    },
    {
      "cell_type": "code",
      "metadata": {
        "id": "u_Nfs5nN_Ykc"
      },
      "source": [
        ""
      ],
      "execution_count": null,
      "outputs": []
    }
  ]
}